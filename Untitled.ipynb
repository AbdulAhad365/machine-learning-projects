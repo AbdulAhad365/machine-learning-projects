{
 "cells": [
  {
   "cell_type": "code",
   "execution_count": 23,
   "id": "df25e7c8-ef18-4e18-96c8-5d068ed636c1",
   "metadata": {},
   "outputs": [],
   "source": [
    "import pandas as pd\n",
    "import numpy as np"
   ]
  },
  {
   "cell_type": "code",
   "execution_count": 24,
   "id": "a57a6787-96d5-4273-87bb-ed6ab6cfdead",
   "metadata": {},
   "outputs": [],
   "source": [
    "movies=pd.read_csv(\"tmdb_5000_movies.csv\")\n",
    "credits=pd.read_csv(\"tmdb_5000_credits.csv\")"
   ]
  },
  {
   "cell_type": "code",
   "execution_count": 30,
   "id": "28c0862d-c59d-494c-aef1-e9f3e98725f6",
   "metadata": {},
   "outputs": [
    {
     "data": {
      "text/plain": [
       "(4803, 20)"
      ]
     },
     "execution_count": 30,
     "metadata": {},
     "output_type": "execute_result"
    }
   ],
   "source": [
    "movies.shape"
   ]
  },
  {
   "cell_type": "code",
   "execution_count": 5,
   "id": "67285e46-0a39-43ec-be03-819de7b5030c",
   "metadata": {},
   "outputs": [
    {
     "data": {
      "text/html": [
       "<div>\n",
       "<style scoped>\n",
       "    .dataframe tbody tr th:only-of-type {\n",
       "        vertical-align: middle;\n",
       "    }\n",
       "\n",
       "    .dataframe tbody tr th {\n",
       "        vertical-align: top;\n",
       "    }\n",
       "\n",
       "    .dataframe thead th {\n",
       "        text-align: right;\n",
       "    }\n",
       "</style>\n",
       "<table border=\"1\" class=\"dataframe\">\n",
       "  <thead>\n",
       "    <tr style=\"text-align: right;\">\n",
       "      <th></th>\n",
       "      <th>movie_id</th>\n",
       "      <th>title</th>\n",
       "      <th>cast</th>\n",
       "      <th>crew</th>\n",
       "    </tr>\n",
       "  </thead>\n",
       "  <tbody>\n",
       "    <tr>\n",
       "      <th>0</th>\n",
       "      <td>19995</td>\n",
       "      <td>Avatar</td>\n",
       "      <td>[{\"cast_id\": 242, \"character\": \"Jake Sully\", \"...</td>\n",
       "      <td>[{\"credit_id\": \"52fe48009251416c750aca23\", \"de...</td>\n",
       "    </tr>\n",
       "  </tbody>\n",
       "</table>\n",
       "</div>"
      ],
      "text/plain": [
       "   movie_id   title                                               cast  \\\n",
       "0     19995  Avatar  [{\"cast_id\": 242, \"character\": \"Jake Sully\", \"...   \n",
       "\n",
       "                                                crew  \n",
       "0  [{\"credit_id\": \"52fe48009251416c750aca23\", \"de...  "
      ]
     },
     "execution_count": 5,
     "metadata": {},
     "output_type": "execute_result"
    }
   ],
   "source": [
    "credits.head(1)"
   ]
  },
  {
   "cell_type": "code",
   "execution_count": 5,
   "id": "08b675a9-cfcd-4eff-b15a-6d8825ced36a",
   "metadata": {},
   "outputs": [
    {
     "data": {
      "text/plain": [
       "array(['[{\"cast_id\": 242, \"character\": \"Jake Sully\", \"credit_id\": \"5602a8a7c3a3685532001c9a\", \"gender\": 2, \"id\": 65731, \"name\": \"Sam Worthington\", \"order\": 0}, {\"cast_id\": 3, \"character\": \"Neytiri\", \"credit_id\": \"52fe48009251416c750ac9cb\", \"gender\": 1, \"id\": 8691, \"name\": \"Zoe Saldana\", \"order\": 1}, {\"cast_id\": 25, \"character\": \"Dr. Grace Augustine\", \"credit_id\": \"52fe48009251416c750aca39\", \"gender\": 1, \"id\": 10205, \"name\": \"Sigourney Weaver\", \"order\": 2}, {\"cast_id\": 4, \"character\": \"Col. Quaritch\", \"credit_id\": \"52fe48009251416c750ac9cf\", \"gender\": 2, \"id\": 32747, \"name\": \"Stephen Lang\", \"order\": 3}, {\"cast_id\": 5, \"character\": \"Trudy Chacon\", \"credit_id\": \"52fe48009251416c750ac9d3\", \"gender\": 1, \"id\": 17647, \"name\": \"Michelle Rodriguez\", \"order\": 4}, {\"cast_id\": 8, \"character\": \"Selfridge\", \"credit_id\": \"52fe48009251416c750ac9e1\", \"gender\": 2, \"id\": 1771, \"name\": \"Giovanni Ribisi\", \"order\": 5}, {\"cast_id\": 7, \"character\": \"Norm Spellman\", \"credit_id\": \"52fe48009251416c750ac9dd\", \"gender\": 2, \"id\": 59231, \"name\": \"Joel David Moore\", \"order\": 6}, {\"cast_id\": 9, \"character\": \"Moat\", \"credit_id\": \"52fe48009251416c750ac9e5\", \"gender\": 1, \"id\": 30485, \"name\": \"CCH Pounder\", \"order\": 7}, {\"cast_id\": 11, \"character\": \"Eytukan\", \"credit_id\": \"52fe48009251416c750ac9ed\", \"gender\": 2, \"id\": 15853, \"name\": \"Wes Studi\", \"order\": 8}, {\"cast_id\": 10, \"character\": \"Tsu\\'Tey\", \"credit_id\": \"52fe48009251416c750ac9e9\", \"gender\": 2, \"id\": 10964, \"name\": \"Laz Alonso\", \"order\": 9}, {\"cast_id\": 12, \"character\": \"Dr. Max Patel\", \"credit_id\": \"52fe48009251416c750ac9f1\", \"gender\": 2, \"id\": 95697, \"name\": \"Dileep Rao\", \"order\": 10}, {\"cast_id\": 13, \"character\": \"Lyle Wainfleet\", \"credit_id\": \"52fe48009251416c750ac9f5\", \"gender\": 2, \"id\": 98215, \"name\": \"Matt Gerald\", \"order\": 11}, {\"cast_id\": 32, \"character\": \"Private Fike\", \"credit_id\": \"52fe48009251416c750aca5b\", \"gender\": 2, \"id\": 154153, \"name\": \"Sean Anthony Moran\", \"order\": 12}, {\"cast_id\": 33, \"character\": \"Cryo Vault Med Tech\", \"credit_id\": \"52fe48009251416c750aca5f\", \"gender\": 2, \"id\": 397312, \"name\": \"Jason Whyte\", \"order\": 13}, {\"cast_id\": 34, \"character\": \"Venture Star Crew Chief\", \"credit_id\": \"52fe48009251416c750aca63\", \"gender\": 2, \"id\": 42317, \"name\": \"Scott Lawrence\", \"order\": 14}, {\"cast_id\": 35, \"character\": \"Lock Up Trooper\", \"credit_id\": \"52fe48009251416c750aca67\", \"gender\": 2, \"id\": 986734, \"name\": \"Kelly Kilgour\", \"order\": 15}, {\"cast_id\": 36, \"character\": \"Shuttle Pilot\", \"credit_id\": \"52fe48009251416c750aca6b\", \"gender\": 0, \"id\": 1207227, \"name\": \"James Patrick Pitt\", \"order\": 16}, {\"cast_id\": 37, \"character\": \"Shuttle Co-Pilot\", \"credit_id\": \"52fe48009251416c750aca6f\", \"gender\": 0, \"id\": 1180936, \"name\": \"Sean Patrick Murphy\", \"order\": 17}, {\"cast_id\": 38, \"character\": \"Shuttle Crew Chief\", \"credit_id\": \"52fe48009251416c750aca73\", \"gender\": 2, \"id\": 1019578, \"name\": \"Peter Dillon\", \"order\": 18}, {\"cast_id\": 39, \"character\": \"Tractor Operator / Troupe\", \"credit_id\": \"52fe48009251416c750aca77\", \"gender\": 0, \"id\": 91443, \"name\": \"Kevin Dorman\", \"order\": 19}, {\"cast_id\": 40, \"character\": \"Dragon Gunship Pilot\", \"credit_id\": \"52fe48009251416c750aca7b\", \"gender\": 2, \"id\": 173391, \"name\": \"Kelson Henderson\", \"order\": 20}, {\"cast_id\": 41, \"character\": \"Dragon Gunship Gunner\", \"credit_id\": \"52fe48009251416c750aca7f\", \"gender\": 0, \"id\": 1207236, \"name\": \"David Van Horn\", \"order\": 21}, {\"cast_id\": 42, \"character\": \"Dragon Gunship Navigator\", \"credit_id\": \"52fe48009251416c750aca83\", \"gender\": 0, \"id\": 215913, \"name\": \"Jacob Tomuri\", \"order\": 22}, {\"cast_id\": 43, \"character\": \"Suit #1\", \"credit_id\": \"52fe48009251416c750aca87\", \"gender\": 0, \"id\": 143206, \"name\": \"Michael Blain-Rozgay\", \"order\": 23}, {\"cast_id\": 44, \"character\": \"Suit #2\", \"credit_id\": \"52fe48009251416c750aca8b\", \"gender\": 2, \"id\": 169676, \"name\": \"Jon Curry\", \"order\": 24}, {\"cast_id\": 46, \"character\": \"Ambient Room Tech\", \"credit_id\": \"52fe48009251416c750aca8f\", \"gender\": 0, \"id\": 1048610, \"name\": \"Luke Hawker\", \"order\": 25}, {\"cast_id\": 47, \"character\": \"Ambient Room Tech / Troupe\", \"credit_id\": \"52fe48009251416c750aca93\", \"gender\": 0, \"id\": 42288, \"name\": \"Woody Schultz\", \"order\": 26}, {\"cast_id\": 48, \"character\": \"Horse Clan Leader\", \"credit_id\": \"52fe48009251416c750aca97\", \"gender\": 2, \"id\": 68278, \"name\": \"Peter Mensah\", \"order\": 27}, {\"cast_id\": 49, \"character\": \"Link Room Tech\", \"credit_id\": \"52fe48009251416c750aca9b\", \"gender\": 0, \"id\": 1207247, \"name\": \"Sonia Yee\", \"order\": 28}, {\"cast_id\": 50, \"character\": \"Basketball Avatar / Troupe\", \"credit_id\": \"52fe48009251416c750aca9f\", \"gender\": 1, \"id\": 1207248, \"name\": \"Jahnel Curfman\", \"order\": 29}, {\"cast_id\": 51, \"character\": \"Basketball Avatar\", \"credit_id\": \"52fe48009251416c750acaa3\", \"gender\": 0, \"id\": 89714, \"name\": \"Ilram Choi\", \"order\": 30}, {\"cast_id\": 52, \"character\": \"Na\\'vi Child\", \"credit_id\": \"52fe48009251416c750acaa7\", \"gender\": 0, \"id\": 1207249, \"name\": \"Kyla Warren\", \"order\": 31}, {\"cast_id\": 53, \"character\": \"Troupe\", \"credit_id\": \"52fe48009251416c750acaab\", \"gender\": 0, \"id\": 1207250, \"name\": \"Lisa Roumain\", \"order\": 32}, {\"cast_id\": 54, \"character\": \"Troupe\", \"credit_id\": \"52fe48009251416c750acaaf\", \"gender\": 1, \"id\": 83105, \"name\": \"Debra Wilson\", \"order\": 33}, {\"cast_id\": 57, \"character\": \"Troupe\", \"credit_id\": \"52fe48009251416c750acabb\", \"gender\": 0, \"id\": 1207253, \"name\": \"Chris Mala\", \"order\": 34}, {\"cast_id\": 55, \"character\": \"Troupe\", \"credit_id\": \"52fe48009251416c750acab3\", \"gender\": 0, \"id\": 1207251, \"name\": \"Taylor Kibby\", \"order\": 35}, {\"cast_id\": 56, \"character\": \"Troupe\", \"credit_id\": \"52fe48009251416c750acab7\", \"gender\": 0, \"id\": 1207252, \"name\": \"Jodie Landau\", \"order\": 36}, {\"cast_id\": 58, \"character\": \"Troupe\", \"credit_id\": \"52fe48009251416c750acabf\", \"gender\": 0, \"id\": 1207254, \"name\": \"Julie Lamm\", \"order\": 37}, {\"cast_id\": 59, \"character\": \"Troupe\", \"credit_id\": \"52fe48009251416c750acac3\", \"gender\": 0, \"id\": 1207257, \"name\": \"Cullen B. Madden\", \"order\": 38}, {\"cast_id\": 60, \"character\": \"Troupe\", \"credit_id\": \"52fe48009251416c750acac7\", \"gender\": 0, \"id\": 1207259, \"name\": \"Joseph Brady Madden\", \"order\": 39}, {\"cast_id\": 61, \"character\": \"Troupe\", \"credit_id\": \"52fe48009251416c750acacb\", \"gender\": 0, \"id\": 1207262, \"name\": \"Frankie Torres\", \"order\": 40}, {\"cast_id\": 62, \"character\": \"Troupe\", \"credit_id\": \"52fe48009251416c750acacf\", \"gender\": 1, \"id\": 1158600, \"name\": \"Austin Wilson\", \"order\": 41}, {\"cast_id\": 63, \"character\": \"Troupe\", \"credit_id\": \"52fe48019251416c750acad3\", \"gender\": 1, \"id\": 983705, \"name\": \"Sara Wilson\", \"order\": 42}, {\"cast_id\": 64, \"character\": \"Troupe\", \"credit_id\": \"52fe48019251416c750acad7\", \"gender\": 0, \"id\": 1207263, \"name\": \"Tamica Washington-Miller\", \"order\": 43}, {\"cast_id\": 65, \"character\": \"Op Center Staff\", \"credit_id\": \"52fe48019251416c750acadb\", \"gender\": 1, \"id\": 1145098, \"name\": \"Lucy Briant\", \"order\": 44}, {\"cast_id\": 66, \"character\": \"Op Center Staff\", \"credit_id\": \"52fe48019251416c750acadf\", \"gender\": 2, \"id\": 33305, \"name\": \"Nathan Meister\", \"order\": 45}, {\"cast_id\": 67, \"character\": \"Op Center Staff\", \"credit_id\": \"52fe48019251416c750acae3\", \"gender\": 0, \"id\": 1207264, \"name\": \"Gerry Blair\", \"order\": 46}, {\"cast_id\": 68, \"character\": \"Op Center Staff\", \"credit_id\": \"52fe48019251416c750acae7\", \"gender\": 2, \"id\": 33311, \"name\": \"Matthew Chamberlain\", \"order\": 47}, {\"cast_id\": 69, \"character\": \"Op Center Staff\", \"credit_id\": \"52fe48019251416c750acaeb\", \"gender\": 0, \"id\": 1207265, \"name\": \"Paul Yates\", \"order\": 48}, {\"cast_id\": 70, \"character\": \"Op Center Duty Officer\", \"credit_id\": \"52fe48019251416c750acaef\", \"gender\": 0, \"id\": 1207266, \"name\": \"Wray Wilson\", \"order\": 49}, {\"cast_id\": 71, \"character\": \"Op Center Staff\", \"credit_id\": \"52fe48019251416c750acaf3\", \"gender\": 2, \"id\": 54492, \"name\": \"James Gaylyn\", \"order\": 50}, {\"cast_id\": 72, \"character\": \"Dancer\", \"credit_id\": \"52fe48019251416c750acaf7\", \"gender\": 0, \"id\": 1207267, \"name\": \"Melvin Leno Clark III\", \"order\": 51}, {\"cast_id\": 73, \"character\": \"Dancer\", \"credit_id\": \"52fe48019251416c750acafb\", \"gender\": 0, \"id\": 1207268, \"name\": \"Carvon Futrell\", \"order\": 52}, {\"cast_id\": 74, \"character\": \"Dancer\", \"credit_id\": \"52fe48019251416c750acaff\", \"gender\": 0, \"id\": 1207269, \"name\": \"Brandon Jelkes\", \"order\": 53}, {\"cast_id\": 75, \"character\": \"Dancer\", \"credit_id\": \"52fe48019251416c750acb03\", \"gender\": 0, \"id\": 1207270, \"name\": \"Micah Moch\", \"order\": 54}, {\"cast_id\": 76, \"character\": \"Dancer\", \"credit_id\": \"52fe48019251416c750acb07\", \"gender\": 0, \"id\": 1207271, \"name\": \"Hanniyah Muhammad\", \"order\": 55}, {\"cast_id\": 77, \"character\": \"Dancer\", \"credit_id\": \"52fe48019251416c750acb0b\", \"gender\": 0, \"id\": 1207272, \"name\": \"Christopher Nolen\", \"order\": 56}, {\"cast_id\": 78, \"character\": \"Dancer\", \"credit_id\": \"52fe48019251416c750acb0f\", \"gender\": 0, \"id\": 1207273, \"name\": \"Christa Oliver\", \"order\": 57}, {\"cast_id\": 79, \"character\": \"Dancer\", \"credit_id\": \"52fe48019251416c750acb13\", \"gender\": 0, \"id\": 1207274, \"name\": \"April Marie Thomas\", \"order\": 58}, {\"cast_id\": 80, \"character\": \"Dancer\", \"credit_id\": \"52fe48019251416c750acb17\", \"gender\": 0, \"id\": 1207275, \"name\": \"Bravita A. Threatt\", \"order\": 59}, {\"cast_id\": 81, \"character\": \"Mining Chief (uncredited)\", \"credit_id\": \"52fe48019251416c750acb1b\", \"gender\": 0, \"id\": 1207276, \"name\": \"Colin Bleasdale\", \"order\": 60}, {\"cast_id\": 82, \"character\": \"Veteran Miner (uncredited)\", \"credit_id\": \"52fe48019251416c750acb1f\", \"gender\": 0, \"id\": 107969, \"name\": \"Mike Bodnar\", \"order\": 61}, {\"cast_id\": 83, \"character\": \"Richard (uncredited)\", \"credit_id\": \"52fe48019251416c750acb23\", \"gender\": 0, \"id\": 1207278, \"name\": \"Matt Clayton\", \"order\": 62}, {\"cast_id\": 84, \"character\": \"Nav\\'i (uncredited)\", \"credit_id\": \"52fe48019251416c750acb27\", \"gender\": 1, \"id\": 147898, \"name\": \"Nicole Dionne\", \"order\": 63}, {\"cast_id\": 85, \"character\": \"Trooper (uncredited)\", \"credit_id\": \"52fe48019251416c750acb2b\", \"gender\": 0, \"id\": 1207280, \"name\": \"Jamie Harrison\", \"order\": 64}, {\"cast_id\": 86, \"character\": \"Trooper (uncredited)\", \"credit_id\": \"52fe48019251416c750acb2f\", \"gender\": 0, \"id\": 1207281, \"name\": \"Allan Henry\", \"order\": 65}, {\"cast_id\": 87, \"character\": \"Ground Technician (uncredited)\", \"credit_id\": \"52fe48019251416c750acb33\", \"gender\": 2, \"id\": 1207282, \"name\": \"Anthony Ingruber\", \"order\": 66}, {\"cast_id\": 88, \"character\": \"Flight Crew Mechanic (uncredited)\", \"credit_id\": \"52fe48019251416c750acb37\", \"gender\": 0, \"id\": 1207283, \"name\": \"Ashley Jeffery\", \"order\": 67}, {\"cast_id\": 14, \"character\": \"Samson Pilot\", \"credit_id\": \"52fe48009251416c750ac9f9\", \"gender\": 0, \"id\": 98216, \"name\": \"Dean Knowsley\", \"order\": 68}, {\"cast_id\": 89, \"character\": \"Trooper (uncredited)\", \"credit_id\": \"52fe48019251416c750acb3b\", \"gender\": 0, \"id\": 1201399, \"name\": \"Joseph Mika-Hunt\", \"order\": 69}, {\"cast_id\": 90, \"character\": \"Banshee (uncredited)\", \"credit_id\": \"52fe48019251416c750acb3f\", \"gender\": 0, \"id\": 236696, \"name\": \"Terry Notary\", \"order\": 70}, {\"cast_id\": 91, \"character\": \"Soldier (uncredited)\", \"credit_id\": \"52fe48019251416c750acb43\", \"gender\": 0, \"id\": 1207287, \"name\": \"Kai Pantano\", \"order\": 71}, {\"cast_id\": 92, \"character\": \"Blast Technician (uncredited)\", \"credit_id\": \"52fe48019251416c750acb47\", \"gender\": 0, \"id\": 1207288, \"name\": \"Logan Pithyou\", \"order\": 72}, {\"cast_id\": 93, \"character\": \"Vindum Raah (uncredited)\", \"credit_id\": \"52fe48019251416c750acb4b\", \"gender\": 0, \"id\": 1207289, \"name\": \"Stuart Pollock\", \"order\": 73}, {\"cast_id\": 94, \"character\": \"Hero (uncredited)\", \"credit_id\": \"52fe48019251416c750acb4f\", \"gender\": 0, \"id\": 584868, \"name\": \"Raja\", \"order\": 74}, {\"cast_id\": 95, \"character\": \"Ops Centreworker (uncredited)\", \"credit_id\": \"52fe48019251416c750acb53\", \"gender\": 0, \"id\": 1207290, \"name\": \"Gareth Ruck\", \"order\": 75}, {\"cast_id\": 96, \"character\": \"Engineer (uncredited)\", \"credit_id\": \"52fe48019251416c750acb57\", \"gender\": 0, \"id\": 1062463, \"name\": \"Rhian Sheehan\", \"order\": 76}, {\"cast_id\": 97, \"character\": \"Col. Quaritch\\'s Mech Suit (uncredited)\", \"credit_id\": \"52fe48019251416c750acb5b\", \"gender\": 0, \"id\": 60656, \"name\": \"T. J. Storm\", \"order\": 77}, {\"cast_id\": 98, \"character\": \"Female Marine (uncredited)\", \"credit_id\": \"52fe48019251416c750acb5f\", \"gender\": 0, \"id\": 1207291, \"name\": \"Jodie Taylor\", \"order\": 78}, {\"cast_id\": 99, \"character\": \"Ikran Clan Leader (uncredited)\", \"credit_id\": \"52fe48019251416c750acb63\", \"gender\": 1, \"id\": 1186027, \"name\": \"Alicia Vela-Bailey\", \"order\": 79}, {\"cast_id\": 100, \"character\": \"Geologist (uncredited)\", \"credit_id\": \"52fe48019251416c750acb67\", \"gender\": 0, \"id\": 1207292, \"name\": \"Richard Whiteside\", \"order\": 80}, {\"cast_id\": 101, \"character\": \"Na\\'vi (uncredited)\", \"credit_id\": \"52fe48019251416c750acb6b\", \"gender\": 0, \"id\": 103259, \"name\": \"Nikie Zambo\", \"order\": 81}, {\"cast_id\": 102, \"character\": \"Ambient Room Tech / Troupe\", \"credit_id\": \"52fe48019251416c750acb6f\", \"gender\": 1, \"id\": 42286, \"name\": \"Julene Renee\", \"order\": 82}]'],\n",
       "      dtype=object)"
      ]
     },
     "execution_count": 5,
     "metadata": {},
     "output_type": "execute_result"
    }
   ],
   "source": [
    "credits.head(1)['cast'].values\n",
    "# credits.head(1)"
   ]
  },
  {
   "cell_type": "code",
   "execution_count": 4,
   "id": "85e401ad-7ad9-4950-b597-03aa54bbc19a",
   "metadata": {},
   "outputs": [
    {
     "data": {
      "text/html": [
       "<div>\n",
       "<style scoped>\n",
       "    .dataframe tbody tr th:only-of-type {\n",
       "        vertical-align: middle;\n",
       "    }\n",
       "\n",
       "    .dataframe tbody tr th {\n",
       "        vertical-align: top;\n",
       "    }\n",
       "\n",
       "    .dataframe thead th {\n",
       "        text-align: right;\n",
       "    }\n",
       "</style>\n",
       "<table border=\"1\" class=\"dataframe\">\n",
       "  <thead>\n",
       "    <tr style=\"text-align: right;\">\n",
       "      <th></th>\n",
       "      <th>budget</th>\n",
       "      <th>genres</th>\n",
       "      <th>homepage</th>\n",
       "      <th>id</th>\n",
       "      <th>keywords</th>\n",
       "      <th>original_language</th>\n",
       "      <th>original_title</th>\n",
       "      <th>overview</th>\n",
       "      <th>popularity</th>\n",
       "      <th>production_companies</th>\n",
       "      <th>...</th>\n",
       "      <th>runtime</th>\n",
       "      <th>spoken_languages</th>\n",
       "      <th>status</th>\n",
       "      <th>tagline</th>\n",
       "      <th>title</th>\n",
       "      <th>vote_average</th>\n",
       "      <th>vote_count</th>\n",
       "      <th>movie_id</th>\n",
       "      <th>cast</th>\n",
       "      <th>crew</th>\n",
       "    </tr>\n",
       "  </thead>\n",
       "  <tbody>\n",
       "    <tr>\n",
       "      <th>0</th>\n",
       "      <td>237000000</td>\n",
       "      <td>[{\"id\": 28, \"name\": \"Action\"}, {\"id\": 12, \"nam...</td>\n",
       "      <td>http://www.avatarmovie.com/</td>\n",
       "      <td>19995</td>\n",
       "      <td>[{\"id\": 1463, \"name\": \"culture clash\"}, {\"id\":...</td>\n",
       "      <td>en</td>\n",
       "      <td>Avatar</td>\n",
       "      <td>In the 22nd century, a paraplegic Marine is di...</td>\n",
       "      <td>150.437577</td>\n",
       "      <td>[{\"name\": \"Ingenious Film Partners\", \"id\": 289...</td>\n",
       "      <td>...</td>\n",
       "      <td>162.0</td>\n",
       "      <td>[{\"iso_639_1\": \"en\", \"name\": \"English\"}, {\"iso...</td>\n",
       "      <td>Released</td>\n",
       "      <td>Enter the World of Pandora.</td>\n",
       "      <td>Avatar</td>\n",
       "      <td>7.2</td>\n",
       "      <td>11800</td>\n",
       "      <td>19995</td>\n",
       "      <td>[{\"cast_id\": 242, \"character\": \"Jake Sully\", \"...</td>\n",
       "      <td>[{\"credit_id\": \"52fe48009251416c750aca23\", \"de...</td>\n",
       "    </tr>\n",
       "  </tbody>\n",
       "</table>\n",
       "<p>1 rows × 23 columns</p>\n",
       "</div>"
      ],
      "text/plain": [
       "      budget                                             genres  \\\n",
       "0  237000000  [{\"id\": 28, \"name\": \"Action\"}, {\"id\": 12, \"nam...   \n",
       "\n",
       "                      homepage     id  \\\n",
       "0  http://www.avatarmovie.com/  19995   \n",
       "\n",
       "                                            keywords original_language  \\\n",
       "0  [{\"id\": 1463, \"name\": \"culture clash\"}, {\"id\":...                en   \n",
       "\n",
       "  original_title                                           overview  \\\n",
       "0         Avatar  In the 22nd century, a paraplegic Marine is di...   \n",
       "\n",
       "   popularity                               production_companies  ... runtime  \\\n",
       "0  150.437577  [{\"name\": \"Ingenious Film Partners\", \"id\": 289...  ...   162.0   \n",
       "\n",
       "                                    spoken_languages    status  \\\n",
       "0  [{\"iso_639_1\": \"en\", \"name\": \"English\"}, {\"iso...  Released   \n",
       "\n",
       "                       tagline   title vote_average vote_count movie_id  \\\n",
       "0  Enter the World of Pandora.  Avatar          7.2      11800    19995   \n",
       "\n",
       "                                                cast  \\\n",
       "0  [{\"cast_id\": 242, \"character\": \"Jake Sully\", \"...   \n",
       "\n",
       "                                                crew  \n",
       "0  [{\"credit_id\": \"52fe48009251416c750aca23\", \"de...  \n",
       "\n",
       "[1 rows x 23 columns]"
      ]
     },
     "execution_count": 4,
     "metadata": {},
     "output_type": "execute_result"
    }
   ],
   "source": [
    "movies=movies.merge(credits,on=\"title\")\n",
    "movies.head(1)"
   ]
  },
  {
   "cell_type": "code",
   "execution_count": 7,
   "id": "584d81e6-8919-44a6-b4c6-3b6be8378e6c",
   "metadata": {},
   "outputs": [
    {
     "name": "stdout",
     "output_type": "stream",
     "text": [
      "<class 'pandas.core.frame.DataFrame'>\n",
      "RangeIndex: 4809 entries, 0 to 4808\n",
      "Data columns (total 23 columns):\n",
      " #   Column                Non-Null Count  Dtype  \n",
      "---  ------                --------------  -----  \n",
      " 0   budget                4809 non-null   int64  \n",
      " 1   genres                4809 non-null   object \n",
      " 2   homepage              1713 non-null   object \n",
      " 3   id                    4809 non-null   int64  \n",
      " 4   keywords              4809 non-null   object \n",
      " 5   original_language     4809 non-null   object \n",
      " 6   original_title        4809 non-null   object \n",
      " 7   overview              4806 non-null   object \n",
      " 8   popularity            4809 non-null   float64\n",
      " 9   production_companies  4809 non-null   object \n",
      " 10  production_countries  4809 non-null   object \n",
      " 11  release_date          4808 non-null   object \n",
      " 12  revenue               4809 non-null   int64  \n",
      " 13  runtime               4807 non-null   float64\n",
      " 14  spoken_languages      4809 non-null   object \n",
      " 15  status                4809 non-null   object \n",
      " 16  tagline               3965 non-null   object \n",
      " 17  title                 4809 non-null   object \n",
      " 18  vote_average          4809 non-null   float64\n",
      " 19  vote_count            4809 non-null   int64  \n",
      " 20  movie_id              4809 non-null   int64  \n",
      " 21  cast                  4809 non-null   object \n",
      " 22  crew                  4809 non-null   object \n",
      "dtypes: float64(3), int64(5), object(15)\n",
      "memory usage: 864.2+ KB\n"
     ]
    },
    {
     "data": {
      "text/html": [
       "<div>\n",
       "<style scoped>\n",
       "    .dataframe tbody tr th:only-of-type {\n",
       "        vertical-align: middle;\n",
       "    }\n",
       "\n",
       "    .dataframe tbody tr th {\n",
       "        vertical-align: top;\n",
       "    }\n",
       "\n",
       "    .dataframe thead th {\n",
       "        text-align: right;\n",
       "    }\n",
       "</style>\n",
       "<table border=\"1\" class=\"dataframe\">\n",
       "  <thead>\n",
       "    <tr style=\"text-align: right;\">\n",
       "      <th></th>\n",
       "      <th>budget</th>\n",
       "      <th>genres</th>\n",
       "      <th>homepage</th>\n",
       "      <th>id</th>\n",
       "      <th>keywords</th>\n",
       "      <th>original_language</th>\n",
       "      <th>original_title</th>\n",
       "      <th>overview</th>\n",
       "      <th>popularity</th>\n",
       "      <th>production_companies</th>\n",
       "      <th>...</th>\n",
       "      <th>runtime</th>\n",
       "      <th>spoken_languages</th>\n",
       "      <th>status</th>\n",
       "      <th>tagline</th>\n",
       "      <th>title</th>\n",
       "      <th>vote_average</th>\n",
       "      <th>vote_count</th>\n",
       "      <th>movie_id</th>\n",
       "      <th>cast</th>\n",
       "      <th>crew</th>\n",
       "    </tr>\n",
       "  </thead>\n",
       "  <tbody>\n",
       "    <tr>\n",
       "      <th>0</th>\n",
       "      <td>237000000</td>\n",
       "      <td>[{\"id\": 28, \"name\": \"Action\"}, {\"id\": 12, \"nam...</td>\n",
       "      <td>http://www.avatarmovie.com/</td>\n",
       "      <td>19995</td>\n",
       "      <td>[{\"id\": 1463, \"name\": \"culture clash\"}, {\"id\":...</td>\n",
       "      <td>en</td>\n",
       "      <td>Avatar</td>\n",
       "      <td>In the 22nd century, a paraplegic Marine is di...</td>\n",
       "      <td>150.437577</td>\n",
       "      <td>[{\"name\": \"Ingenious Film Partners\", \"id\": 289...</td>\n",
       "      <td>...</td>\n",
       "      <td>162.0</td>\n",
       "      <td>[{\"iso_639_1\": \"en\", \"name\": \"English\"}, {\"iso...</td>\n",
       "      <td>Released</td>\n",
       "      <td>Enter the World of Pandora.</td>\n",
       "      <td>Avatar</td>\n",
       "      <td>7.2</td>\n",
       "      <td>11800</td>\n",
       "      <td>19995</td>\n",
       "      <td>[{\"cast_id\": 242, \"character\": \"Jake Sully\", \"...</td>\n",
       "      <td>[{\"credit_id\": \"52fe48009251416c750aca23\", \"de...</td>\n",
       "    </tr>\n",
       "  </tbody>\n",
       "</table>\n",
       "<p>1 rows × 23 columns</p>\n",
       "</div>"
      ],
      "text/plain": [
       "      budget                                             genres  \\\n",
       "0  237000000  [{\"id\": 28, \"name\": \"Action\"}, {\"id\": 12, \"nam...   \n",
       "\n",
       "                      homepage     id  \\\n",
       "0  http://www.avatarmovie.com/  19995   \n",
       "\n",
       "                                            keywords original_language  \\\n",
       "0  [{\"id\": 1463, \"name\": \"culture clash\"}, {\"id\":...                en   \n",
       "\n",
       "  original_title                                           overview  \\\n",
       "0         Avatar  In the 22nd century, a paraplegic Marine is di...   \n",
       "\n",
       "   popularity                               production_companies  ... runtime  \\\n",
       "0  150.437577  [{\"name\": \"Ingenious Film Partners\", \"id\": 289...  ...   162.0   \n",
       "\n",
       "                                    spoken_languages    status  \\\n",
       "0  [{\"iso_639_1\": \"en\", \"name\": \"English\"}, {\"iso...  Released   \n",
       "\n",
       "                       tagline   title vote_average vote_count movie_id  \\\n",
       "0  Enter the World of Pandora.  Avatar          7.2      11800    19995   \n",
       "\n",
       "                                                cast  \\\n",
       "0  [{\"cast_id\": 242, \"character\": \"Jake Sully\", \"...   \n",
       "\n",
       "                                                crew  \n",
       "0  [{\"credit_id\": \"52fe48009251416c750aca23\", \"de...  \n",
       "\n",
       "[1 rows x 23 columns]"
      ]
     },
     "execution_count": 7,
     "metadata": {},
     "output_type": "execute_result"
    }
   ],
   "source": [
    "#genres,\n",
    "# id\n",
    "# keywords\n",
    "# title\n",
    "# overview\n",
    "#  cast\n",
    "# crew\n",
    "# movies['popularity'].value_counts\n",
    "\n",
    "movies.info()\n",
    "movies.head(1)"
   ]
  },
  {
   "cell_type": "code",
   "execution_count": 261,
   "id": "30b5d730-37f3-41e7-bf9c-9776862b0e52",
   "metadata": {},
   "outputs": [
    {
     "data": {
      "text/html": [
       "<div>\n",
       "<style scoped>\n",
       "    .dataframe tbody tr th:only-of-type {\n",
       "        vertical-align: middle;\n",
       "    }\n",
       "\n",
       "    .dataframe tbody tr th {\n",
       "        vertical-align: top;\n",
       "    }\n",
       "\n",
       "    .dataframe thead th {\n",
       "        text-align: right;\n",
       "    }\n",
       "</style>\n",
       "<table border=\"1\" class=\"dataframe\">\n",
       "  <thead>\n",
       "    <tr style=\"text-align: right;\">\n",
       "      <th></th>\n",
       "      <th>budget</th>\n",
       "      <th>genres</th>\n",
       "      <th>homepage</th>\n",
       "      <th>id</th>\n",
       "      <th>keywords</th>\n",
       "      <th>original_language</th>\n",
       "      <th>original_title</th>\n",
       "      <th>overview</th>\n",
       "      <th>popularity</th>\n",
       "      <th>production_companies</th>\n",
       "      <th>...</th>\n",
       "      <th>runtime</th>\n",
       "      <th>spoken_languages</th>\n",
       "      <th>status</th>\n",
       "      <th>tagline</th>\n",
       "      <th>title</th>\n",
       "      <th>vote_average</th>\n",
       "      <th>vote_count</th>\n",
       "      <th>movie_id</th>\n",
       "      <th>cast</th>\n",
       "      <th>crew</th>\n",
       "    </tr>\n",
       "  </thead>\n",
       "  <tbody>\n",
       "    <tr>\n",
       "      <th>0</th>\n",
       "      <td>237000000</td>\n",
       "      <td>[{\"id\": 28, \"name\": \"Action\"}, {\"id\": 12, \"nam...</td>\n",
       "      <td>http://www.avatarmovie.com/</td>\n",
       "      <td>19995</td>\n",
       "      <td>[{\"id\": 1463, \"name\": \"culture clash\"}, {\"id\":...</td>\n",
       "      <td>en</td>\n",
       "      <td>Avatar</td>\n",
       "      <td>In the 22nd century, a paraplegic Marine is di...</td>\n",
       "      <td>150.437577</td>\n",
       "      <td>[{\"name\": \"Ingenious Film Partners\", \"id\": 289...</td>\n",
       "      <td>...</td>\n",
       "      <td>162.0</td>\n",
       "      <td>[{\"iso_639_1\": \"en\", \"name\": \"English\"}, {\"iso...</td>\n",
       "      <td>Released</td>\n",
       "      <td>Enter the World of Pandora.</td>\n",
       "      <td>Avatar</td>\n",
       "      <td>7.2</td>\n",
       "      <td>11800</td>\n",
       "      <td>19995</td>\n",
       "      <td>[{\"cast_id\": 242, \"character\": \"Jake Sully\", \"...</td>\n",
       "      <td>[{\"credit_id\": \"52fe48009251416c750aca23\", \"de...</td>\n",
       "    </tr>\n",
       "  </tbody>\n",
       "</table>\n",
       "<p>1 rows × 23 columns</p>\n",
       "</div>"
      ],
      "text/plain": [
       "      budget                                             genres  \\\n",
       "0  237000000  [{\"id\": 28, \"name\": \"Action\"}, {\"id\": 12, \"nam...   \n",
       "\n",
       "                      homepage     id  \\\n",
       "0  http://www.avatarmovie.com/  19995   \n",
       "\n",
       "                                            keywords original_language  \\\n",
       "0  [{\"id\": 1463, \"name\": \"culture clash\"}, {\"id\":...                en   \n",
       "\n",
       "  original_title                                           overview  \\\n",
       "0         Avatar  In the 22nd century, a paraplegic Marine is di...   \n",
       "\n",
       "   popularity                               production_companies  ... runtime  \\\n",
       "0  150.437577  [{\"name\": \"Ingenious Film Partners\", \"id\": 289...  ...   162.0   \n",
       "\n",
       "                                    spoken_languages    status  \\\n",
       "0  [{\"iso_639_1\": \"en\", \"name\": \"English\"}, {\"iso...  Released   \n",
       "\n",
       "                       tagline   title vote_average vote_count movie_id  \\\n",
       "0  Enter the World of Pandora.  Avatar          7.2      11800    19995   \n",
       "\n",
       "                                                cast  \\\n",
       "0  [{\"cast_id\": 242, \"character\": \"Jake Sully\", \"...   \n",
       "\n",
       "                                                crew  \n",
       "0  [{\"credit_id\": \"52fe48009251416c750aca23\", \"de...  \n",
       "\n",
       "[1 rows x 23 columns]"
      ]
     },
     "execution_count": 261,
     "metadata": {},
     "output_type": "execute_result"
    }
   ],
   "source": [
    "# movies['original_language'].value_counts()\n",
    "#genres,\n",
    "# id\n",
    "# keywords\n",
    "# title\n",
    "# overview\n",
    "#  cast\n",
    "# crew\n",
    "# movies[['movie_id','title','genres','keywords','overview','cast','crew']]\n",
    "movies.head(1)"
   ]
  },
  {
   "cell_type": "code",
   "execution_count": 5,
   "id": "40e66eed-9af6-4309-a550-e2fa765557f0",
   "metadata": {},
   "outputs": [
    {
     "data": {
      "text/plain": [
       "movie_id    0\n",
       "title       0\n",
       "genres      0\n",
       "keywords    0\n",
       "overview    3\n",
       "cast        0\n",
       "crew        0\n",
       "dtype: int64"
      ]
     },
     "execution_count": 5,
     "metadata": {},
     "output_type": "execute_result"
    }
   ],
   "source": [
    "movies=movies[['movie_id','title','genres','keywords','overview','cast','crew']]\n",
    "movies.head(1)\n",
    "# movies.shape\n",
    "# movies[\"\"][0]\n",
    "movies.isna().sum()"
   ]
  },
  {
   "cell_type": "code",
   "execution_count": 6,
   "id": "77d18f85-9df5-4fc0-ac17-a2a8158ca883",
   "metadata": {},
   "outputs": [],
   "source": [
    "movies.isnull().sum()\n",
    "movies.dropna(inplace=True)"
   ]
  },
  {
   "cell_type": "code",
   "execution_count": 34,
   "id": "cb775969-1259-4baf-885b-3892b555241d",
   "metadata": {},
   "outputs": [
    {
     "data": {
      "text/plain": [
       "movie_id    0\n",
       "title       0\n",
       "genres      0\n",
       "keywords    0\n",
       "overview    0\n",
       "cast        0\n",
       "crew        0\n",
       "dtype: int64"
      ]
     },
     "execution_count": 34,
     "metadata": {},
     "output_type": "execute_result"
    }
   ],
   "source": [
    "movies.isnull().sum()"
   ]
  },
  {
   "cell_type": "code",
   "execution_count": 7,
   "id": "42d7daeb-b22c-44d2-baa0-47af9b360e2c",
   "metadata": {},
   "outputs": [
    {
     "data": {
      "text/plain": [
       "0"
      ]
     },
     "execution_count": 7,
     "metadata": {},
     "output_type": "execute_result"
    }
   ],
   "source": [
    "#now check the dublicate data is there or not\n",
    "movies.duplicated().sum()"
   ]
  },
  {
   "cell_type": "code",
   "execution_count": 16,
   "id": "44634033-a7d8-4693-b766-7d11defb68e8",
   "metadata": {},
   "outputs": [
    {
     "data": {
      "text/plain": [
       "'[{\"id\": 12, \"name\": \"Adventure\"}, {\"id\": 14, \"name\": \"Fantasy\"}, {\"id\": 28, \"name\": \"Action\"}]'"
      ]
     },
     "execution_count": 16,
     "metadata": {},
     "output_type": "execute_result"
    }
   ],
   "source": [
    "movies.iloc[1].genres"
   ]
  },
  {
   "cell_type": "code",
   "execution_count": 7,
   "id": "5bbe9e20-7b81-478b-8b77-772a8c062c4d",
   "metadata": {},
   "outputs": [],
   "source": [
    "#in this format [\"adventure\",'fantasy']\n",
    "import ast\n",
    "#for converting string into the list\n",
    "\n",
    "\n",
    "# def convert(obj):\n",
    "#     L = []\n",
    "    \n",
    "#     # Convert the string to a Python object (list of dictionaries)\n",
    "#     if isinstance(obj, str):\n",
    "#         obj = ast.literal_eval(obj)  # Convert string to list of dicts\n",
    "    \n",
    "#     # Iterate through the list of dictionaries and extract the 'name' field\n",
    "#     for i in obj:\n",
    "#         if isinstance(i, dict) and 'name' in i:\n",
    "#             L.append(i['name'])\n",
    "    \n",
    "#     return L\n",
    "def convert(obj):\n",
    "    obj=ast.literal_eval(obj)\n",
    "    l=[]\n",
    "    for i in obj:\n",
    "        l.append(i[\"name\"])\n",
    "    return l\n",
    "\n",
    "# def convert(obj):\n",
    "#     L=[]\n",
    "#     if isinstance(obj,str):\n",
    "#         obj=ast.literal_eval(obj)\n",
    "#     for i in obj:\n",
    "#         if isinstance(i, dict) :\n",
    "#             L.append(i['name'])\n",
    "#     return L"
   ]
  },
  {
   "cell_type": "code",
   "execution_count": 36,
   "id": "afa8ccac-b020-45c1-a8b3-03c17411845a",
   "metadata": {},
   "outputs": [
    {
     "data": {
      "text/plain": [
       "['ajad', 'Adventure', 'Fantasy', 'Science Fiction']"
      ]
     },
     "execution_count": 36,
     "metadata": {},
     "output_type": "execute_result"
    }
   ],
   "source": [
    "convert('[{\"id\": 28, \"name\": \"ajad\"}, {\"id\": 12, \"name\": \"Adventure\"}, {\"id\": 14, \"name\": \"Fantasy\"}, {\"id\": 878, \"name\": \"Science Fiction\"}]')"
   ]
  },
  {
   "cell_type": "code",
   "execution_count": 37,
   "id": "4437b979-6c2f-4395-9f66-7abdc5e6794d",
   "metadata": {},
   "outputs": [
    {
     "ename": "ValueError",
     "evalue": "malformed node or string: [{'id': 28, 'name': 'Action'}, {'id': 12, 'name': 'Adventure'}, {'id': 14, 'name': 'Fantasy'}, {'id': 878, 'name': 'Science Fiction'}]",
     "output_type": "error",
     "traceback": [
      "\u001b[1;31m---------------------------------------------------------------------------\u001b[0m",
      "\u001b[1;31mValueError\u001b[0m                                Traceback (most recent call last)",
      "Cell \u001b[1;32mIn[37], line 1\u001b[0m\n\u001b[1;32m----> 1\u001b[0m convert([{\u001b[38;5;124m\"\u001b[39m\u001b[38;5;124mid\u001b[39m\u001b[38;5;124m\"\u001b[39m: \u001b[38;5;241m28\u001b[39m, \u001b[38;5;124m\"\u001b[39m\u001b[38;5;124mname\u001b[39m\u001b[38;5;124m\"\u001b[39m: \u001b[38;5;124m\"\u001b[39m\u001b[38;5;124mAction\u001b[39m\u001b[38;5;124m\"\u001b[39m}, {\u001b[38;5;124m\"\u001b[39m\u001b[38;5;124mid\u001b[39m\u001b[38;5;124m\"\u001b[39m: \u001b[38;5;241m12\u001b[39m, \u001b[38;5;124m\"\u001b[39m\u001b[38;5;124mname\u001b[39m\u001b[38;5;124m\"\u001b[39m: \u001b[38;5;124m\"\u001b[39m\u001b[38;5;124mAdventure\u001b[39m\u001b[38;5;124m\"\u001b[39m}, {\u001b[38;5;124m\"\u001b[39m\u001b[38;5;124mid\u001b[39m\u001b[38;5;124m\"\u001b[39m: \u001b[38;5;241m14\u001b[39m, \u001b[38;5;124m\"\u001b[39m\u001b[38;5;124mname\u001b[39m\u001b[38;5;124m\"\u001b[39m: \u001b[38;5;124m\"\u001b[39m\u001b[38;5;124mFantasy\u001b[39m\u001b[38;5;124m\"\u001b[39m}, {\u001b[38;5;124m\"\u001b[39m\u001b[38;5;124mid\u001b[39m\u001b[38;5;124m\"\u001b[39m: \u001b[38;5;241m878\u001b[39m, \u001b[38;5;124m\"\u001b[39m\u001b[38;5;124mname\u001b[39m\u001b[38;5;124m\"\u001b[39m: \u001b[38;5;124m\"\u001b[39m\u001b[38;5;124mScience Fiction\u001b[39m\u001b[38;5;124m\"\u001b[39m}])\n",
      "Cell \u001b[1;32mIn[35], line 20\u001b[0m, in \u001b[0;36mconvert\u001b[1;34m(obj)\u001b[0m\n\u001b[0;32m     19\u001b[0m \u001b[38;5;28;01mdef\u001b[39;00m \u001b[38;5;21mconvert\u001b[39m(obj):\n\u001b[1;32m---> 20\u001b[0m     obj\u001b[38;5;241m=\u001b[39mast\u001b[38;5;241m.\u001b[39mliteral_eval(obj)\n\u001b[0;32m     21\u001b[0m     l\u001b[38;5;241m=\u001b[39m[]\n\u001b[0;32m     22\u001b[0m     \u001b[38;5;28;01mfor\u001b[39;00m i \u001b[38;5;129;01min\u001b[39;00m obj:\n",
      "File \u001b[1;32m~\\anaconda3\\Lib\\ast.py:112\u001b[0m, in \u001b[0;36mliteral_eval\u001b[1;34m(node_or_string)\u001b[0m\n\u001b[0;32m    110\u001b[0m                 \u001b[38;5;28;01mreturn\u001b[39;00m left \u001b[38;5;241m-\u001b[39m right\n\u001b[0;32m    111\u001b[0m     \u001b[38;5;28;01mreturn\u001b[39;00m _convert_signed_num(node)\n\u001b[1;32m--> 112\u001b[0m \u001b[38;5;28;01mreturn\u001b[39;00m _convert(node_or_string)\n",
      "File \u001b[1;32m~\\anaconda3\\Lib\\ast.py:111\u001b[0m, in \u001b[0;36mliteral_eval.<locals>._convert\u001b[1;34m(node)\u001b[0m\n\u001b[0;32m    109\u001b[0m         \u001b[38;5;28;01melse\u001b[39;00m:\n\u001b[0;32m    110\u001b[0m             \u001b[38;5;28;01mreturn\u001b[39;00m left \u001b[38;5;241m-\u001b[39m right\n\u001b[1;32m--> 111\u001b[0m \u001b[38;5;28;01mreturn\u001b[39;00m _convert_signed_num(node)\n",
      "File \u001b[1;32m~\\anaconda3\\Lib\\ast.py:85\u001b[0m, in \u001b[0;36mliteral_eval.<locals>._convert_signed_num\u001b[1;34m(node)\u001b[0m\n\u001b[0;32m     83\u001b[0m     \u001b[38;5;28;01melse\u001b[39;00m:\n\u001b[0;32m     84\u001b[0m         \u001b[38;5;28;01mreturn\u001b[39;00m \u001b[38;5;241m-\u001b[39m operand\n\u001b[1;32m---> 85\u001b[0m \u001b[38;5;28;01mreturn\u001b[39;00m _convert_num(node)\n",
      "File \u001b[1;32m~\\anaconda3\\Lib\\ast.py:76\u001b[0m, in \u001b[0;36mliteral_eval.<locals>._convert_num\u001b[1;34m(node)\u001b[0m\n\u001b[0;32m     74\u001b[0m \u001b[38;5;28;01mdef\u001b[39;00m \u001b[38;5;21m_convert_num\u001b[39m(node):\n\u001b[0;32m     75\u001b[0m     \u001b[38;5;28;01mif\u001b[39;00m \u001b[38;5;129;01mnot\u001b[39;00m \u001b[38;5;28misinstance\u001b[39m(node, Constant) \u001b[38;5;129;01mor\u001b[39;00m \u001b[38;5;28mtype\u001b[39m(node\u001b[38;5;241m.\u001b[39mvalue) \u001b[38;5;129;01mnot\u001b[39;00m \u001b[38;5;129;01min\u001b[39;00m (\u001b[38;5;28mint\u001b[39m, \u001b[38;5;28mfloat\u001b[39m, \u001b[38;5;28mcomplex\u001b[39m):\n\u001b[1;32m---> 76\u001b[0m         _raise_malformed_node(node)\n\u001b[0;32m     77\u001b[0m     \u001b[38;5;28;01mreturn\u001b[39;00m node\u001b[38;5;241m.\u001b[39mvalue\n",
      "File \u001b[1;32m~\\anaconda3\\Lib\\ast.py:73\u001b[0m, in \u001b[0;36mliteral_eval.<locals>._raise_malformed_node\u001b[1;34m(node)\u001b[0m\n\u001b[0;32m     71\u001b[0m \u001b[38;5;28;01mif\u001b[39;00m lno \u001b[38;5;241m:=\u001b[39m \u001b[38;5;28mgetattr\u001b[39m(node, \u001b[38;5;124m'\u001b[39m\u001b[38;5;124mlineno\u001b[39m\u001b[38;5;124m'\u001b[39m, \u001b[38;5;28;01mNone\u001b[39;00m):\n\u001b[0;32m     72\u001b[0m     msg \u001b[38;5;241m+\u001b[39m\u001b[38;5;241m=\u001b[39m \u001b[38;5;124mf\u001b[39m\u001b[38;5;124m'\u001b[39m\u001b[38;5;124m on line \u001b[39m\u001b[38;5;132;01m{\u001b[39;00mlno\u001b[38;5;132;01m}\u001b[39;00m\u001b[38;5;124m'\u001b[39m\n\u001b[1;32m---> 73\u001b[0m \u001b[38;5;28;01mraise\u001b[39;00m \u001b[38;5;167;01mValueError\u001b[39;00m(msg \u001b[38;5;241m+\u001b[39m \u001b[38;5;124mf\u001b[39m\u001b[38;5;124m'\u001b[39m\u001b[38;5;124m: \u001b[39m\u001b[38;5;132;01m{\u001b[39;00mnode\u001b[38;5;132;01m!r}\u001b[39;00m\u001b[38;5;124m'\u001b[39m)\n",
      "\u001b[1;31mValueError\u001b[0m: malformed node or string: [{'id': 28, 'name': 'Action'}, {'id': 12, 'name': 'Adventure'}, {'id': 14, 'name': 'Fantasy'}, {'id': 878, 'name': 'Science Fiction'}]"
     ]
    }
   ],
   "source": [
    "convert([{\"id\": 28, \"name\": \"Action\"}, {\"id\": 12, \"name\": \"Adventure\"}, {\"id\": 14, \"name\": \"Fantasy\"}, {\"id\": 878, \"name\": \"Science Fiction\"}])"
   ]
  },
  {
   "cell_type": "code",
   "execution_count": 8,
   "id": "0ddb00f3-1fb6-45f3-8f8c-40a1c8a17ee9",
   "metadata": {},
   "outputs": [],
   "source": [
    "#now send this to movie\n",
    "# movies['genres'].apply(convert)\n",
    "movies['genres'] = movies['genres'].apply(convert)\n",
    "# movies"
   ]
  },
  {
   "cell_type": "code",
   "execution_count": 9,
   "id": "6845c087-091c-44fe-9ea9-709f7c37d2f6",
   "metadata": {},
   "outputs": [],
   "source": [
    "movies['genres'] = movies['genres'].apply(convert)\n",
    "# movies"
   ]
  },
  {
   "cell_type": "code",
   "execution_count": 10,
   "id": "66dc0669-c7d4-4f71-b3b0-4eb7054b4c65",
   "metadata": {},
   "outputs": [
    {
     "data": {
      "text/html": [
       "<div>\n",
       "<style scoped>\n",
       "    .dataframe tbody tr th:only-of-type {\n",
       "        vertical-align: middle;\n",
       "    }\n",
       "\n",
       "    .dataframe tbody tr th {\n",
       "        vertical-align: top;\n",
       "    }\n",
       "\n",
       "    .dataframe thead th {\n",
       "        text-align: right;\n",
       "    }\n",
       "</style>\n",
       "<table border=\"1\" class=\"dataframe\">\n",
       "  <thead>\n",
       "    <tr style=\"text-align: right;\">\n",
       "      <th></th>\n",
       "      <th>movie_id</th>\n",
       "      <th>title</th>\n",
       "      <th>genres</th>\n",
       "      <th>keywords</th>\n",
       "      <th>overview</th>\n",
       "      <th>cast</th>\n",
       "      <th>crew</th>\n",
       "    </tr>\n",
       "  </thead>\n",
       "  <tbody>\n",
       "    <tr>\n",
       "      <th>0</th>\n",
       "      <td>19995</td>\n",
       "      <td>Avatar</td>\n",
       "      <td>[Action, Adventure, Fantasy, Science Fiction]</td>\n",
       "      <td>[{\"id\": 1463, \"name\": \"culture clash\"}, {\"id\":...</td>\n",
       "      <td>In the 22nd century, a paraplegic Marine is di...</td>\n",
       "      <td>[{\"cast_id\": 242, \"character\": \"Jake Sully\", \"...</td>\n",
       "      <td>[{\"credit_id\": \"52fe48009251416c750aca23\", \"de...</td>\n",
       "    </tr>\n",
       "    <tr>\n",
       "      <th>1</th>\n",
       "      <td>285</td>\n",
       "      <td>Pirates of the Caribbean: At World's End</td>\n",
       "      <td>[Adventure, Fantasy, Action]</td>\n",
       "      <td>[{\"id\": 270, \"name\": \"ocean\"}, {\"id\": 726, \"na...</td>\n",
       "      <td>Captain Barbossa, long believed to be dead, ha...</td>\n",
       "      <td>[{\"cast_id\": 4, \"character\": \"Captain Jack Spa...</td>\n",
       "      <td>[{\"credit_id\": \"52fe4232c3a36847f800b579\", \"de...</td>\n",
       "    </tr>\n",
       "    <tr>\n",
       "      <th>2</th>\n",
       "      <td>206647</td>\n",
       "      <td>Spectre</td>\n",
       "      <td>[Action, Adventure, Crime]</td>\n",
       "      <td>[{\"id\": 470, \"name\": \"spy\"}, {\"id\": 818, \"name...</td>\n",
       "      <td>A cryptic message from Bond’s past sends him o...</td>\n",
       "      <td>[{\"cast_id\": 1, \"character\": \"James Bond\", \"cr...</td>\n",
       "      <td>[{\"credit_id\": \"54805967c3a36829b5002c41\", \"de...</td>\n",
       "    </tr>\n",
       "    <tr>\n",
       "      <th>3</th>\n",
       "      <td>49026</td>\n",
       "      <td>The Dark Knight Rises</td>\n",
       "      <td>[Action, Crime, Drama, Thriller]</td>\n",
       "      <td>[{\"id\": 849, \"name\": \"dc comics\"}, {\"id\": 853,...</td>\n",
       "      <td>Following the death of District Attorney Harve...</td>\n",
       "      <td>[{\"cast_id\": 2, \"character\": \"Bruce Wayne / Ba...</td>\n",
       "      <td>[{\"credit_id\": \"52fe4781c3a36847f81398c3\", \"de...</td>\n",
       "    </tr>\n",
       "    <tr>\n",
       "      <th>4</th>\n",
       "      <td>49529</td>\n",
       "      <td>John Carter</td>\n",
       "      <td>[Action, Adventure, Science Fiction]</td>\n",
       "      <td>[{\"id\": 818, \"name\": \"based on novel\"}, {\"id\":...</td>\n",
       "      <td>John Carter is a war-weary, former military ca...</td>\n",
       "      <td>[{\"cast_id\": 5, \"character\": \"John Carter\", \"c...</td>\n",
       "      <td>[{\"credit_id\": \"52fe479ac3a36847f813eaa3\", \"de...</td>\n",
       "    </tr>\n",
       "    <tr>\n",
       "      <th>...</th>\n",
       "      <td>...</td>\n",
       "      <td>...</td>\n",
       "      <td>...</td>\n",
       "      <td>...</td>\n",
       "      <td>...</td>\n",
       "      <td>...</td>\n",
       "      <td>...</td>\n",
       "    </tr>\n",
       "    <tr>\n",
       "      <th>4804</th>\n",
       "      <td>9367</td>\n",
       "      <td>El Mariachi</td>\n",
       "      <td>[Action, Crime, Thriller]</td>\n",
       "      <td>[{\"id\": 5616, \"name\": \"united states\\u2013mexi...</td>\n",
       "      <td>El Mariachi just wants to play his guitar and ...</td>\n",
       "      <td>[{\"cast_id\": 1, \"character\": \"El Mariachi\", \"c...</td>\n",
       "      <td>[{\"credit_id\": \"52fe44eec3a36847f80b280b\", \"de...</td>\n",
       "    </tr>\n",
       "    <tr>\n",
       "      <th>4805</th>\n",
       "      <td>72766</td>\n",
       "      <td>Newlyweds</td>\n",
       "      <td>[Comedy, Romance]</td>\n",
       "      <td>[]</td>\n",
       "      <td>A newlywed couple's honeymoon is upended by th...</td>\n",
       "      <td>[{\"cast_id\": 1, \"character\": \"Buzzy\", \"credit_...</td>\n",
       "      <td>[{\"credit_id\": \"52fe487dc3a368484e0fb013\", \"de...</td>\n",
       "    </tr>\n",
       "    <tr>\n",
       "      <th>4806</th>\n",
       "      <td>231617</td>\n",
       "      <td>Signed, Sealed, Delivered</td>\n",
       "      <td>[Comedy, Drama, Romance, TV Movie]</td>\n",
       "      <td>[{\"id\": 248, \"name\": \"date\"}, {\"id\": 699, \"nam...</td>\n",
       "      <td>\"Signed, Sealed, Delivered\" introduces a dedic...</td>\n",
       "      <td>[{\"cast_id\": 8, \"character\": \"Oliver O\\u2019To...</td>\n",
       "      <td>[{\"credit_id\": \"52fe4df3c3a36847f8275ecf\", \"de...</td>\n",
       "    </tr>\n",
       "    <tr>\n",
       "      <th>4807</th>\n",
       "      <td>126186</td>\n",
       "      <td>Shanghai Calling</td>\n",
       "      <td>[]</td>\n",
       "      <td>[]</td>\n",
       "      <td>When ambitious New York attorney Sam is sent t...</td>\n",
       "      <td>[{\"cast_id\": 3, \"character\": \"Sam\", \"credit_id...</td>\n",
       "      <td>[{\"credit_id\": \"52fe4ad9c3a368484e16a36b\", \"de...</td>\n",
       "    </tr>\n",
       "    <tr>\n",
       "      <th>4808</th>\n",
       "      <td>25975</td>\n",
       "      <td>My Date with Drew</td>\n",
       "      <td>[Documentary]</td>\n",
       "      <td>[{\"id\": 1523, \"name\": \"obsession\"}, {\"id\": 224...</td>\n",
       "      <td>Ever since the second grade when he first saw ...</td>\n",
       "      <td>[{\"cast_id\": 3, \"character\": \"Herself\", \"credi...</td>\n",
       "      <td>[{\"credit_id\": \"58ce021b9251415a390165d9\", \"de...</td>\n",
       "    </tr>\n",
       "  </tbody>\n",
       "</table>\n",
       "<p>4806 rows × 7 columns</p>\n",
       "</div>"
      ],
      "text/plain": [
       "      movie_id                                     title  \\\n",
       "0        19995                                    Avatar   \n",
       "1          285  Pirates of the Caribbean: At World's End   \n",
       "2       206647                                   Spectre   \n",
       "3        49026                     The Dark Knight Rises   \n",
       "4        49529                               John Carter   \n",
       "...        ...                                       ...   \n",
       "4804      9367                               El Mariachi   \n",
       "4805     72766                                 Newlyweds   \n",
       "4806    231617                 Signed, Sealed, Delivered   \n",
       "4807    126186                          Shanghai Calling   \n",
       "4808     25975                         My Date with Drew   \n",
       "\n",
       "                                             genres  \\\n",
       "0     [Action, Adventure, Fantasy, Science Fiction]   \n",
       "1                      [Adventure, Fantasy, Action]   \n",
       "2                        [Action, Adventure, Crime]   \n",
       "3                  [Action, Crime, Drama, Thriller]   \n",
       "4              [Action, Adventure, Science Fiction]   \n",
       "...                                             ...   \n",
       "4804                      [Action, Crime, Thriller]   \n",
       "4805                              [Comedy, Romance]   \n",
       "4806             [Comedy, Drama, Romance, TV Movie]   \n",
       "4807                                             []   \n",
       "4808                                  [Documentary]   \n",
       "\n",
       "                                               keywords  \\\n",
       "0     [{\"id\": 1463, \"name\": \"culture clash\"}, {\"id\":...   \n",
       "1     [{\"id\": 270, \"name\": \"ocean\"}, {\"id\": 726, \"na...   \n",
       "2     [{\"id\": 470, \"name\": \"spy\"}, {\"id\": 818, \"name...   \n",
       "3     [{\"id\": 849, \"name\": \"dc comics\"}, {\"id\": 853,...   \n",
       "4     [{\"id\": 818, \"name\": \"based on novel\"}, {\"id\":...   \n",
       "...                                                 ...   \n",
       "4804  [{\"id\": 5616, \"name\": \"united states\\u2013mexi...   \n",
       "4805                                                 []   \n",
       "4806  [{\"id\": 248, \"name\": \"date\"}, {\"id\": 699, \"nam...   \n",
       "4807                                                 []   \n",
       "4808  [{\"id\": 1523, \"name\": \"obsession\"}, {\"id\": 224...   \n",
       "\n",
       "                                               overview  \\\n",
       "0     In the 22nd century, a paraplegic Marine is di...   \n",
       "1     Captain Barbossa, long believed to be dead, ha...   \n",
       "2     A cryptic message from Bond’s past sends him o...   \n",
       "3     Following the death of District Attorney Harve...   \n",
       "4     John Carter is a war-weary, former military ca...   \n",
       "...                                                 ...   \n",
       "4804  El Mariachi just wants to play his guitar and ...   \n",
       "4805  A newlywed couple's honeymoon is upended by th...   \n",
       "4806  \"Signed, Sealed, Delivered\" introduces a dedic...   \n",
       "4807  When ambitious New York attorney Sam is sent t...   \n",
       "4808  Ever since the second grade when he first saw ...   \n",
       "\n",
       "                                                   cast  \\\n",
       "0     [{\"cast_id\": 242, \"character\": \"Jake Sully\", \"...   \n",
       "1     [{\"cast_id\": 4, \"character\": \"Captain Jack Spa...   \n",
       "2     [{\"cast_id\": 1, \"character\": \"James Bond\", \"cr...   \n",
       "3     [{\"cast_id\": 2, \"character\": \"Bruce Wayne / Ba...   \n",
       "4     [{\"cast_id\": 5, \"character\": \"John Carter\", \"c...   \n",
       "...                                                 ...   \n",
       "4804  [{\"cast_id\": 1, \"character\": \"El Mariachi\", \"c...   \n",
       "4805  [{\"cast_id\": 1, \"character\": \"Buzzy\", \"credit_...   \n",
       "4806  [{\"cast_id\": 8, \"character\": \"Oliver O\\u2019To...   \n",
       "4807  [{\"cast_id\": 3, \"character\": \"Sam\", \"credit_id...   \n",
       "4808  [{\"cast_id\": 3, \"character\": \"Herself\", \"credi...   \n",
       "\n",
       "                                                   crew  \n",
       "0     [{\"credit_id\": \"52fe48009251416c750aca23\", \"de...  \n",
       "1     [{\"credit_id\": \"52fe4232c3a36847f800b579\", \"de...  \n",
       "2     [{\"credit_id\": \"54805967c3a36829b5002c41\", \"de...  \n",
       "3     [{\"credit_id\": \"52fe4781c3a36847f81398c3\", \"de...  \n",
       "4     [{\"credit_id\": \"52fe479ac3a36847f813eaa3\", \"de...  \n",
       "...                                                 ...  \n",
       "4804  [{\"credit_id\": \"52fe44eec3a36847f80b280b\", \"de...  \n",
       "4805  [{\"credit_id\": \"52fe487dc3a368484e0fb013\", \"de...  \n",
       "4806  [{\"credit_id\": \"52fe4df3c3a36847f8275ecf\", \"de...  \n",
       "4807  [{\"credit_id\": \"52fe4ad9c3a368484e16a36b\", \"de...  \n",
       "4808  [{\"credit_id\": \"58ce021b9251415a390165d9\", \"de...  \n",
       "\n",
       "[4806 rows x 7 columns]"
      ]
     },
     "execution_count": 10,
     "metadata": {},
     "output_type": "execute_result"
    }
   ],
   "source": [
    "movies"
   ]
  },
  {
   "cell_type": "code",
   "execution_count": 9,
   "id": "b9844744-5972-4bc3-9d1c-eeaffeb01515",
   "metadata": {},
   "outputs": [],
   "source": [
    "movies['keywords']=movies['keywords'].apply(convert)\n",
    "# movies.head()\n",
    "# movies.isnull().sum()\n"
   ]
  },
  {
   "cell_type": "code",
   "execution_count": 10,
   "id": "9fadbe5a-719c-4347-aac7-4329bb1f224b",
   "metadata": {},
   "outputs": [],
   "source": [
    "movies[\"cast\"][0]\n",
    "#first three dictonary\n",
    "def program(obj):\n",
    "    # obj=ast.literal_eval(obj)\n",
    "    L=[]\n",
    "    count=0\n",
    "    for i in ast.literal_eval(obj):\n",
    "        if count!=3: \n",
    "            L.append(i[\"name\"])\n",
    "            count+=1\n",
    "        else:\n",
    "            break\n",
    "    return L\n",
    "    "
   ]
  },
  {
   "cell_type": "code",
   "execution_count": 37,
   "id": "0d2da6c9-062c-4c71-a68f-5ea6444853d2",
   "metadata": {},
   "outputs": [
    {
     "data": {
      "text/plain": [
       "'[{\"cast_id\": 242, \"character\": \"Jake Sully\", \"credit_id\": \"5602a8a7c3a3685532001c9a\", \"gender\": 2, \"id\": 65731, \"name\": \"Sam Worthington\", \"order\": 0}, {\"cast_id\": 3, \"character\": \"Neytiri\", \"credit_id\": \"52fe48009251416c750ac9cb\", \"gender\": 1, \"id\": 8691, \"name\": \"Zoe Saldana\", \"order\": 1}, {\"cast_id\": 25, \"character\": \"Dr. Grace Augustine\", \"credit_id\": \"52fe48009251416c750aca39\", \"gender\": 1, \"id\": 10205, \"name\": \"Sigourney Weaver\", \"order\": 2}, {\"cast_id\": 4, \"character\": \"Col. Quaritch\", \"credit_id\": \"52fe48009251416c750ac9cf\", \"gender\": 2, \"id\": 32747, \"name\": \"Stephen Lang\", \"order\": 3}, {\"cast_id\": 5, \"character\": \"Trudy Chacon\", \"credit_id\": \"52fe48009251416c750ac9d3\", \"gender\": 1, \"id\": 17647, \"name\": \"Michelle Rodriguez\", \"order\": 4}, {\"cast_id\": 8, \"character\": \"Selfridge\", \"credit_id\": \"52fe48009251416c750ac9e1\", \"gender\": 2, \"id\": 1771, \"name\": \"Giovanni Ribisi\", \"order\": 5}, {\"cast_id\": 7, \"character\": \"Norm Spellman\", \"credit_id\": \"52fe48009251416c750ac9dd\", \"gender\": 2, \"id\": 59231, \"name\": \"Joel David Moore\", \"order\": 6}, {\"cast_id\": 9, \"character\": \"Moat\", \"credit_id\": \"52fe48009251416c750ac9e5\", \"gender\": 1, \"id\": 30485, \"name\": \"CCH Pounder\", \"order\": 7}, {\"cast_id\": 11, \"character\": \"Eytukan\", \"credit_id\": \"52fe48009251416c750ac9ed\", \"gender\": 2, \"id\": 15853, \"name\": \"Wes Studi\", \"order\": 8}, {\"cast_id\": 10, \"character\": \"Tsu\\'Tey\", \"credit_id\": \"52fe48009251416c750ac9e9\", \"gender\": 2, \"id\": 10964, \"name\": \"Laz Alonso\", \"order\": 9}, {\"cast_id\": 12, \"character\": \"Dr. Max Patel\", \"credit_id\": \"52fe48009251416c750ac9f1\", \"gender\": 2, \"id\": 95697, \"name\": \"Dileep Rao\", \"order\": 10}, {\"cast_id\": 13, \"character\": \"Lyle Wainfleet\", \"credit_id\": \"52fe48009251416c750ac9f5\", \"gender\": 2, \"id\": 98215, \"name\": \"Matt Gerald\", \"order\": 11}, {\"cast_id\": 32, \"character\": \"Private Fike\", \"credit_id\": \"52fe48009251416c750aca5b\", \"gender\": 2, \"id\": 154153, \"name\": \"Sean Anthony Moran\", \"order\": 12}, {\"cast_id\": 33, \"character\": \"Cryo Vault Med Tech\", \"credit_id\": \"52fe48009251416c750aca5f\", \"gender\": 2, \"id\": 397312, \"name\": \"Jason Whyte\", \"order\": 13}, {\"cast_id\": 34, \"character\": \"Venture Star Crew Chief\", \"credit_id\": \"52fe48009251416c750aca63\", \"gender\": 2, \"id\": 42317, \"name\": \"Scott Lawrence\", \"order\": 14}, {\"cast_id\": 35, \"character\": \"Lock Up Trooper\", \"credit_id\": \"52fe48009251416c750aca67\", \"gender\": 2, \"id\": 986734, \"name\": \"Kelly Kilgour\", \"order\": 15}, {\"cast_id\": 36, \"character\": \"Shuttle Pilot\", \"credit_id\": \"52fe48009251416c750aca6b\", \"gender\": 0, \"id\": 1207227, \"name\": \"James Patrick Pitt\", \"order\": 16}, {\"cast_id\": 37, \"character\": \"Shuttle Co-Pilot\", \"credit_id\": \"52fe48009251416c750aca6f\", \"gender\": 0, \"id\": 1180936, \"name\": \"Sean Patrick Murphy\", \"order\": 17}, {\"cast_id\": 38, \"character\": \"Shuttle Crew Chief\", \"credit_id\": \"52fe48009251416c750aca73\", \"gender\": 2, \"id\": 1019578, \"name\": \"Peter Dillon\", \"order\": 18}, {\"cast_id\": 39, \"character\": \"Tractor Operator / Troupe\", \"credit_id\": \"52fe48009251416c750aca77\", \"gender\": 0, \"id\": 91443, \"name\": \"Kevin Dorman\", \"order\": 19}, {\"cast_id\": 40, \"character\": \"Dragon Gunship Pilot\", \"credit_id\": \"52fe48009251416c750aca7b\", \"gender\": 2, \"id\": 173391, \"name\": \"Kelson Henderson\", \"order\": 20}, {\"cast_id\": 41, \"character\": \"Dragon Gunship Gunner\", \"credit_id\": \"52fe48009251416c750aca7f\", \"gender\": 0, \"id\": 1207236, \"name\": \"David Van Horn\", \"order\": 21}, {\"cast_id\": 42, \"character\": \"Dragon Gunship Navigator\", \"credit_id\": \"52fe48009251416c750aca83\", \"gender\": 0, \"id\": 215913, \"name\": \"Jacob Tomuri\", \"order\": 22}, {\"cast_id\": 43, \"character\": \"Suit #1\", \"credit_id\": \"52fe48009251416c750aca87\", \"gender\": 0, \"id\": 143206, \"name\": \"Michael Blain-Rozgay\", \"order\": 23}, {\"cast_id\": 44, \"character\": \"Suit #2\", \"credit_id\": \"52fe48009251416c750aca8b\", \"gender\": 2, \"id\": 169676, \"name\": \"Jon Curry\", \"order\": 24}, {\"cast_id\": 46, \"character\": \"Ambient Room Tech\", \"credit_id\": \"52fe48009251416c750aca8f\", \"gender\": 0, \"id\": 1048610, \"name\": \"Luke Hawker\", \"order\": 25}, {\"cast_id\": 47, \"character\": \"Ambient Room Tech / Troupe\", \"credit_id\": \"52fe48009251416c750aca93\", \"gender\": 0, \"id\": 42288, \"name\": \"Woody Schultz\", \"order\": 26}, {\"cast_id\": 48, \"character\": \"Horse Clan Leader\", \"credit_id\": \"52fe48009251416c750aca97\", \"gender\": 2, \"id\": 68278, \"name\": \"Peter Mensah\", \"order\": 27}, {\"cast_id\": 49, \"character\": \"Link Room Tech\", \"credit_id\": \"52fe48009251416c750aca9b\", \"gender\": 0, \"id\": 1207247, \"name\": \"Sonia Yee\", \"order\": 28}, {\"cast_id\": 50, \"character\": \"Basketball Avatar / Troupe\", \"credit_id\": \"52fe48009251416c750aca9f\", \"gender\": 1, \"id\": 1207248, \"name\": \"Jahnel Curfman\", \"order\": 29}, {\"cast_id\": 51, \"character\": \"Basketball Avatar\", \"credit_id\": \"52fe48009251416c750acaa3\", \"gender\": 0, \"id\": 89714, \"name\": \"Ilram Choi\", \"order\": 30}, {\"cast_id\": 52, \"character\": \"Na\\'vi Child\", \"credit_id\": \"52fe48009251416c750acaa7\", \"gender\": 0, \"id\": 1207249, \"name\": \"Kyla Warren\", \"order\": 31}, {\"cast_id\": 53, \"character\": \"Troupe\", \"credit_id\": \"52fe48009251416c750acaab\", \"gender\": 0, \"id\": 1207250, \"name\": \"Lisa Roumain\", \"order\": 32}, {\"cast_id\": 54, \"character\": \"Troupe\", \"credit_id\": \"52fe48009251416c750acaaf\", \"gender\": 1, \"id\": 83105, \"name\": \"Debra Wilson\", \"order\": 33}, {\"cast_id\": 57, \"character\": \"Troupe\", \"credit_id\": \"52fe48009251416c750acabb\", \"gender\": 0, \"id\": 1207253, \"name\": \"Chris Mala\", \"order\": 34}, {\"cast_id\": 55, \"character\": \"Troupe\", \"credit_id\": \"52fe48009251416c750acab3\", \"gender\": 0, \"id\": 1207251, \"name\": \"Taylor Kibby\", \"order\": 35}, {\"cast_id\": 56, \"character\": \"Troupe\", \"credit_id\": \"52fe48009251416c750acab7\", \"gender\": 0, \"id\": 1207252, \"name\": \"Jodie Landau\", \"order\": 36}, {\"cast_id\": 58, \"character\": \"Troupe\", \"credit_id\": \"52fe48009251416c750acabf\", \"gender\": 0, \"id\": 1207254, \"name\": \"Julie Lamm\", \"order\": 37}, {\"cast_id\": 59, \"character\": \"Troupe\", \"credit_id\": \"52fe48009251416c750acac3\", \"gender\": 0, \"id\": 1207257, \"name\": \"Cullen B. Madden\", \"order\": 38}, {\"cast_id\": 60, \"character\": \"Troupe\", \"credit_id\": \"52fe48009251416c750acac7\", \"gender\": 0, \"id\": 1207259, \"name\": \"Joseph Brady Madden\", \"order\": 39}, {\"cast_id\": 61, \"character\": \"Troupe\", \"credit_id\": \"52fe48009251416c750acacb\", \"gender\": 0, \"id\": 1207262, \"name\": \"Frankie Torres\", \"order\": 40}, {\"cast_id\": 62, \"character\": \"Troupe\", \"credit_id\": \"52fe48009251416c750acacf\", \"gender\": 1, \"id\": 1158600, \"name\": \"Austin Wilson\", \"order\": 41}, {\"cast_id\": 63, \"character\": \"Troupe\", \"credit_id\": \"52fe48019251416c750acad3\", \"gender\": 1, \"id\": 983705, \"name\": \"Sara Wilson\", \"order\": 42}, {\"cast_id\": 64, \"character\": \"Troupe\", \"credit_id\": \"52fe48019251416c750acad7\", \"gender\": 0, \"id\": 1207263, \"name\": \"Tamica Washington-Miller\", \"order\": 43}, {\"cast_id\": 65, \"character\": \"Op Center Staff\", \"credit_id\": \"52fe48019251416c750acadb\", \"gender\": 1, \"id\": 1145098, \"name\": \"Lucy Briant\", \"order\": 44}, {\"cast_id\": 66, \"character\": \"Op Center Staff\", \"credit_id\": \"52fe48019251416c750acadf\", \"gender\": 2, \"id\": 33305, \"name\": \"Nathan Meister\", \"order\": 45}, {\"cast_id\": 67, \"character\": \"Op Center Staff\", \"credit_id\": \"52fe48019251416c750acae3\", \"gender\": 0, \"id\": 1207264, \"name\": \"Gerry Blair\", \"order\": 46}, {\"cast_id\": 68, \"character\": \"Op Center Staff\", \"credit_id\": \"52fe48019251416c750acae7\", \"gender\": 2, \"id\": 33311, \"name\": \"Matthew Chamberlain\", \"order\": 47}, {\"cast_id\": 69, \"character\": \"Op Center Staff\", \"credit_id\": \"52fe48019251416c750acaeb\", \"gender\": 0, \"id\": 1207265, \"name\": \"Paul Yates\", \"order\": 48}, {\"cast_id\": 70, \"character\": \"Op Center Duty Officer\", \"credit_id\": \"52fe48019251416c750acaef\", \"gender\": 0, \"id\": 1207266, \"name\": \"Wray Wilson\", \"order\": 49}, {\"cast_id\": 71, \"character\": \"Op Center Staff\", \"credit_id\": \"52fe48019251416c750acaf3\", \"gender\": 2, \"id\": 54492, \"name\": \"James Gaylyn\", \"order\": 50}, {\"cast_id\": 72, \"character\": \"Dancer\", \"credit_id\": \"52fe48019251416c750acaf7\", \"gender\": 0, \"id\": 1207267, \"name\": \"Melvin Leno Clark III\", \"order\": 51}, {\"cast_id\": 73, \"character\": \"Dancer\", \"credit_id\": \"52fe48019251416c750acafb\", \"gender\": 0, \"id\": 1207268, \"name\": \"Carvon Futrell\", \"order\": 52}, {\"cast_id\": 74, \"character\": \"Dancer\", \"credit_id\": \"52fe48019251416c750acaff\", \"gender\": 0, \"id\": 1207269, \"name\": \"Brandon Jelkes\", \"order\": 53}, {\"cast_id\": 75, \"character\": \"Dancer\", \"credit_id\": \"52fe48019251416c750acb03\", \"gender\": 0, \"id\": 1207270, \"name\": \"Micah Moch\", \"order\": 54}, {\"cast_id\": 76, \"character\": \"Dancer\", \"credit_id\": \"52fe48019251416c750acb07\", \"gender\": 0, \"id\": 1207271, \"name\": \"Hanniyah Muhammad\", \"order\": 55}, {\"cast_id\": 77, \"character\": \"Dancer\", \"credit_id\": \"52fe48019251416c750acb0b\", \"gender\": 0, \"id\": 1207272, \"name\": \"Christopher Nolen\", \"order\": 56}, {\"cast_id\": 78, \"character\": \"Dancer\", \"credit_id\": \"52fe48019251416c750acb0f\", \"gender\": 0, \"id\": 1207273, \"name\": \"Christa Oliver\", \"order\": 57}, {\"cast_id\": 79, \"character\": \"Dancer\", \"credit_id\": \"52fe48019251416c750acb13\", \"gender\": 0, \"id\": 1207274, \"name\": \"April Marie Thomas\", \"order\": 58}, {\"cast_id\": 80, \"character\": \"Dancer\", \"credit_id\": \"52fe48019251416c750acb17\", \"gender\": 0, \"id\": 1207275, \"name\": \"Bravita A. Threatt\", \"order\": 59}, {\"cast_id\": 81, \"character\": \"Mining Chief (uncredited)\", \"credit_id\": \"52fe48019251416c750acb1b\", \"gender\": 0, \"id\": 1207276, \"name\": \"Colin Bleasdale\", \"order\": 60}, {\"cast_id\": 82, \"character\": \"Veteran Miner (uncredited)\", \"credit_id\": \"52fe48019251416c750acb1f\", \"gender\": 0, \"id\": 107969, \"name\": \"Mike Bodnar\", \"order\": 61}, {\"cast_id\": 83, \"character\": \"Richard (uncredited)\", \"credit_id\": \"52fe48019251416c750acb23\", \"gender\": 0, \"id\": 1207278, \"name\": \"Matt Clayton\", \"order\": 62}, {\"cast_id\": 84, \"character\": \"Nav\\'i (uncredited)\", \"credit_id\": \"52fe48019251416c750acb27\", \"gender\": 1, \"id\": 147898, \"name\": \"Nicole Dionne\", \"order\": 63}, {\"cast_id\": 85, \"character\": \"Trooper (uncredited)\", \"credit_id\": \"52fe48019251416c750acb2b\", \"gender\": 0, \"id\": 1207280, \"name\": \"Jamie Harrison\", \"order\": 64}, {\"cast_id\": 86, \"character\": \"Trooper (uncredited)\", \"credit_id\": \"52fe48019251416c750acb2f\", \"gender\": 0, \"id\": 1207281, \"name\": \"Allan Henry\", \"order\": 65}, {\"cast_id\": 87, \"character\": \"Ground Technician (uncredited)\", \"credit_id\": \"52fe48019251416c750acb33\", \"gender\": 2, \"id\": 1207282, \"name\": \"Anthony Ingruber\", \"order\": 66}, {\"cast_id\": 88, \"character\": \"Flight Crew Mechanic (uncredited)\", \"credit_id\": \"52fe48019251416c750acb37\", \"gender\": 0, \"id\": 1207283, \"name\": \"Ashley Jeffery\", \"order\": 67}, {\"cast_id\": 14, \"character\": \"Samson Pilot\", \"credit_id\": \"52fe48009251416c750ac9f9\", \"gender\": 0, \"id\": 98216, \"name\": \"Dean Knowsley\", \"order\": 68}, {\"cast_id\": 89, \"character\": \"Trooper (uncredited)\", \"credit_id\": \"52fe48019251416c750acb3b\", \"gender\": 0, \"id\": 1201399, \"name\": \"Joseph Mika-Hunt\", \"order\": 69}, {\"cast_id\": 90, \"character\": \"Banshee (uncredited)\", \"credit_id\": \"52fe48019251416c750acb3f\", \"gender\": 0, \"id\": 236696, \"name\": \"Terry Notary\", \"order\": 70}, {\"cast_id\": 91, \"character\": \"Soldier (uncredited)\", \"credit_id\": \"52fe48019251416c750acb43\", \"gender\": 0, \"id\": 1207287, \"name\": \"Kai Pantano\", \"order\": 71}, {\"cast_id\": 92, \"character\": \"Blast Technician (uncredited)\", \"credit_id\": \"52fe48019251416c750acb47\", \"gender\": 0, \"id\": 1207288, \"name\": \"Logan Pithyou\", \"order\": 72}, {\"cast_id\": 93, \"character\": \"Vindum Raah (uncredited)\", \"credit_id\": \"52fe48019251416c750acb4b\", \"gender\": 0, \"id\": 1207289, \"name\": \"Stuart Pollock\", \"order\": 73}, {\"cast_id\": 94, \"character\": \"Hero (uncredited)\", \"credit_id\": \"52fe48019251416c750acb4f\", \"gender\": 0, \"id\": 584868, \"name\": \"Raja\", \"order\": 74}, {\"cast_id\": 95, \"character\": \"Ops Centreworker (uncredited)\", \"credit_id\": \"52fe48019251416c750acb53\", \"gender\": 0, \"id\": 1207290, \"name\": \"Gareth Ruck\", \"order\": 75}, {\"cast_id\": 96, \"character\": \"Engineer (uncredited)\", \"credit_id\": \"52fe48019251416c750acb57\", \"gender\": 0, \"id\": 1062463, \"name\": \"Rhian Sheehan\", \"order\": 76}, {\"cast_id\": 97, \"character\": \"Col. Quaritch\\'s Mech Suit (uncredited)\", \"credit_id\": \"52fe48019251416c750acb5b\", \"gender\": 0, \"id\": 60656, \"name\": \"T. J. Storm\", \"order\": 77}, {\"cast_id\": 98, \"character\": \"Female Marine (uncredited)\", \"credit_id\": \"52fe48019251416c750acb5f\", \"gender\": 0, \"id\": 1207291, \"name\": \"Jodie Taylor\", \"order\": 78}, {\"cast_id\": 99, \"character\": \"Ikran Clan Leader (uncredited)\", \"credit_id\": \"52fe48019251416c750acb63\", \"gender\": 1, \"id\": 1186027, \"name\": \"Alicia Vela-Bailey\", \"order\": 79}, {\"cast_id\": 100, \"character\": \"Geologist (uncredited)\", \"credit_id\": \"52fe48019251416c750acb67\", \"gender\": 0, \"id\": 1207292, \"name\": \"Richard Whiteside\", \"order\": 80}, {\"cast_id\": 101, \"character\": \"Na\\'vi (uncredited)\", \"credit_id\": \"52fe48019251416c750acb6b\", \"gender\": 0, \"id\": 103259, \"name\": \"Nikie Zambo\", \"order\": 81}, {\"cast_id\": 102, \"character\": \"Ambient Room Tech / Troupe\", \"credit_id\": \"52fe48019251416c750acb6f\", \"gender\": 1, \"id\": 42286, \"name\": \"Julene Renee\", \"order\": 82}]'"
      ]
     },
     "execution_count": 37,
     "metadata": {},
     "output_type": "execute_result"
    }
   ],
   "source": [
    "movies['cast'][0]"
   ]
  },
  {
   "cell_type": "code",
   "execution_count": 11,
   "id": "02a35dc8-dd5e-41c4-ba37-3f6caa370801",
   "metadata": {},
   "outputs": [],
   "source": [
    "movies[\"cast\"]=  movies[\"cast\"].apply(program)\n",
    "\n"
   ]
  },
  {
   "cell_type": "code",
   "execution_count": 42,
   "id": "151a0111-4698-40fa-8910-39e53c98673f",
   "metadata": {},
   "outputs": [
    {
     "data": {
      "text/html": [
       "<div>\n",
       "<style scoped>\n",
       "    .dataframe tbody tr th:only-of-type {\n",
       "        vertical-align: middle;\n",
       "    }\n",
       "\n",
       "    .dataframe tbody tr th {\n",
       "        vertical-align: top;\n",
       "    }\n",
       "\n",
       "    .dataframe thead th {\n",
       "        text-align: right;\n",
       "    }\n",
       "</style>\n",
       "<table border=\"1\" class=\"dataframe\">\n",
       "  <thead>\n",
       "    <tr style=\"text-align: right;\">\n",
       "      <th></th>\n",
       "      <th>movie_id</th>\n",
       "      <th>title</th>\n",
       "      <th>genres</th>\n",
       "      <th>keywords</th>\n",
       "      <th>overview</th>\n",
       "      <th>cast</th>\n",
       "      <th>crew</th>\n",
       "    </tr>\n",
       "  </thead>\n",
       "  <tbody>\n",
       "    <tr>\n",
       "      <th>0</th>\n",
       "      <td>19995</td>\n",
       "      <td>Avatar</td>\n",
       "      <td>[Action, Adventure, Fantasy, Science Fiction]</td>\n",
       "      <td>[culture clash, future, space war, space colon...</td>\n",
       "      <td>In the 22nd century, a paraplegic Marine is di...</td>\n",
       "      <td>[Sam Worthington, Zoe Saldana, Sigourney Weaver]</td>\n",
       "      <td>[{\"credit_id\": \"52fe48009251416c750aca23\", \"de...</td>\n",
       "    </tr>\n",
       "    <tr>\n",
       "      <th>1</th>\n",
       "      <td>285</td>\n",
       "      <td>Pirates of the Caribbean: At World's End</td>\n",
       "      <td>[Adventure, Fantasy, Action]</td>\n",
       "      <td>[ocean, drug abuse, exotic island, east india ...</td>\n",
       "      <td>Captain Barbossa, long believed to be dead, ha...</td>\n",
       "      <td>[Johnny Depp, Orlando Bloom, Keira Knightley]</td>\n",
       "      <td>[{\"credit_id\": \"52fe4232c3a36847f800b579\", \"de...</td>\n",
       "    </tr>\n",
       "    <tr>\n",
       "      <th>2</th>\n",
       "      <td>206647</td>\n",
       "      <td>Spectre</td>\n",
       "      <td>[Action, Adventure, Crime]</td>\n",
       "      <td>[spy, based on novel, secret agent, sequel, mi...</td>\n",
       "      <td>A cryptic message from Bond’s past sends him o...</td>\n",
       "      <td>[Daniel Craig, Christoph Waltz, Léa Seydoux]</td>\n",
       "      <td>[{\"credit_id\": \"54805967c3a36829b5002c41\", \"de...</td>\n",
       "    </tr>\n",
       "    <tr>\n",
       "      <th>3</th>\n",
       "      <td>49026</td>\n",
       "      <td>The Dark Knight Rises</td>\n",
       "      <td>[Action, Crime, Drama, Thriller]</td>\n",
       "      <td>[dc comics, crime fighter, terrorist, secret i...</td>\n",
       "      <td>Following the death of District Attorney Harve...</td>\n",
       "      <td>[Christian Bale, Michael Caine, Gary Oldman]</td>\n",
       "      <td>[{\"credit_id\": \"52fe4781c3a36847f81398c3\", \"de...</td>\n",
       "    </tr>\n",
       "    <tr>\n",
       "      <th>4</th>\n",
       "      <td>49529</td>\n",
       "      <td>John Carter</td>\n",
       "      <td>[Action, Adventure, Science Fiction]</td>\n",
       "      <td>[based on novel, mars, medallion, space travel...</td>\n",
       "      <td>John Carter is a war-weary, former military ca...</td>\n",
       "      <td>[Taylor Kitsch, Lynn Collins, Samantha Morton]</td>\n",
       "      <td>[{\"credit_id\": \"52fe479ac3a36847f813eaa3\", \"de...</td>\n",
       "    </tr>\n",
       "    <tr>\n",
       "      <th>...</th>\n",
       "      <td>...</td>\n",
       "      <td>...</td>\n",
       "      <td>...</td>\n",
       "      <td>...</td>\n",
       "      <td>...</td>\n",
       "      <td>...</td>\n",
       "      <td>...</td>\n",
       "    </tr>\n",
       "    <tr>\n",
       "      <th>4804</th>\n",
       "      <td>9367</td>\n",
       "      <td>El Mariachi</td>\n",
       "      <td>[Action, Crime, Thriller]</td>\n",
       "      <td>[united states–mexico barrier, legs, arms, pap...</td>\n",
       "      <td>El Mariachi just wants to play his guitar and ...</td>\n",
       "      <td>[Carlos Gallardo, Jaime de Hoyos, Peter Marqua...</td>\n",
       "      <td>[{\"credit_id\": \"52fe44eec3a36847f80b280b\", \"de...</td>\n",
       "    </tr>\n",
       "    <tr>\n",
       "      <th>4805</th>\n",
       "      <td>72766</td>\n",
       "      <td>Newlyweds</td>\n",
       "      <td>[Comedy, Romance]</td>\n",
       "      <td>[]</td>\n",
       "      <td>A newlywed couple's honeymoon is upended by th...</td>\n",
       "      <td>[Edward Burns, Kerry Bishé, Marsha Dietlein]</td>\n",
       "      <td>[{\"credit_id\": \"52fe487dc3a368484e0fb013\", \"de...</td>\n",
       "    </tr>\n",
       "    <tr>\n",
       "      <th>4806</th>\n",
       "      <td>231617</td>\n",
       "      <td>Signed, Sealed, Delivered</td>\n",
       "      <td>[Comedy, Drama, Romance, TV Movie]</td>\n",
       "      <td>[date, love at first sight, narration, investi...</td>\n",
       "      <td>\"Signed, Sealed, Delivered\" introduces a dedic...</td>\n",
       "      <td>[Eric Mabius, Kristin Booth, Crystal Lowe]</td>\n",
       "      <td>[{\"credit_id\": \"52fe4df3c3a36847f8275ecf\", \"de...</td>\n",
       "    </tr>\n",
       "    <tr>\n",
       "      <th>4807</th>\n",
       "      <td>126186</td>\n",
       "      <td>Shanghai Calling</td>\n",
       "      <td>[]</td>\n",
       "      <td>[]</td>\n",
       "      <td>When ambitious New York attorney Sam is sent t...</td>\n",
       "      <td>[Daniel Henney, Eliza Coupe, Bill Paxton]</td>\n",
       "      <td>[{\"credit_id\": \"52fe4ad9c3a368484e16a36b\", \"de...</td>\n",
       "    </tr>\n",
       "    <tr>\n",
       "      <th>4808</th>\n",
       "      <td>25975</td>\n",
       "      <td>My Date with Drew</td>\n",
       "      <td>[Documentary]</td>\n",
       "      <td>[obsession, camcorder, crush, dream girl]</td>\n",
       "      <td>Ever since the second grade when he first saw ...</td>\n",
       "      <td>[Drew Barrymore, Brian Herzlinger, Corey Feldman]</td>\n",
       "      <td>[{\"credit_id\": \"58ce021b9251415a390165d9\", \"de...</td>\n",
       "    </tr>\n",
       "  </tbody>\n",
       "</table>\n",
       "<p>4806 rows × 7 columns</p>\n",
       "</div>"
      ],
      "text/plain": [
       "      movie_id                                     title  \\\n",
       "0        19995                                    Avatar   \n",
       "1          285  Pirates of the Caribbean: At World's End   \n",
       "2       206647                                   Spectre   \n",
       "3        49026                     The Dark Knight Rises   \n",
       "4        49529                               John Carter   \n",
       "...        ...                                       ...   \n",
       "4804      9367                               El Mariachi   \n",
       "4805     72766                                 Newlyweds   \n",
       "4806    231617                 Signed, Sealed, Delivered   \n",
       "4807    126186                          Shanghai Calling   \n",
       "4808     25975                         My Date with Drew   \n",
       "\n",
       "                                             genres  \\\n",
       "0     [Action, Adventure, Fantasy, Science Fiction]   \n",
       "1                      [Adventure, Fantasy, Action]   \n",
       "2                        [Action, Adventure, Crime]   \n",
       "3                  [Action, Crime, Drama, Thriller]   \n",
       "4              [Action, Adventure, Science Fiction]   \n",
       "...                                             ...   \n",
       "4804                      [Action, Crime, Thriller]   \n",
       "4805                              [Comedy, Romance]   \n",
       "4806             [Comedy, Drama, Romance, TV Movie]   \n",
       "4807                                             []   \n",
       "4808                                  [Documentary]   \n",
       "\n",
       "                                               keywords  \\\n",
       "0     [culture clash, future, space war, space colon...   \n",
       "1     [ocean, drug abuse, exotic island, east india ...   \n",
       "2     [spy, based on novel, secret agent, sequel, mi...   \n",
       "3     [dc comics, crime fighter, terrorist, secret i...   \n",
       "4     [based on novel, mars, medallion, space travel...   \n",
       "...                                                 ...   \n",
       "4804  [united states–mexico barrier, legs, arms, pap...   \n",
       "4805                                                 []   \n",
       "4806  [date, love at first sight, narration, investi...   \n",
       "4807                                                 []   \n",
       "4808          [obsession, camcorder, crush, dream girl]   \n",
       "\n",
       "                                               overview  \\\n",
       "0     In the 22nd century, a paraplegic Marine is di...   \n",
       "1     Captain Barbossa, long believed to be dead, ha...   \n",
       "2     A cryptic message from Bond’s past sends him o...   \n",
       "3     Following the death of District Attorney Harve...   \n",
       "4     John Carter is a war-weary, former military ca...   \n",
       "...                                                 ...   \n",
       "4804  El Mariachi just wants to play his guitar and ...   \n",
       "4805  A newlywed couple's honeymoon is upended by th...   \n",
       "4806  \"Signed, Sealed, Delivered\" introduces a dedic...   \n",
       "4807  When ambitious New York attorney Sam is sent t...   \n",
       "4808  Ever since the second grade when he first saw ...   \n",
       "\n",
       "                                                   cast  \\\n",
       "0      [Sam Worthington, Zoe Saldana, Sigourney Weaver]   \n",
       "1         [Johnny Depp, Orlando Bloom, Keira Knightley]   \n",
       "2          [Daniel Craig, Christoph Waltz, Léa Seydoux]   \n",
       "3          [Christian Bale, Michael Caine, Gary Oldman]   \n",
       "4        [Taylor Kitsch, Lynn Collins, Samantha Morton]   \n",
       "...                                                 ...   \n",
       "4804  [Carlos Gallardo, Jaime de Hoyos, Peter Marqua...   \n",
       "4805       [Edward Burns, Kerry Bishé, Marsha Dietlein]   \n",
       "4806         [Eric Mabius, Kristin Booth, Crystal Lowe]   \n",
       "4807          [Daniel Henney, Eliza Coupe, Bill Paxton]   \n",
       "4808  [Drew Barrymore, Brian Herzlinger, Corey Feldman]   \n",
       "\n",
       "                                                   crew  \n",
       "0     [{\"credit_id\": \"52fe48009251416c750aca23\", \"de...  \n",
       "1     [{\"credit_id\": \"52fe4232c3a36847f800b579\", \"de...  \n",
       "2     [{\"credit_id\": \"54805967c3a36829b5002c41\", \"de...  \n",
       "3     [{\"credit_id\": \"52fe4781c3a36847f81398c3\", \"de...  \n",
       "4     [{\"credit_id\": \"52fe479ac3a36847f813eaa3\", \"de...  \n",
       "...                                                 ...  \n",
       "4804  [{\"credit_id\": \"52fe44eec3a36847f80b280b\", \"de...  \n",
       "4805  [{\"credit_id\": \"52fe487dc3a368484e0fb013\", \"de...  \n",
       "4806  [{\"credit_id\": \"52fe4df3c3a36847f8275ecf\", \"de...  \n",
       "4807  [{\"credit_id\": \"52fe4ad9c3a368484e16a36b\", \"de...  \n",
       "4808  [{\"credit_id\": \"58ce021b9251415a390165d9\", \"de...  \n",
       "\n",
       "[4806 rows x 7 columns]"
      ]
     },
     "execution_count": 42,
     "metadata": {},
     "output_type": "execute_result"
    }
   ],
   "source": [
    "movies"
   ]
  },
  {
   "cell_type": "code",
   "execution_count": 43,
   "id": "a75ad77f-b0eb-498a-b272-4c41964163b6",
   "metadata": {},
   "outputs": [],
   "source": [
    "import ast\n",
    "movies[\"crew\"][0]\n",
    "#access only those diconary name where the value of the job is \"director\"\n",
    "def crew_search(obj):\n",
    "    l=[]\n",
    "    for i in ast.literal_eval(obj):\n",
    "        if i[\"job\"]==\"Director\":\n",
    "            l.append(i[\"name\"])\n",
    "    return l;"
   ]
  },
  {
   "cell_type": "code",
   "execution_count": 274,
   "id": "e9b709fa-97c9-409c-b9f0-e2f5c932104f",
   "metadata": {},
   "outputs": [
    {
     "data": {
      "text/plain": [
       "['Gore Verbinski']"
      ]
     },
     "execution_count": 274,
     "metadata": {},
     "output_type": "execute_result"
    }
   ],
   "source": [
    "# crew(movies[\"crew\"][0])\n",
    "crew_search(movies[\"crew\"][1])"
   ]
  },
  {
   "cell_type": "code",
   "execution_count": 12,
   "id": "fa76066b-95ef-400b-86f7-5a89720ffa8b",
   "metadata": {},
   "outputs": [
    {
     "ename": "NameError",
     "evalue": "name 'crew_search' is not defined",
     "output_type": "error",
     "traceback": [
      "\u001b[1;31m---------------------------------------------------------------------------\u001b[0m",
      "\u001b[1;31mNameError\u001b[0m                                 Traceback (most recent call last)",
      "Cell \u001b[1;32mIn[12], line 1\u001b[0m\n\u001b[1;32m----> 1\u001b[0m movies[\u001b[38;5;124m\"\u001b[39m\u001b[38;5;124mcrew\u001b[39m\u001b[38;5;124m\"\u001b[39m]\u001b[38;5;241m=\u001b[39mmovies[\u001b[38;5;124m\"\u001b[39m\u001b[38;5;124mcrew\u001b[39m\u001b[38;5;124m\"\u001b[39m]\u001b[38;5;241m.\u001b[39mapply(crew_search)\n",
      "\u001b[1;31mNameError\u001b[0m: name 'crew_search' is not defined"
     ]
    }
   ],
   "source": [
    "movies[\"crew\"]=movies[\"crew\"].apply(crew_search)"
   ]
  },
  {
   "cell_type": "code",
   "execution_count": 18,
   "id": "c20eb2a8-56c9-46d3-8728-1458a084443e",
   "metadata": {},
   "outputs": [
    {
     "data": {
      "text/html": [
       "<div>\n",
       "<style scoped>\n",
       "    .dataframe tbody tr th:only-of-type {\n",
       "        vertical-align: middle;\n",
       "    }\n",
       "\n",
       "    .dataframe tbody tr th {\n",
       "        vertical-align: top;\n",
       "    }\n",
       "\n",
       "    .dataframe thead th {\n",
       "        text-align: right;\n",
       "    }\n",
       "</style>\n",
       "<table border=\"1\" class=\"dataframe\">\n",
       "  <thead>\n",
       "    <tr style=\"text-align: right;\">\n",
       "      <th></th>\n",
       "      <th>movie_id</th>\n",
       "      <th>title</th>\n",
       "      <th>genres</th>\n",
       "      <th>keywords</th>\n",
       "      <th>overview</th>\n",
       "      <th>cast</th>\n",
       "      <th>crew</th>\n",
       "    </tr>\n",
       "  </thead>\n",
       "  <tbody>\n",
       "    <tr>\n",
       "      <th>0</th>\n",
       "      <td>19995</td>\n",
       "      <td>Avatar</td>\n",
       "      <td>[Action, Adventure, Fantasy, Science Fiction]</td>\n",
       "      <td>[culture clash, future, space war, space colon...</td>\n",
       "      <td>In the 22nd century, a paraplegic Marine is di...</td>\n",
       "      <td>[Sam Worthington, Zoe Saldana, Sigourney Weaver]</td>\n",
       "      <td>[James Cameron]</td>\n",
       "    </tr>\n",
       "    <tr>\n",
       "      <th>1</th>\n",
       "      <td>285</td>\n",
       "      <td>Pirates of the Caribbean: At World's End</td>\n",
       "      <td>[Adventure, Fantasy, Action]</td>\n",
       "      <td>[ocean, drug abuse, exotic island, east india ...</td>\n",
       "      <td>Captain Barbossa, long believed to be dead, ha...</td>\n",
       "      <td>[Johnny Depp, Orlando Bloom, Keira Knightley]</td>\n",
       "      <td>[Gore Verbinski]</td>\n",
       "    </tr>\n",
       "    <tr>\n",
       "      <th>2</th>\n",
       "      <td>206647</td>\n",
       "      <td>Spectre</td>\n",
       "      <td>[Action, Adventure, Crime]</td>\n",
       "      <td>[spy, based on novel, secret agent, sequel, mi...</td>\n",
       "      <td>A cryptic message from Bond’s past sends him o...</td>\n",
       "      <td>[Daniel Craig, Christoph Waltz, Léa Seydoux]</td>\n",
       "      <td>[Sam Mendes]</td>\n",
       "    </tr>\n",
       "    <tr>\n",
       "      <th>3</th>\n",
       "      <td>49026</td>\n",
       "      <td>The Dark Knight Rises</td>\n",
       "      <td>[Action, Crime, Drama, Thriller]</td>\n",
       "      <td>[dc comics, crime fighter, terrorist, secret i...</td>\n",
       "      <td>Following the death of District Attorney Harve...</td>\n",
       "      <td>[Christian Bale, Michael Caine, Gary Oldman]</td>\n",
       "      <td>[Christopher Nolan]</td>\n",
       "    </tr>\n",
       "    <tr>\n",
       "      <th>4</th>\n",
       "      <td>49529</td>\n",
       "      <td>John Carter</td>\n",
       "      <td>[Action, Adventure, Science Fiction]</td>\n",
       "      <td>[based on novel, mars, medallion, space travel...</td>\n",
       "      <td>John Carter is a war-weary, former military ca...</td>\n",
       "      <td>[Taylor Kitsch, Lynn Collins, Samantha Morton]</td>\n",
       "      <td>[Andrew Stanton]</td>\n",
       "    </tr>\n",
       "    <tr>\n",
       "      <th>...</th>\n",
       "      <td>...</td>\n",
       "      <td>...</td>\n",
       "      <td>...</td>\n",
       "      <td>...</td>\n",
       "      <td>...</td>\n",
       "      <td>...</td>\n",
       "      <td>...</td>\n",
       "    </tr>\n",
       "    <tr>\n",
       "      <th>4804</th>\n",
       "      <td>9367</td>\n",
       "      <td>El Mariachi</td>\n",
       "      <td>[Action, Crime, Thriller]</td>\n",
       "      <td>[united states–mexico barrier, legs, arms, pap...</td>\n",
       "      <td>El Mariachi just wants to play his guitar and ...</td>\n",
       "      <td>[Carlos Gallardo, Jaime de Hoyos, Peter Marqua...</td>\n",
       "      <td>[Robert Rodriguez]</td>\n",
       "    </tr>\n",
       "    <tr>\n",
       "      <th>4805</th>\n",
       "      <td>72766</td>\n",
       "      <td>Newlyweds</td>\n",
       "      <td>[Comedy, Romance]</td>\n",
       "      <td>[]</td>\n",
       "      <td>A newlywed couple's honeymoon is upended by th...</td>\n",
       "      <td>[Edward Burns, Kerry Bishé, Marsha Dietlein]</td>\n",
       "      <td>[Edward Burns]</td>\n",
       "    </tr>\n",
       "    <tr>\n",
       "      <th>4806</th>\n",
       "      <td>231617</td>\n",
       "      <td>Signed, Sealed, Delivered</td>\n",
       "      <td>[Comedy, Drama, Romance, TV Movie]</td>\n",
       "      <td>[date, love at first sight, narration, investi...</td>\n",
       "      <td>\"Signed, Sealed, Delivered\" introduces a dedic...</td>\n",
       "      <td>[Eric Mabius, Kristin Booth, Crystal Lowe]</td>\n",
       "      <td>[Scott Smith]</td>\n",
       "    </tr>\n",
       "    <tr>\n",
       "      <th>4807</th>\n",
       "      <td>126186</td>\n",
       "      <td>Shanghai Calling</td>\n",
       "      <td>[]</td>\n",
       "      <td>[]</td>\n",
       "      <td>When ambitious New York attorney Sam is sent t...</td>\n",
       "      <td>[Daniel Henney, Eliza Coupe, Bill Paxton]</td>\n",
       "      <td>[Daniel Hsia]</td>\n",
       "    </tr>\n",
       "    <tr>\n",
       "      <th>4808</th>\n",
       "      <td>25975</td>\n",
       "      <td>My Date with Drew</td>\n",
       "      <td>[Documentary]</td>\n",
       "      <td>[obsession, camcorder, crush, dream girl]</td>\n",
       "      <td>Ever since the second grade when he first saw ...</td>\n",
       "      <td>[Drew Barrymore, Brian Herzlinger, Corey Feldman]</td>\n",
       "      <td>[Brian Herzlinger, Jon Gunn, Brett Winn]</td>\n",
       "    </tr>\n",
       "  </tbody>\n",
       "</table>\n",
       "<p>4806 rows × 7 columns</p>\n",
       "</div>"
      ],
      "text/plain": [
       "      movie_id                                     title  \\\n",
       "0        19995                                    Avatar   \n",
       "1          285  Pirates of the Caribbean: At World's End   \n",
       "2       206647                                   Spectre   \n",
       "3        49026                     The Dark Knight Rises   \n",
       "4        49529                               John Carter   \n",
       "...        ...                                       ...   \n",
       "4804      9367                               El Mariachi   \n",
       "4805     72766                                 Newlyweds   \n",
       "4806    231617                 Signed, Sealed, Delivered   \n",
       "4807    126186                          Shanghai Calling   \n",
       "4808     25975                         My Date with Drew   \n",
       "\n",
       "                                             genres  \\\n",
       "0     [Action, Adventure, Fantasy, Science Fiction]   \n",
       "1                      [Adventure, Fantasy, Action]   \n",
       "2                        [Action, Adventure, Crime]   \n",
       "3                  [Action, Crime, Drama, Thriller]   \n",
       "4              [Action, Adventure, Science Fiction]   \n",
       "...                                             ...   \n",
       "4804                      [Action, Crime, Thriller]   \n",
       "4805                              [Comedy, Romance]   \n",
       "4806             [Comedy, Drama, Romance, TV Movie]   \n",
       "4807                                             []   \n",
       "4808                                  [Documentary]   \n",
       "\n",
       "                                               keywords  \\\n",
       "0     [culture clash, future, space war, space colon...   \n",
       "1     [ocean, drug abuse, exotic island, east india ...   \n",
       "2     [spy, based on novel, secret agent, sequel, mi...   \n",
       "3     [dc comics, crime fighter, terrorist, secret i...   \n",
       "4     [based on novel, mars, medallion, space travel...   \n",
       "...                                                 ...   \n",
       "4804  [united states–mexico barrier, legs, arms, pap...   \n",
       "4805                                                 []   \n",
       "4806  [date, love at first sight, narration, investi...   \n",
       "4807                                                 []   \n",
       "4808          [obsession, camcorder, crush, dream girl]   \n",
       "\n",
       "                                               overview  \\\n",
       "0     In the 22nd century, a paraplegic Marine is di...   \n",
       "1     Captain Barbossa, long believed to be dead, ha...   \n",
       "2     A cryptic message from Bond’s past sends him o...   \n",
       "3     Following the death of District Attorney Harve...   \n",
       "4     John Carter is a war-weary, former military ca...   \n",
       "...                                                 ...   \n",
       "4804  El Mariachi just wants to play his guitar and ...   \n",
       "4805  A newlywed couple's honeymoon is upended by th...   \n",
       "4806  \"Signed, Sealed, Delivered\" introduces a dedic...   \n",
       "4807  When ambitious New York attorney Sam is sent t...   \n",
       "4808  Ever since the second grade when he first saw ...   \n",
       "\n",
       "                                                   cast  \\\n",
       "0      [Sam Worthington, Zoe Saldana, Sigourney Weaver]   \n",
       "1         [Johnny Depp, Orlando Bloom, Keira Knightley]   \n",
       "2          [Daniel Craig, Christoph Waltz, Léa Seydoux]   \n",
       "3          [Christian Bale, Michael Caine, Gary Oldman]   \n",
       "4        [Taylor Kitsch, Lynn Collins, Samantha Morton]   \n",
       "...                                                 ...   \n",
       "4804  [Carlos Gallardo, Jaime de Hoyos, Peter Marqua...   \n",
       "4805       [Edward Burns, Kerry Bishé, Marsha Dietlein]   \n",
       "4806         [Eric Mabius, Kristin Booth, Crystal Lowe]   \n",
       "4807          [Daniel Henney, Eliza Coupe, Bill Paxton]   \n",
       "4808  [Drew Barrymore, Brian Herzlinger, Corey Feldman]   \n",
       "\n",
       "                                          crew  \n",
       "0                              [James Cameron]  \n",
       "1                             [Gore Verbinski]  \n",
       "2                                 [Sam Mendes]  \n",
       "3                          [Christopher Nolan]  \n",
       "4                             [Andrew Stanton]  \n",
       "...                                        ...  \n",
       "4804                        [Robert Rodriguez]  \n",
       "4805                            [Edward Burns]  \n",
       "4806                             [Scott Smith]  \n",
       "4807                             [Daniel Hsia]  \n",
       "4808  [Brian Herzlinger, Jon Gunn, Brett Winn]  \n",
       "\n",
       "[4806 rows x 7 columns]"
      ]
     },
     "execution_count": 18,
     "metadata": {},
     "output_type": "execute_result"
    }
   ],
   "source": [
    "movies"
   ]
  },
  {
   "cell_type": "code",
   "execution_count": 13,
   "id": "af2ada4b-1412-4cc8-bb99-d44fb06ef2df",
   "metadata": {},
   "outputs": [],
   "source": [
    "#now convert the overview to list\n",
    "# movies[\"overview\"].apply(lambda x:x.split())\n",
    "# movies[\"overview\"][0]\n",
    "movies['overview'] = movies['overview'].apply(lambda x: x.split())\n"
   ]
  },
  {
   "cell_type": "code",
   "execution_count": 15,
   "id": "31fe2ce3-c41b-4316-a64f-d9bea6dc1b3a",
   "metadata": {},
   "outputs": [
    {
     "data": {
      "text/html": [
       "<div>\n",
       "<style scoped>\n",
       "    .dataframe tbody tr th:only-of-type {\n",
       "        vertical-align: middle;\n",
       "    }\n",
       "\n",
       "    .dataframe tbody tr th {\n",
       "        vertical-align: top;\n",
       "    }\n",
       "\n",
       "    .dataframe thead th {\n",
       "        text-align: right;\n",
       "    }\n",
       "</style>\n",
       "<table border=\"1\" class=\"dataframe\">\n",
       "  <thead>\n",
       "    <tr style=\"text-align: right;\">\n",
       "      <th></th>\n",
       "      <th>movie_id</th>\n",
       "      <th>title</th>\n",
       "      <th>genres</th>\n",
       "      <th>keywords</th>\n",
       "      <th>overview</th>\n",
       "      <th>cast</th>\n",
       "      <th>crew</th>\n",
       "    </tr>\n",
       "  </thead>\n",
       "  <tbody>\n",
       "    <tr>\n",
       "      <th>0</th>\n",
       "      <td>19995</td>\n",
       "      <td>Avatar</td>\n",
       "      <td>[Action, Adventure, Fantasy, Science Fiction]</td>\n",
       "      <td>[culture clash, future, space war, space colon...</td>\n",
       "      <td>[In, the, 22nd, century,, a, paraplegic, Marin...</td>\n",
       "      <td>[Sam Worthington, Zoe Saldana, Sigourney Weaver]</td>\n",
       "      <td>[James Cameron]</td>\n",
       "    </tr>\n",
       "    <tr>\n",
       "      <th>1</th>\n",
       "      <td>285</td>\n",
       "      <td>Pirates of the Caribbean: At World's End</td>\n",
       "      <td>[Adventure, Fantasy, Action]</td>\n",
       "      <td>[ocean, drug abuse, exotic island, east india ...</td>\n",
       "      <td>[Captain, Barbossa,, long, believed, to, be, d...</td>\n",
       "      <td>[Johnny Depp, Orlando Bloom, Keira Knightley]</td>\n",
       "      <td>[Gore Verbinski]</td>\n",
       "    </tr>\n",
       "    <tr>\n",
       "      <th>2</th>\n",
       "      <td>206647</td>\n",
       "      <td>Spectre</td>\n",
       "      <td>[Action, Adventure, Crime]</td>\n",
       "      <td>[spy, based on novel, secret agent, sequel, mi...</td>\n",
       "      <td>[A, cryptic, message, from, Bond’s, past, send...</td>\n",
       "      <td>[Daniel Craig, Christoph Waltz, Léa Seydoux]</td>\n",
       "      <td>[Sam Mendes]</td>\n",
       "    </tr>\n",
       "    <tr>\n",
       "      <th>3</th>\n",
       "      <td>49026</td>\n",
       "      <td>The Dark Knight Rises</td>\n",
       "      <td>[Action, Crime, Drama, Thriller]</td>\n",
       "      <td>[dc comics, crime fighter, terrorist, secret i...</td>\n",
       "      <td>[Following, the, death, of, District, Attorney...</td>\n",
       "      <td>[Christian Bale, Michael Caine, Gary Oldman]</td>\n",
       "      <td>[Christopher Nolan]</td>\n",
       "    </tr>\n",
       "    <tr>\n",
       "      <th>4</th>\n",
       "      <td>49529</td>\n",
       "      <td>John Carter</td>\n",
       "      <td>[Action, Adventure, Science Fiction]</td>\n",
       "      <td>[based on novel, mars, medallion, space travel...</td>\n",
       "      <td>[John, Carter, is, a, war-weary,, former, mili...</td>\n",
       "      <td>[Taylor Kitsch, Lynn Collins, Samantha Morton]</td>\n",
       "      <td>[Andrew Stanton]</td>\n",
       "    </tr>\n",
       "  </tbody>\n",
       "</table>\n",
       "</div>"
      ],
      "text/plain": [
       "   movie_id                                     title  \\\n",
       "0     19995                                    Avatar   \n",
       "1       285  Pirates of the Caribbean: At World's End   \n",
       "2    206647                                   Spectre   \n",
       "3     49026                     The Dark Knight Rises   \n",
       "4     49529                               John Carter   \n",
       "\n",
       "                                          genres  \\\n",
       "0  [Action, Adventure, Fantasy, Science Fiction]   \n",
       "1                   [Adventure, Fantasy, Action]   \n",
       "2                     [Action, Adventure, Crime]   \n",
       "3               [Action, Crime, Drama, Thriller]   \n",
       "4           [Action, Adventure, Science Fiction]   \n",
       "\n",
       "                                            keywords  \\\n",
       "0  [culture clash, future, space war, space colon...   \n",
       "1  [ocean, drug abuse, exotic island, east india ...   \n",
       "2  [spy, based on novel, secret agent, sequel, mi...   \n",
       "3  [dc comics, crime fighter, terrorist, secret i...   \n",
       "4  [based on novel, mars, medallion, space travel...   \n",
       "\n",
       "                                            overview  \\\n",
       "0  [In, the, 22nd, century,, a, paraplegic, Marin...   \n",
       "1  [Captain, Barbossa,, long, believed, to, be, d...   \n",
       "2  [A, cryptic, message, from, Bond’s, past, send...   \n",
       "3  [Following, the, death, of, District, Attorney...   \n",
       "4  [John, Carter, is, a, war-weary,, former, mili...   \n",
       "\n",
       "                                               cast                 crew  \n",
       "0  [Sam Worthington, Zoe Saldana, Sigourney Weaver]      [James Cameron]  \n",
       "1     [Johnny Depp, Orlando Bloom, Keira Knightley]     [Gore Verbinski]  \n",
       "2      [Daniel Craig, Christoph Waltz, Léa Seydoux]         [Sam Mendes]  \n",
       "3      [Christian Bale, Michael Caine, Gary Oldman]  [Christopher Nolan]  \n",
       "4    [Taylor Kitsch, Lynn Collins, Samantha Morton]     [Andrew Stanton]  "
      ]
     },
     "execution_count": 15,
     "metadata": {},
     "output_type": "execute_result"
    }
   ],
   "source": [
    "movies.head()"
   ]
  },
  {
   "cell_type": "code",
   "execution_count": 46,
   "id": "16ccc49f-622e-40df-b857-c6f5625cc123",
   "metadata": {},
   "outputs": [
    {
     "data": {
      "text/plain": [
       "movie_id    0\n",
       "title       0\n",
       "genres      0\n",
       "keywords    0\n",
       "overview    0\n",
       "cast        0\n",
       "crew        0\n",
       "dtype: int64"
      ]
     },
     "execution_count": 46,
     "metadata": {},
     "output_type": "execute_result"
    }
   ],
   "source": [
    "# movies['overview']=movies['overview'].apply(lambda x:x.split(\" \"))\n",
    "movies.isna().sum()\n",
    "# movies.iloc[0].genres"
   ]
  },
  {
   "cell_type": "code",
   "execution_count": 14,
   "id": "11bf537c-6805-442a-a0dd-f52abbd1f5f7",
   "metadata": {},
   "outputs": [],
   "source": [
    "#create a function to remove the space in the elements within the list\n",
    "def remove_space(value):\n",
    "    store=[]\n",
    "    for i in value:\n",
    "        store.append(i.replace(\" \",\"\"))\n",
    "    return store\n",
    "    "
   ]
  },
  {
   "cell_type": "code",
   "execution_count": 224,
   "id": "12b35f56-97b3-41ec-84ad-59e905e9ff60",
   "metadata": {},
   "outputs": [
    {
     "data": {
      "text/plain": [
       "['Action', 'Adventure', 'Fantasy', 'ScienceFiction']"
      ]
     },
     "execution_count": 224,
     "metadata": {},
     "output_type": "execute_result"
    }
   ],
   "source": [
    "remove_space(['Action', 'Adventure', 'Fantasy', 'Science Fiction'])"
   ]
  },
  {
   "cell_type": "code",
   "execution_count": 15,
   "id": "b1e24050-16c6-42ed-870c-81e0ad7dd9da",
   "metadata": {},
   "outputs": [
    {
     "data": {
      "text/plain": [
       "0       [Action, Adventure, Fantasy, ScienceFiction]\n",
       "1                       [Adventure, Fantasy, Action]\n",
       "2                         [Action, Adventure, Crime]\n",
       "3                   [Action, Crime, Drama, Thriller]\n",
       "4                [Action, Adventure, ScienceFiction]\n",
       "                            ...                     \n",
       "4804                       [Action, Crime, Thriller]\n",
       "4805                               [Comedy, Romance]\n",
       "4806               [Comedy, Drama, Romance, TVMovie]\n",
       "4807                                              []\n",
       "4808                                   [Documentary]\n",
       "Name: genres, Length: 4806, dtype: object"
      ]
     },
     "execution_count": 15,
     "metadata": {},
     "output_type": "execute_result"
    }
   ],
   "source": [
    "movies[\"genres\"].apply(remove_space)"
   ]
  },
  {
   "cell_type": "code",
   "execution_count": 16,
   "id": "9d1d14d4-e4b7-4662-8ed4-78f3ecab44ef",
   "metadata": {},
   "outputs": [],
   "source": [
    "movies[\"genres\"]=movies[\"genres\"].apply(remove_space)\n",
    "movies[\"keywords\"]=movies[\"keywords\"].apply(remove_space)\n",
    "movies[\"cast\"]=movies[\"cast\"].apply(remove_space)\n",
    "movies[\"crew\"]=movies[\"crew\"].apply(remove_space)"
   ]
  },
  {
   "cell_type": "code",
   "execution_count": 17,
   "id": "f876e730-26f9-461c-ba43-fbe81c9f9310",
   "metadata": {},
   "outputs": [
    {
     "data": {
      "text/html": [
       "<div>\n",
       "<style scoped>\n",
       "    .dataframe tbody tr th:only-of-type {\n",
       "        vertical-align: middle;\n",
       "    }\n",
       "\n",
       "    .dataframe tbody tr th {\n",
       "        vertical-align: top;\n",
       "    }\n",
       "\n",
       "    .dataframe thead th {\n",
       "        text-align: right;\n",
       "    }\n",
       "</style>\n",
       "<table border=\"1\" class=\"dataframe\">\n",
       "  <thead>\n",
       "    <tr style=\"text-align: right;\">\n",
       "      <th></th>\n",
       "      <th>movie_id</th>\n",
       "      <th>title</th>\n",
       "      <th>genres</th>\n",
       "      <th>keywords</th>\n",
       "      <th>overview</th>\n",
       "      <th>cast</th>\n",
       "      <th>crew</th>\n",
       "    </tr>\n",
       "  </thead>\n",
       "  <tbody>\n",
       "    <tr>\n",
       "      <th>0</th>\n",
       "      <td>19995</td>\n",
       "      <td>Avatar</td>\n",
       "      <td>[Action, Adventure, Fantasy, ScienceFiction]</td>\n",
       "      <td>[cultureclash, future, spacewar, spacecolony, ...</td>\n",
       "      <td>[In, the, 22nd, century,, a, paraplegic, Marin...</td>\n",
       "      <td>[SamWorthington, ZoeSaldana, SigourneyWeaver]</td>\n",
       "      <td>[[, {, \", c, r, e, d, i, t, _, i, d, \", :, , \"...</td>\n",
       "    </tr>\n",
       "    <tr>\n",
       "      <th>1</th>\n",
       "      <td>285</td>\n",
       "      <td>Pirates of the Caribbean: At World's End</td>\n",
       "      <td>[Adventure, Fantasy, Action]</td>\n",
       "      <td>[ocean, drugabuse, exoticisland, eastindiatrad...</td>\n",
       "      <td>[Captain, Barbossa,, long, believed, to, be, d...</td>\n",
       "      <td>[JohnnyDepp, OrlandoBloom, KeiraKnightley]</td>\n",
       "      <td>[[, {, \", c, r, e, d, i, t, _, i, d, \", :, , \"...</td>\n",
       "    </tr>\n",
       "    <tr>\n",
       "      <th>2</th>\n",
       "      <td>206647</td>\n",
       "      <td>Spectre</td>\n",
       "      <td>[Action, Adventure, Crime]</td>\n",
       "      <td>[spy, basedonnovel, secretagent, sequel, mi6, ...</td>\n",
       "      <td>[A, cryptic, message, from, Bond’s, past, send...</td>\n",
       "      <td>[DanielCraig, ChristophWaltz, LéaSeydoux]</td>\n",
       "      <td>[[, {, \", c, r, e, d, i, t, _, i, d, \", :, , \"...</td>\n",
       "    </tr>\n",
       "    <tr>\n",
       "      <th>3</th>\n",
       "      <td>49026</td>\n",
       "      <td>The Dark Knight Rises</td>\n",
       "      <td>[Action, Crime, Drama, Thriller]</td>\n",
       "      <td>[dccomics, crimefighter, terrorist, secretiden...</td>\n",
       "      <td>[Following, the, death, of, District, Attorney...</td>\n",
       "      <td>[ChristianBale, MichaelCaine, GaryOldman]</td>\n",
       "      <td>[[, {, \", c, r, e, d, i, t, _, i, d, \", :, , \"...</td>\n",
       "    </tr>\n",
       "    <tr>\n",
       "      <th>4</th>\n",
       "      <td>49529</td>\n",
       "      <td>John Carter</td>\n",
       "      <td>[Action, Adventure, ScienceFiction]</td>\n",
       "      <td>[basedonnovel, mars, medallion, spacetravel, p...</td>\n",
       "      <td>[John, Carter, is, a, war-weary,, former, mili...</td>\n",
       "      <td>[TaylorKitsch, LynnCollins, SamanthaMorton]</td>\n",
       "      <td>[[, {, \", c, r, e, d, i, t, _, i, d, \", :, , \"...</td>\n",
       "    </tr>\n",
       "    <tr>\n",
       "      <th>...</th>\n",
       "      <td>...</td>\n",
       "      <td>...</td>\n",
       "      <td>...</td>\n",
       "      <td>...</td>\n",
       "      <td>...</td>\n",
       "      <td>...</td>\n",
       "      <td>...</td>\n",
       "    </tr>\n",
       "    <tr>\n",
       "      <th>4804</th>\n",
       "      <td>9367</td>\n",
       "      <td>El Mariachi</td>\n",
       "      <td>[Action, Crime, Thriller]</td>\n",
       "      <td>[unitedstates–mexicobarrier, legs, arms, paper...</td>\n",
       "      <td>[El, Mariachi, just, wants, to, play, his, gui...</td>\n",
       "      <td>[CarlosGallardo, JaimedeHoyos, PeterMarquardt]</td>\n",
       "      <td>[[, {, \", c, r, e, d, i, t, _, i, d, \", :, , \"...</td>\n",
       "    </tr>\n",
       "    <tr>\n",
       "      <th>4805</th>\n",
       "      <td>72766</td>\n",
       "      <td>Newlyweds</td>\n",
       "      <td>[Comedy, Romance]</td>\n",
       "      <td>[]</td>\n",
       "      <td>[A, newlywed, couple's, honeymoon, is, upended...</td>\n",
       "      <td>[EdwardBurns, KerryBishé, MarshaDietlein]</td>\n",
       "      <td>[[, {, \", c, r, e, d, i, t, _, i, d, \", :, , \"...</td>\n",
       "    </tr>\n",
       "    <tr>\n",
       "      <th>4806</th>\n",
       "      <td>231617</td>\n",
       "      <td>Signed, Sealed, Delivered</td>\n",
       "      <td>[Comedy, Drama, Romance, TVMovie]</td>\n",
       "      <td>[date, loveatfirstsight, narration, investigat...</td>\n",
       "      <td>[\"Signed,, Sealed,, Delivered\", introduces, a,...</td>\n",
       "      <td>[EricMabius, KristinBooth, CrystalLowe]</td>\n",
       "      <td>[[, {, \", c, r, e, d, i, t, _, i, d, \", :, , \"...</td>\n",
       "    </tr>\n",
       "    <tr>\n",
       "      <th>4807</th>\n",
       "      <td>126186</td>\n",
       "      <td>Shanghai Calling</td>\n",
       "      <td>[]</td>\n",
       "      <td>[]</td>\n",
       "      <td>[When, ambitious, New, York, attorney, Sam, is...</td>\n",
       "      <td>[DanielHenney, ElizaCoupe, BillPaxton]</td>\n",
       "      <td>[[, {, \", c, r, e, d, i, t, _, i, d, \", :, , \"...</td>\n",
       "    </tr>\n",
       "    <tr>\n",
       "      <th>4808</th>\n",
       "      <td>25975</td>\n",
       "      <td>My Date with Drew</td>\n",
       "      <td>[Documentary]</td>\n",
       "      <td>[obsession, camcorder, crush, dreamgirl]</td>\n",
       "      <td>[Ever, since, the, second, grade, when, he, fi...</td>\n",
       "      <td>[DrewBarrymore, BrianHerzlinger, CoreyFeldman]</td>\n",
       "      <td>[[, {, \", c, r, e, d, i, t, _, i, d, \", :, , \"...</td>\n",
       "    </tr>\n",
       "  </tbody>\n",
       "</table>\n",
       "<p>4806 rows × 7 columns</p>\n",
       "</div>"
      ],
      "text/plain": [
       "      movie_id                                     title  \\\n",
       "0        19995                                    Avatar   \n",
       "1          285  Pirates of the Caribbean: At World's End   \n",
       "2       206647                                   Spectre   \n",
       "3        49026                     The Dark Knight Rises   \n",
       "4        49529                               John Carter   \n",
       "...        ...                                       ...   \n",
       "4804      9367                               El Mariachi   \n",
       "4805     72766                                 Newlyweds   \n",
       "4806    231617                 Signed, Sealed, Delivered   \n",
       "4807    126186                          Shanghai Calling   \n",
       "4808     25975                         My Date with Drew   \n",
       "\n",
       "                                            genres  \\\n",
       "0     [Action, Adventure, Fantasy, ScienceFiction]   \n",
       "1                     [Adventure, Fantasy, Action]   \n",
       "2                       [Action, Adventure, Crime]   \n",
       "3                 [Action, Crime, Drama, Thriller]   \n",
       "4              [Action, Adventure, ScienceFiction]   \n",
       "...                                            ...   \n",
       "4804                     [Action, Crime, Thriller]   \n",
       "4805                             [Comedy, Romance]   \n",
       "4806             [Comedy, Drama, Romance, TVMovie]   \n",
       "4807                                            []   \n",
       "4808                                 [Documentary]   \n",
       "\n",
       "                                               keywords  \\\n",
       "0     [cultureclash, future, spacewar, spacecolony, ...   \n",
       "1     [ocean, drugabuse, exoticisland, eastindiatrad...   \n",
       "2     [spy, basedonnovel, secretagent, sequel, mi6, ...   \n",
       "3     [dccomics, crimefighter, terrorist, secretiden...   \n",
       "4     [basedonnovel, mars, medallion, spacetravel, p...   \n",
       "...                                                 ...   \n",
       "4804  [unitedstates–mexicobarrier, legs, arms, paper...   \n",
       "4805                                                 []   \n",
       "4806  [date, loveatfirstsight, narration, investigat...   \n",
       "4807                                                 []   \n",
       "4808           [obsession, camcorder, crush, dreamgirl]   \n",
       "\n",
       "                                               overview  \\\n",
       "0     [In, the, 22nd, century,, a, paraplegic, Marin...   \n",
       "1     [Captain, Barbossa,, long, believed, to, be, d...   \n",
       "2     [A, cryptic, message, from, Bond’s, past, send...   \n",
       "3     [Following, the, death, of, District, Attorney...   \n",
       "4     [John, Carter, is, a, war-weary,, former, mili...   \n",
       "...                                                 ...   \n",
       "4804  [El, Mariachi, just, wants, to, play, his, gui...   \n",
       "4805  [A, newlywed, couple's, honeymoon, is, upended...   \n",
       "4806  [\"Signed,, Sealed,, Delivered\", introduces, a,...   \n",
       "4807  [When, ambitious, New, York, attorney, Sam, is...   \n",
       "4808  [Ever, since, the, second, grade, when, he, fi...   \n",
       "\n",
       "                                                cast  \\\n",
       "0      [SamWorthington, ZoeSaldana, SigourneyWeaver]   \n",
       "1         [JohnnyDepp, OrlandoBloom, KeiraKnightley]   \n",
       "2          [DanielCraig, ChristophWaltz, LéaSeydoux]   \n",
       "3          [ChristianBale, MichaelCaine, GaryOldman]   \n",
       "4        [TaylorKitsch, LynnCollins, SamanthaMorton]   \n",
       "...                                              ...   \n",
       "4804  [CarlosGallardo, JaimedeHoyos, PeterMarquardt]   \n",
       "4805       [EdwardBurns, KerryBishé, MarshaDietlein]   \n",
       "4806         [EricMabius, KristinBooth, CrystalLowe]   \n",
       "4807          [DanielHenney, ElizaCoupe, BillPaxton]   \n",
       "4808  [DrewBarrymore, BrianHerzlinger, CoreyFeldman]   \n",
       "\n",
       "                                                   crew  \n",
       "0     [[, {, \", c, r, e, d, i, t, _, i, d, \", :, , \"...  \n",
       "1     [[, {, \", c, r, e, d, i, t, _, i, d, \", :, , \"...  \n",
       "2     [[, {, \", c, r, e, d, i, t, _, i, d, \", :, , \"...  \n",
       "3     [[, {, \", c, r, e, d, i, t, _, i, d, \", :, , \"...  \n",
       "4     [[, {, \", c, r, e, d, i, t, _, i, d, \", :, , \"...  \n",
       "...                                                 ...  \n",
       "4804  [[, {, \", c, r, e, d, i, t, _, i, d, \", :, , \"...  \n",
       "4805  [[, {, \", c, r, e, d, i, t, _, i, d, \", :, , \"...  \n",
       "4806  [[, {, \", c, r, e, d, i, t, _, i, d, \", :, , \"...  \n",
       "4807  [[, {, \", c, r, e, d, i, t, _, i, d, \", :, , \"...  \n",
       "4808  [[, {, \", c, r, e, d, i, t, _, i, d, \", :, , \"...  \n",
       "\n",
       "[4806 rows x 7 columns]"
      ]
     },
     "execution_count": 17,
     "metadata": {},
     "output_type": "execute_result"
    }
   ],
   "source": [
    "# movies.head\n",
    "movies"
   ]
  },
  {
   "cell_type": "code",
   "execution_count": 18,
   "id": "b1c425c7-dea0-4685-af62-32ffd9527485",
   "metadata": {},
   "outputs": [],
   "source": [
    "#make a new column tags in which the value is concatenated and stored\n",
    "movies['tags']=movies['overview']+movies['genres']+movies['keywords']+movies['cast']+movies['crew']\n",
    "movies\n",
    "#new data framae\n",
    "new_df=movies[[\"movie_id\",\"title\",\"tags\"]]\n",
    "# new_df[\"tags\"][0]\n",
    "# new_df.iloc[0].tags"
   ]
  },
  {
   "cell_type": "code",
   "execution_count": 55,
   "id": "2b722ffe-1859-40b8-b8db-05f0aa55ca27",
   "metadata": {},
   "outputs": [],
   "source": [
    "# movies[\"over\"]"
   ]
  },
  {
   "cell_type": "code",
   "execution_count": 21,
   "id": "a14384f1-900f-4c00-b003-ca8addca7571",
   "metadata": {},
   "outputs": [
    {
     "name": "stderr",
     "output_type": "stream",
     "text": [
      "C:\\Users\\abdul ahad\\AppData\\Local\\Temp\\ipykernel_9568\\216624118.py:3: SettingWithCopyWarning: \n",
      "A value is trying to be set on a copy of a slice from a DataFrame.\n",
      "Try using .loc[row_indexer,col_indexer] = value instead\n",
      "\n",
      "See the caveats in the documentation: https://pandas.pydata.org/pandas-docs/stable/user_guide/indexing.html#returning-a-view-versus-a-copy\n",
      "  new_df[\"tags\"]=new_df[\"tags\"].apply(lambda x:\" \".join(x))\n"
     ]
    }
   ],
   "source": [
    "#now join it\n",
    "# new_df[\"tags\"]=new_df[\"tags\"].apply(lambda x:\" \".join(x))\n",
    "new_df[\"tags\"]=new_df[\"tags\"].apply(lambda x:\" \".join(x))"
   ]
  },
  {
   "cell_type": "code",
   "execution_count": 22,
   "id": "bd151278-4b45-4192-8ed8-50738c3c8a86",
   "metadata": {},
   "outputs": [
    {
     "data": {
      "text/plain": [
       "'I n   t h e   2 2 n d   c e n t u r y ,   a   p a r a p l e g i c   M a r i n e   i s   d i s p a t c h e d   t o   t h e   m o o n   P a n d o r a   o n   a   u n i q u e   m i s s i o n ,   b u t   b e c o m e s   t o r n   b e t w e e n   f o l l o w i n g   o r d e r s   a n d   p r o t e c t i n g   a n   a l i e n   c i v i l i z a t i o n .   A c t i o n   A d v e n t u r e   F a n t a s y   S c i e n c e F i c t i o n   c u l t u r e c l a s h   f u t u r e   s p a c e w a r   s p a c e c o l o n y   s o c i e t y   s p a c e t r a v e l   f u t u r i s t i c   r o m a n c e   s p a c e   a l i e n   t r i b e   a l i e n p l a n e t   c g i   m a r i n e   s o l d i e r   b a t t l e   l o v e a f f a i r   a n t i w a r   p o w e r r e l a t i o n s   m i n d a n d s o u l   3 d   S a m W o r t h i n g t o n   Z o e S a l d a n a   S i g o u r n e y W e a v e r   [   {   \"   c   r   e   d   i   t   _   i   d   \"   :     \"   5   2   f   e   4   8   0   0   9   2   5   1   4   1   6   c   7   5   0   a   c   a   2   3   \"   ,     \"   d   e   p   a   r   t   m   e   n   t   \"   :     \"   E   d   i   t   i   n   g   \"   ,     \"   g   e   n   d   e   r   \"   :     0   ,     \"   i   d   \"   :     1   7   2   1   ,     \"   j   o   b   \"   :     \"   E   d   i   t   o   r   \"   ,     \"   n   a   m   e   \"   :     \"   S   t   e   p   h   e   n     E   .     R   i   v   k   i   n   \"   }   ,     {   \"   c   r   e   d   i   t   _   i   d   \"   :     \"   5   3   9   c   4   7   e   c   c   3   a   3   6   8   1   0   e   3   0   0   1   f   8   7   \"   ,     \"   d   e   p   a   r   t   m   e   n   t   \"   :     \"   A   r   t   \"   ,     \"   g   e   n   d   e   r   \"   :     2   ,     \"   i   d   \"   :     4   9   6   ,     \"   j   o   b   \"   :     \"   P   r   o   d   u   c   t   i   o   n     D   e   s   i   g   n   \"   ,     \"   n   a   m   e   \"   :     \"   R   i   c   k     C   a   r   t   e   r   \"   }   ,     {   \"   c   r   e   d   i   t   _   i   d   \"   :     \"   5   4   4   9   1   c   8   9   c   3   a   3   6   8   0   f   b   4   0   0   1   c   f   7   \"   ,     \"   d   e   p   a   r   t   m   e   n   t   \"   :     \"   S   o   u   n   d   \"   ,     \"   g   e   n   d   e   r   \"   :     0   ,     \"   i   d   \"   :     9   0   0   ,     \"   j   o   b   \"   :     \"   S   o   u   n   d     D   e   s   i   g   n   e   r   \"   ,     \"   n   a   m   e   \"   :     \"   C   h   r   i   s   t   o   p   h   e   r     B   o   y   e   s   \"   }   ,     {   \"   c   r   e   d   i   t   _   i   d   \"   :     \"   5   4   4   9   1   c   b   7   0   e   0   a   2   6   7   4   8   0   0   0   1   b   d   0   \"   ,     \"   d   e   p   a   r   t   m   e   n   t   \"   :     \"   S   o   u   n   d   \"   ,     \"   g   e   n   d   e   r   \"   :     0   ,     \"   i   d   \"   :     9   0   0   ,     \"   j   o   b   \"   :     \"   S   u   p   e   r   v   i   s   i   n   g     S   o   u   n   d     E   d   i   t   o   r   \"   ,     \"   n   a   m   e   \"   :     \"   C   h   r   i   s   t   o   p   h   e   r     B   o   y   e   s   \"   }   ,     {   \"   c   r   e   d   i   t   _   i   d   \"   :     \"   5   3   9   c   4   a   4   c   c   3   a   3   6   8   1   0   c   9   0   0   2   1   0   1   \"   ,     \"   d   e   p   a   r   t   m   e   n   t   \"   :     \"   P   r   o   d   u   c   t   i   o   n   \"   ,     \"   g   e   n   d   e   r   \"   :     1   ,     \"   i   d   \"   :     1   2   6   2   ,     \"   j   o   b   \"   :     \"   C   a   s   t   i   n   g   \"   ,     \"   n   a   m   e   \"   :     \"   M   a   l   i     F   i   n   n   \"   }   ,     {   \"   c   r   e   d   i   t   _   i   d   \"   :     \"   5   5   4   4   e   e   3   b   9   2   5   1   4   1   4   9   9   f   0   0   0   8   f   c   \"   ,     \"   d   e   p   a   r   t   m   e   n   t   \"   :     \"   S   o   u   n   d   \"   ,     \"   g   e   n   d   e   r   \"   :     2   ,     \"   i   d   \"   :     1   7   2   9   ,     \"   j   o   b   \"   :     \"   O   r   i   g   i   n   a   l     M   u   s   i   c     C   o   m   p   o   s   e   r   \"   ,     \"   n   a   m   e   \"   :     \"   J   a   m   e   s     H   o   r   n   e   r   \"   }   ,     {   \"   c   r   e   d   i   t   _   i   d   \"   :     \"   5   2   f   e   4   8   0   0   9   2   5   1   4   1   6   c   7   5   0   a   c   9   c   3   \"   ,     \"   d   e   p   a   r   t   m   e   n   t   \"   :     \"   D   i   r   e   c   t   i   n   g   \"   ,     \"   g   e   n   d   e   r   \"   :     2   ,     \"   i   d   \"   :     2   7   1   0   ,     \"   j   o   b   \"   :     \"   D   i   r   e   c   t   o   r   \"   ,     \"   n   a   m   e   \"   :     \"   J   a   m   e   s     C   a   m   e   r   o   n   \"   }   ,     {   \"   c   r   e   d   i   t   _   i   d   \"   :     \"   5   2   f   e   4   8   0   0   9   2   5   1   4   1   6   c   7   5   0   a   c   9   d   9   \"   ,     \"   d   e   p   a   r   t   m   e   n   t   \"   :     \"   W   r   i   t   i   n   g   \"   ,     \"   g   e   n   d   e   r   \"   :     2   ,     \"   i   d   \"   :     2   7   1   0   ,     \"   j   o   b   \"   :     \"   W   r   i   t   e   r   \"   ,     \"   n   a   m   e   \"   :     \"   J   a   m   e   s     C   a   m   e   r   o   n   \"   }   ,     {   \"   c   r   e   d   i   t   _   i   d   \"   :     \"   5   2   f   e   4   8   0   0   9   2   5   1   4   1   6   c   7   5   0   a   c   a   1   7   \"   ,     \"   d   e   p   a   r   t   m   e   n   t   \"   :     \"   E   d   i   t   i   n   g   \"   ,     \"   g   e   n   d   e   r   \"   :     2   ,     \"   i   d   \"   :     2   7   1   0   ,     \"   j   o   b   \"   :     \"   E   d   i   t   o   r   \"   ,     \"   n   a   m   e   \"   :     \"   J   a   m   e   s     C   a   m   e   r   o   n   \"   }   ,     {   \"   c   r   e   d   i   t   _   i   d   \"   :     \"   5   2   f   e   4   8   0   0   9   2   5   1   4   1   6   c   7   5   0   a   c   a   2   9   \"   ,     \"   d   e   p   a   r   t   m   e   n   t   \"   :     \"   P   r   o   d   u   c   t   i   o   n   \"   ,     \"   g   e   n   d   e   r   \"   :     2   ,     \"   i   d   \"   :     2   7   1   0   ,     \"   j   o   b   \"   :     \"   P   r   o   d   u   c   e   r   \"   ,     \"   n   a   m   e   \"   :     \"   J   a   m   e   s     C   a   m   e   r   o   n   \"   }   ,     {   \"   c   r   e   d   i   t   _   i   d   \"   :     \"   5   2   f   e   4   8   0   0   9   2   5   1   4   1   6   c   7   5   0   a   c   a   3   f   \"   ,     \"   d   e   p   a   r   t   m   e   n   t   \"   :     \"   W   r   i   t   i   n   g   \"   ,     \"   g   e   n   d   e   r   \"   :     2   ,     \"   i   d   \"   :     2   7   1   0   ,     \"   j   o   b   \"   :     \"   S   c   r   e   e   n   p   l   a   y   \"   ,     \"   n   a   m   e   \"   :     \"   J   a   m   e   s     C   a   m   e   r   o   n   \"   }   ,     {   \"   c   r   e   d   i   t   _   i   d   \"   :     \"   5   3   9   c   4   9   8   7   c   3   a   3   6   8   1   0   b   a   0   0   2   1   a   4   \"   ,     \"   d   e   p   a   r   t   m   e   n   t   \"   :     \"   A   r   t   \"   ,     \"   g   e   n   d   e   r   \"   :     2   ,     \"   i   d   \"   :     7   2   3   6   ,     \"   j   o   b   \"   :     \"   A   r   t     D   i   r   e   c   t   i   o   n   \"   ,     \"   n   a   m   e   \"   :     \"   A   n   d   r   e   w     M   e   n   z   i   e   s   \"   }   ,     {   \"   c   r   e   d   i   t   _   i   d   \"   :     \"   5   4   9   5   9   8   c   3   c   3   a   3   6   8   6   a   e   9   0   0   4   3   8   3   \"   ,     \"   d   e   p   a   r   t   m   e   n   t   \"   :     \"   V   i   s   u   a   l     E   f   f   e   c   t   s   \"   ,     \"   g   e   n   d   e   r   \"   :     0   ,     \"   i   d   \"   :     6   6   9   0   ,     \"   j   o   b   \"   :     \"   V   i   s   u   a   l     E   f   f   e   c   t   s     P   r   o   d   u   c   e   r   \"   ,     \"   n   a   m   e   \"   :     \"   J   i   l   l     B   r   o   o   k   s   \"   }   ,     {   \"   c   r   e   d   i   t   _   i   d   \"   :     \"   5   2   f   e   4   8   0   0   9   2   5   1   4   1   6   c   7   5   0   a   c   a   4   b   \"   ,     \"   d   e   p   a   r   t   m   e   n   t   \"   :     \"   P   r   o   d   u   c   t   i   o   n   \"   ,     \"   g   e   n   d   e   r   \"   :     1   ,     \"   i   d   \"   :     6   3   4   7   ,     \"   j   o   b   \"   :     \"   C   a   s   t   i   n   g   \"   ,     \"   n   a   m   e   \"   :     \"   M   a   r   g   e   r   y     S   i   m   k   i   n   \"   }   ,     {   \"   c   r   e   d   i   t   _   i   d   \"   :     \"   5   7   0   b   6   f   4   1   9   2   5   1   4   1   7   d   a   7   0   0   3   2   f   e   \"   ,     \"   d   e   p   a   r   t   m   e   n   t   \"   :     \"   A   r   t   \"   ,     \"   g   e   n   d   e   r   \"   :     2   ,     \"   i   d   \"   :     6   8   7   8   ,     \"   j   o   b   \"   :     \"   S   u   p   e   r   v   i   s   i   n   g     A   r   t     D   i   r   e   c   t   o   r   \"   ,     \"   n   a   m   e   \"   :     \"   K   e   v   i   n     I   s   h   i   o   k   a   \"   }   ,     {   \"   c   r   e   d   i   t   _   i   d   \"   :     \"   5   4   9   5   a   0   f   a   c   3   a   3   6   8   6   a   e   9   0   0   4   4   6   8   \"   ,     \"   d   e   p   a   r   t   m   e   n   t   \"   :     \"   S   o   u   n   d   \"   ,     \"   g   e   n   d   e   r   \"   :     0   ,     \"   i   d   \"   :     6   8   8   3   ,     \"   j   o   b   \"   :     \"   M   u   s   i   c     E   d   i   t   o   r   \"   ,     \"   n   a   m   e   \"   :     \"   D   i   c   k     B   e   r   n   s   t   e   i   n   \"   }   ,     {   \"   c   r   e   d   i   t   _   i   d   \"   :     \"   5   4   9   5   9   7   0   6   c   3   a   3   6   8   6   a   f   3   0   0   3   e   8   1   \"   ,     \"   d   e   p   a   r   t   m   e   n   t   \"   :     \"   S   o   u   n   d   \"   ,     \"   g   e   n   d   e   r   \"   :     0   ,     \"   i   d   \"   :     8   1   5   9   ,     \"   j   o   b   \"   :     \"   S   o   u   n   d     E   f   f   e   c   t   s     E   d   i   t   o   r   \"   ,     \"   n   a   m   e   \"   :     \"   S   h   a   n   n   o   n     M   i   l   l   s   \"   }   ,     {   \"   c   r   e   d   i   t   _   i   d   \"   :     \"   5   4   4   9   1   d   5   8   c   3   a   3   6   8   0   f   b   1   0   0   1   c   c   b   \"   ,     \"   d   e   p   a   r   t   m   e   n   t   \"   :     \"   S   o   u   n   d   \"   ,     \"   g   e   n   d   e   r   \"   :     0   ,     \"   i   d   \"   :     8   1   6   0   ,     \"   j   o   b   \"   :     \"   F   o   l   e   y   \"   ,     \"   n   a   m   e   \"   :     \"   D   e   n   n   i   e     T   h   o   r   p   e   \"   }   ,     {   \"   c   r   e   d   i   t   _   i   d   \"   :     \"   5   4   4   9   1   d   6   c   c   3   a   3   6   8   0   f   a   5   0   0   1   b   2   c   \"   ,     \"   d   e   p   a   r   t   m   e   n   t   \"   :     \"   S   o   u   n   d   \"   ,     \"   g   e   n   d   e   r   \"   :     0   ,     \"   i   d   \"   :     8   1   6   3   ,     \"   j   o   b   \"   :     \"   F   o   l   e   y   \"   ,     \"   n   a   m   e   \"   :     \"   J   a   n   a     V   a   n   c   e   \"   }   ,     {   \"   c   r   e   d   i   t   _   i   d   \"   :     \"   5   2   f   e   4   8   0   0   9   2   5   1   4   1   6   c   7   5   0   a   c   a   5   7   \"   ,     \"   d   e   p   a   r   t   m   e   n   t   \"   :     \"   C   o   s   t   u   m   e     &     M   a   k   e   -   U   p   \"   ,     \"   g   e   n   d   e   r   \"   :     1   ,     \"   i   d   \"   :     8   5   2   7   ,     \"   j   o   b   \"   :     \"   C   o   s   t   u   m   e     D   e   s   i   g   n   \"   ,     \"   n   a   m   e   \"   :     \"   D   e   b   o   r   a   h     L   y   n   n     S   c   o   t   t   \"   }   ,     {   \"   c   r   e   d   i   t   _   i   d   \"   :     \"   5   2   f   e   4   8   0   0   9   2   5   1   4   1   6   c   7   5   0   a   c   a   2   f   \"   ,     \"   d   e   p   a   r   t   m   e   n   t   \"   :     \"   P   r   o   d   u   c   t   i   o   n   \"   ,     \"   g   e   n   d   e   r   \"   :     2   ,     \"   i   d   \"   :     8   5   2   9   ,     \"   j   o   b   \"   :     \"   P   r   o   d   u   c   e   r   \"   ,     \"   n   a   m   e   \"   :     \"   J   o   n     L   a   n   d   a   u   \"   }   ,     {   \"   c   r   e   d   i   t   _   i   d   \"   :     \"   5   3   9   c   4   9   3   7   c   3   a   3   6   8   1   0   b   a   0   0   2   1   9   4   \"   ,     \"   d   e   p   a   r   t   m   e   n   t   \"   :     \"   A   r   t   \"   ,     \"   g   e   n   d   e   r   \"   :     0   ,     \"   i   d   \"   :     9   6   1   8   ,     \"   j   o   b   \"   :     \"   A   r   t     D   i   r   e   c   t   i   o   n   \"   ,     \"   n   a   m   e   \"   :     \"   S   e   a   n     H   a   w   o   r   t   h   \"   }   ,     {   \"   c   r   e   d   i   t   _   i   d   \"   :     \"   5   3   9   c   4   9   b   6   c   3   a   3   6   8   1   0   c   1   0   0   2   0   e   6   \"   ,     \"   d   e   p   a   r   t   m   e   n   t   \"   :     \"   A   r   t   \"   ,     \"   g   e   n   d   e   r   \"   :     1   ,     \"   i   d   \"   :     1   2   6   5   3   ,     \"   j   o   b   \"   :     \"   S   e   t     D   e   c   o   r   a   t   i   o   n   \"   ,     \"   n   a   m   e   \"   :     \"   K   i   m     S   i   n   c   l   a   i   r   \"   }   ,     {   \"   c   r   e   d   i   t   _   i   d   \"   :     \"   5   7   0   b   6   f   2   f   9   2   5   1   4   1   3   a   0   e   0   0   0   2   0   d   \"   ,     \"   d   e   p   a   r   t   m   e   n   t   \"   :     \"   A   r   t   \"   ,     \"   g   e   n   d   e   r   \"   :     1   ,     \"   i   d   \"   :     1   2   6   5   3   ,     \"   j   o   b   \"   :     \"   S   u   p   e   r   v   i   s   i   n   g     A   r   t     D   i   r   e   c   t   o   r   \"   ,     \"   n   a   m   e   \"   :     \"   K   i   m     S   i   n   c   l   a   i   r   \"   }   ,     {   \"   c   r   e   d   i   t   _   i   d   \"   :     \"   5   4   4   9   1   a   6   c   0   e   0   a   2   6   7   4   8   c   0   0   1   b   1   9   \"   ,     \"   d   e   p   a   r   t   m   e   n   t   \"   :     \"   A   r   t   \"   ,     \"   g   e   n   d   e   r   \"   :     2   ,     \"   i   d   \"   :     1   4   3   5   0   ,     \"   j   o   b   \"   :     \"   S   e   t     D   e   s   i   g   n   e   r   \"   ,     \"   n   a   m   e   \"   :     \"   R   i   c   h   a   r   d     F   .     M   a   y   s   \"   }   ,     {   \"   c   r   e   d   i   t   _   i   d   \"   :     \"   5   6   9   2   8   c   f   4   c   3   a   3   6   8   4   c   f   f   0   0   2   5   c   4   \"   ,     \"   d   e   p   a   r   t   m   e   n   t   \"   :     \"   P   r   o   d   u   c   t   i   o   n   \"   ,     \"   g   e   n   d   e   r   \"   :     1   ,     \"   i   d   \"   :     2   0   2   9   4   ,     \"   j   o   b   \"   :     \"   E   x   e   c   u   t   i   v   e     P   r   o   d   u   c   e   r   \"   ,     \"   n   a   m   e   \"   :     \"   L   a   e   t   a     K   a   l   o   g   r   i   d   i   s   \"   }   ,     {   \"   c   r   e   d   i   t   _   i   d   \"   :     \"   5   2   f   e   4   8   0   0   9   2   5   1   4   1   6   c   7   5   0   a   c   a   5   1   \"   ,     \"   d   e   p   a   r   t   m   e   n   t   \"   :     \"   C   o   s   t   u   m   e     &     M   a   k   e   -   U   p   \"   ,     \"   g   e   n   d   e   r   \"   :     0   ,     \"   i   d   \"   :     1   7   6   7   5   ,     \"   j   o   b   \"   :     \"   C   o   s   t   u   m   e     D   e   s   i   g   n   \"   ,     \"   n   a   m   e   \"   :     \"   M   a   y   e   s     C   .     R   u   b   e   o   \"   }   ,     {   \"   c   r   e   d   i   t   _   i   d   \"   :     \"   5   2   f   e   4   8   0   0   9   2   5   1   4   1   6   c   7   5   0   a   c   a   1   1   \"   ,     \"   d   e   p   a   r   t   m   e   n   t   \"   :     \"   C   a   m   e   r   a   \"   ,     \"   g   e   n   d   e   r   \"   :     2   ,     \"   i   d   \"   :     1   8   2   6   5   ,     \"   j   o   b   \"   :     \"   D   i   r   e   c   t   o   r     o   f     P   h   o   t   o   g   r   a   p   h   y   \"   ,     \"   n   a   m   e   \"   :     \"   M   a   u   r   o     F   i   o   r   e   \"   }   ,     {   \"   c   r   e   d   i   t   _   i   d   \"   :     \"   5   4   4   9   1   9   4   d   0   e   0   a   2   6   7   4   8   f   0   0   1   b   3   9   \"   ,     \"   d   e   p   a   r   t   m   e   n   t   \"   :     \"   A   r   t   \"   ,     \"   g   e   n   d   e   r   \"   :     0   ,     \"   i   d   \"   :     4   2   2   8   1   ,     \"   j   o   b   \"   :     \"   S   e   t     D   e   s   i   g   n   e   r   \"   ,     \"   n   a   m   e   \"   :     \"   S   c   o   t   t     H   e   r   b   e   r   t   s   o   n   \"   }   ,     {   \"   c   r   e   d   i   t   _   i   d   \"   :     \"   5   2   f   e   4   8   0   0   9   2   5   1   4   1   6   c   7   5   0   a   c   a   0   5   \"   ,     \"   d   e   p   a   r   t   m   e   n   t   \"   :     \"   C   r   e   w   \"   ,     \"   g   e   n   d   e   r   \"   :     0   ,     \"   i   d   \"   :     4   2   2   8   8   ,     \"   j   o   b   \"   :     \"   S   t   u   n   t   s   \"   ,     \"   n   a   m   e   \"   :     \"   W   o   o   d   y     S   c   h   u   l   t   z   \"   }   ,     {   \"   c   r   e   d   i   t   _   i   d   \"   :     \"   5   5   9   2   a   e   f   b   9   2   5   1   4   1   5   2   d   e   0   0   1   0   f   5   \"   ,     \"   d   e   p   a   r   t   m   e   n   t   \"   :     \"   C   o   s   t   u   m   e     &     M   a   k   e   -   U   p   \"   ,     \"   g   e   n   d   e   r   \"   :     0   ,     \"   i   d   \"   :     2   9   0   6   7   ,     \"   j   o   b   \"   :     \"   M   a   k   e   u   p     A   r   t   i   s   t   \"   ,     \"   n   a   m   e   \"   :     \"   L   i   n   d   a     D   e   V   e   t   t   a   \"   }   ,     {   \"   c   r   e   d   i   t   _   i   d   \"   :     \"   5   5   9   2   a   f   a   4   9   2   5   1   4   1   5   2   d   e   0   0   1   1   2   c   \"   ,     \"   d   e   p   a   r   t   m   e   n   t   \"   :     \"   C   o   s   t   u   m   e     &     M   a   k   e   -   U   p   \"   ,     \"   g   e   n   d   e   r   \"   :     0   ,     \"   i   d   \"   :     2   9   0   6   7   ,     \"   j   o   b   \"   :     \"   H   a   i   r   s   t   y   l   i   s   t   \"   ,     \"   n   a   m   e   \"   :     \"   L   i   n   d   a     D   e   V   e   t   t   a   \"   }   ,     {   \"   c   r   e   d   i   t   _   i   d   \"   :     \"   5   4   9   5   9   e   d   5   9   2   5   1   4   1   3   0   f   c   0   0   2   e   5   d   \"   ,     \"   d   e   p   a   r   t   m   e   n   t   \"   :     \"   C   a   m   e   r   a   \"   ,     \"   g   e   n   d   e   r   \"   :     2   ,     \"   i   d   \"   :     3   3   3   0   2   ,     \"   j   o   b   \"   :     \"   C   a   m   e   r   a     O   p   e   r   a   t   o   r   \"   ,     \"   n   a   m   e   \"   :     \"   R   i   c   h   a   r   d     B   l   u   c   k   \"   }   ,     {   \"   c   r   e   d   i   t   _   i   d   \"   :     \"   5   3   9   c   4   8   9   1   c   3   a   3   6   8   1   0   b   a   0   0   2   1   4   7   \"   ,     \"   d   e   p   a   r   t   m   e   n   t   \"   :     \"   A   r   t   \"   ,     \"   g   e   n   d   e   r   \"   :     2   ,     \"   i   d   \"   :     3   3   3   0   3   ,     \"   j   o   b   \"   :     \"   A   r   t     D   i   r   e   c   t   i   o   n   \"   ,     \"   n   a   m   e   \"   :     \"   S   i   m   o   n     B   r   i   g   h   t   \"   }   ,     {   \"   c   r   e   d   i   t   _   i   d   \"   :     \"   5   4   9   5   9   c   0   6   9   2   5   1   4   1   7   a   8   1   0   0   1   f   3   a   \"   ,     \"   d   e   p   a   r   t   m   e   n   t   \"   :     \"   V   i   s   u   a   l     E   f   f   e   c   t   s   \"   ,     \"   g   e   n   d   e   r   \"   :     0   ,     \"   i   d   \"   :     1   1   3   1   4   5   ,     \"   j   o   b   \"   :     \"   V   i   s   u   a   l     E   f   f   e   c   t   s     S   u   p   e   r   v   i   s   o   r   \"   ,     \"   n   a   m   e   \"   :     \"   R   i   c   h   a   r   d     M   a   r   t   i   n   \"   }   ,     {   \"   c   r   e   d   i   t   _   i   d   \"   :     \"   5   4   9   5   9   a   0   d   c   3   a   3   6   8   0   f   f   5   0   0   2   c   8   d   \"   ,     \"   d   e   p   a   r   t   m   e   n   t   \"   :     \"   C   r   e   w   \"   ,     \"   g   e   n   d   e   r   \"   :     2   ,     \"   i   d   \"   :     5   8   1   8   8   ,     \"   j   o   b   \"   :     \"   V   i   s   u   a   l     E   f   f   e   c   t   s     E   d   i   t   o   r   \"   ,     \"   n   a   m   e   \"   :     \"   S   t   e   v   e     R   .     M   o   o   r   e   \"   }   ,     {   \"   c   r   e   d   i   t   _   i   d   \"   :     \"   5   2   f   e   4   8   0   0   9   2   5   1   4   1   6   c   7   5   0   a   c   a   1   d   \"   ,     \"   d   e   p   a   r   t   m   e   n   t   \"   :     \"   E   d   i   t   i   n   g   \"   ,     \"   g   e   n   d   e   r   \"   :     2   ,     \"   i   d   \"   :     5   8   8   7   1   ,     \"   j   o   b   \"   :     \"   E   d   i   t   o   r   \"   ,     \"   n   a   m   e   \"   :     \"   J   o   h   n     R   e   f   o   u   a   \"   }   ,     {   \"   c   r   e   d   i   t   _   i   d   \"   :     \"   5   4   4   9   1   a   4   d   c   3   a   3   6   8   0   f   c   3   0   0   1   8   c   a   \"   ,     \"   d   e   p   a   r   t   m   e   n   t   \"   :     \"   A   r   t   \"   ,     \"   g   e   n   d   e   r   \"   :     0   ,     \"   i   d   \"   :     9   2   3   5   9   ,     \"   j   o   b   \"   :     \"   S   e   t     D   e   s   i   g   n   e   r   \"   ,     \"   n   a   m   e   \"   :     \"   K   a   r   l     J   .     M   a   r   t   i   n   \"   }   ,     {   \"   c   r   e   d   i   t   _   i   d   \"   :     \"   5   2   f   e   4   8   0   0   9   2   5   1   4   1   6   c   7   5   0   a   c   a   3   5   \"   ,     \"   d   e   p   a   r   t   m   e   n   t   \"   :     \"   C   a   m   e   r   a   \"   ,     \"   g   e   n   d   e   r   \"   :     1   ,     \"   i   d   \"   :     7   2   2   0   1   ,     \"   j   o   b   \"   :     \"   D   i   r   e   c   t   o   r     o   f     P   h   o   t   o   g   r   a   p   h   y   \"   ,     \"   n   a   m   e   \"   :     \"   C   h   i   l   i   n   g     L   i   n   \"   }   ,     {   \"   c   r   e   d   i   t   _   i   d   \"   :     \"   5   2   f   e   4   8   0   0   9   2   5   1   4   1   6   c   7   5   0   a   c   9   f   f   \"   ,     \"   d   e   p   a   r   t   m   e   n   t   \"   :     \"   C   r   e   w   \"   ,     \"   g   e   n   d   e   r   \"   :     0   ,     \"   i   d   \"   :     8   9   7   1   4   ,     \"   j   o   b   \"   :     \"   S   t   u   n   t   s   \"   ,     \"   n   a   m   e   \"   :     \"   I   l   r   a   m     C   h   o   i   \"   }   ,     {   \"   c   r   e   d   i   t   _   i   d   \"   :     \"   5   4   9   5   9   c   5   2   9   2   5   1   4   1   6   e   2   b   0   0   4   3   9   4   \"   ,     \"   d   e   p   a   r   t   m   e   n   t   \"   :     \"   V   i   s   u   a   l     E   f   f   e   c   t   s   \"   ,     \"   g   e   n   d   e   r   \"   :     2   ,     \"   i   d   \"   :     9   3   2   1   4   ,     \"   j   o   b   \"   :     \"   V   i   s   u   a   l     E   f   f   e   c   t   s     S   u   p   e   r   v   i   s   o   r   \"   ,     \"   n   a   m   e   \"   :     \"   S   t   e   v   e   n     Q   u   a   l   e   \"   }   ,     {   \"   c   r   e   d   i   t   _   i   d   \"   :     \"   5   4   4   9   1   e   d   f   0   e   0   a   2   6   7   4   8   9   0   0   1   c   3   7   \"   ,     \"   d   e   p   a   r   t   m   e   n   t   \"   :     \"   C   r   e   w   \"   ,     \"   g   e   n   d   e   r   \"   :     1   ,     \"   i   d   \"   :     1   2   2   6   0   7   ,     \"   j   o   b   \"   :     \"   D   i   a   l   e   c   t     C   o   a   c   h   \"   ,     \"   n   a   m   e   \"   :     \"   C   a   r   l   a     M   e   y   e   r   \"   }   ,     {   \"   c   r   e   d   i   t   _   i   d   \"   :     \"   5   3   9   c   4   8   5   b   c   3   a   3   6   8   6   5   3   d   0   0   1   a   3   a   \"   ,     \"   d   e   p   a   r   t   m   e   n   t   \"   :     \"   A   r   t   \"   ,     \"   g   e   n   d   e   r   \"   :     2   ,     \"   i   d   \"   :     1   3   2   5   8   5   ,     \"   j   o   b   \"   :     \"   A   r   t     D   i   r   e   c   t   i   o   n   \"   ,     \"   n   a   m   e   \"   :     \"   N   i   c   k     B   a   s   s   e   t   t   \"   }   ,     {   \"   c   r   e   d   i   t   _   i   d   \"   :     \"   5   3   9   c   4   9   0   3   c   3   a   3   6   8   6   5   3   d   0   0   1   a   7   4   \"   ,     \"   d   e   p   a   r   t   m   e   n   t   \"   :     \"   A   r   t   \"   ,     \"   g   e   n   d   e   r   \"   :     0   ,     \"   i   d   \"   :     1   3   2   5   9   6   ,     \"   j   o   b   \"   :     \"   A   r   t     D   i   r   e   c   t   i   o   n   \"   ,     \"   n   a   m   e   \"   :     \"   J   i   l   l     C   o   r   m   a   c   k   \"   }   ,     {   \"   c   r   e   d   i   t   _   i   d   \"   :     \"   5   3   9   c   4   9   6   7   c   3   a   3   6   8   6   5   3   d   0   0   1   a   9   4   \"   ,     \"   d   e   p   a   r   t   m   e   n   t   \"   :     \"   A   r   t   \"   ,     \"   g   e   n   d   e   r   \"   :     0   ,     \"   i   d   \"   :     1   3   2   6   0   4   ,     \"   j   o   b   \"   :     \"   A   r   t     D   i   r   e   c   t   i   o   n   \"   ,     \"   n   a   m   e   \"   :     \"   A   n   d   y     M   c   L   a   r   e   n   \"   }   ,     {   \"   c   r   e   d   i   t   _   i   d   \"   :     \"   5   2   f   e   4   8   0   0   9   2   5   1   4   1   6   c   7   5   0   a   c   a   4   5   \"   ,     \"   d   e   p   a   r   t   m   e   n   t   \"   :     \"   C   r   e   w   \"   ,     \"   g   e   n   d   e   r   \"   :     0   ,     \"   i   d   \"   :     2   3   6   6   9   6   ,     \"   j   o   b   \"   :     \"   M   o   t   i   o   n     C   a   p   t   u   r   e     A   r   t   i   s   t   \"   ,     \"   n   a   m   e   \"   :     \"   T   e   r   r   y     N   o   t   a   r   y   \"   }   ,     {   \"   c   r   e   d   i   t   _   i   d   \"   :     \"   5   4   9   5   9   e   0   2   c   3   a   3   6   8   0   f   c   6   0   0   2   7   d   2   \"   ,     \"   d   e   p   a   r   t   m   e   n   t   \"   :     \"   C   r   e   w   \"   ,     \"   g   e   n   d   e   r   \"   :     2   ,     \"   i   d   \"   :     9   5   6   1   9   8   ,     \"   j   o   b   \"   :     \"   S   t   u   n   t     C   o   o   r   d   i   n   a   t   o   r   \"   ,     \"   n   a   m   e   \"   :     \"   G   a   r   r   e   t   t     W   a   r   r   e   n   \"   }   ,     {   \"   c   r   e   d   i   t   _   i   d   \"   :     \"   5   4   9   5   9   c   a   3   c   3   a   3   6   8   6   a   e   3   0   0   4   3   8   c   \"   ,     \"   d   e   p   a   r   t   m   e   n   t   \"   :     \"   V   i   s   u   a   l     E   f   f   e   c   t   s   \"   ,     \"   g   e   n   d   e   r   \"   :     2   ,     \"   i   d   \"   :     9   5   7   8   7   4   ,     \"   j   o   b   \"   :     \"   V   i   s   u   a   l     E   f   f   e   c   t   s     S   u   p   e   r   v   i   s   o   r   \"   ,     \"   n   a   m   e   \"   :     \"   J   o   n   a   t   h   a   n     R   o   t   h   b   a   r   t   \"   }   ,     {   \"   c   r   e   d   i   t   _   i   d   \"   :     \"   5   7   0   b   6   f   5   1   9   2   5   1   4   1   2   c   7   4   0   0   1   b   2   f   \"   ,     \"   d   e   p   a   r   t   m   e   n   t   \"   :     \"   A   r   t   \"   ,     \"   g   e   n   d   e   r   \"   :     0   ,     \"   i   d   \"   :     9   5   7   8   8   9   ,     \"   j   o   b   \"   :     \"   S   u   p   e   r   v   i   s   i   n   g     A   r   t     D   i   r   e   c   t   o   r   \"   ,     \"   n   a   m   e   \"   :     \"   S   t   e   f   a   n     D   e   c   h   a   n   t   \"   }   ,     {   \"   c   r   e   d   i   t   _   i   d   \"   :     \"   5   7   0   b   6   f   6   2   c   3   a   3   6   8   0   b   7   7   0   0   7   4   6   0   \"   ,     \"   d   e   p   a   r   t   m   e   n   t   \"   :     \"   A   r   t   \"   ,     \"   g   e   n   d   e   r   \"   :     2   ,     \"   i   d   \"   :     9   5   9   5   5   5   ,     \"   j   o   b   \"   :     \"   S   u   p   e   r   v   i   s   i   n   g     A   r   t     D   i   r   e   c   t   o   r   \"   ,     \"   n   a   m   e   \"   :     \"   T   o   d   d     C   h   e   r   n   i   a   w   s   k   y   \"   }   ,     {   \"   c   r   e   d   i   t   _   i   d   \"   :     \"   5   3   9   c   4   a   3   a   c   3   a   3   6   8   1   0   d   a   0   0   2   1   c   c   \"   ,     \"   d   e   p   a   r   t   m   e   n   t   \"   :     \"   P   r   o   d   u   c   t   i   o   n   \"   ,     \"   g   e   n   d   e   r   \"   :     0   ,     \"   i   d   \"   :     1   0   1   6   1   7   7   ,     \"   j   o   b   \"   :     \"   C   a   s   t   i   n   g   \"   ,     \"   n   a   m   e   \"   :     \"   M   i   r   a   n   d   a     R   i   v   e   r   s   \"   }   ,     {   \"   c   r   e   d   i   t   _   i   d   \"   :     \"   5   3   9   c   4   8   2   c   c   3   a   3   6   8   1   0   c   1   0   0   2   0   6   2   \"   ,     \"   d   e   p   a   r   t   m   e   n   t   \"   :     \"   A   r   t   \"   ,     \"   g   e   n   d   e   r   \"   :     0   ,     \"   i   d   \"   :     1   0   3   2   5   3   6   ,     \"   j   o   b   \"   :     \"   P   r   o   d   u   c   t   i   o   n     D   e   s   i   g   n   \"   ,     \"   n   a   m   e   \"   :     \"   R   o   b   e   r   t     S   t   r   o   m   b   e   r   g   \"   }   ,     {   \"   c   r   e   d   i   t   _   i   d   \"   :     \"   5   3   9   c   4   b   6   5   c   3   a   3   6   8   1   0   c   9   0   0   2   1   2   5   \"   ,     \"   d   e   p   a   r   t   m   e   n   t   \"   :     \"   C   o   s   t   u   m   e     &     M   a   k   e   -   U   p   \"   ,     \"   g   e   n   d   e   r   \"   :     2   ,     \"   i   d   \"   :     1   0   7   1   6   8   0   ,     \"   j   o   b   \"   :     \"   C   o   s   t   u   m   e     D   e   s   i   g   n   \"   ,     \"   n   a   m   e   \"   :     \"   J   o   h   n     H   a   r   d   i   n   g   \"   }   ,     {   \"   c   r   e   d   i   t   _   i   d   \"   :     \"   5   4   9   5   9   e   6   6   9   2   5   1   4   1   3   0   f   c   0   0   2   e   4   e   \"   ,     \"   d   e   p   a   r   t   m   e   n   t   \"   :     \"   C   a   m   e   r   a   \"   ,     \"   g   e   n   d   e   r   \"   :     0   ,     \"   i   d   \"   :     1   1   7   7   3   6   4   ,     \"   j   o   b   \"   :     \"   S   t   e   a   d   i   c   a   m     O   p   e   r   a   t   o   r   \"   ,     \"   n   a   m   e   \"   :     \"   R   o   b   e   r   t   o     D   e     A   n   g   e   l   i   s   \"   }   ,     {   \"   c   r   e   d   i   t   _   i   d   \"   :     \"   5   3   9   c   4   9   f   1   c   3   a   3   6   8   6   5   3   d   0   0   1   a   a   c   \"   ,     \"   d   e   p   a   r   t   m   e   n   t   \"   :     \"   C   o   s   t   u   m   e     &     M   a   k   e   -   U   p   \"   ,     \"   g   e   n   d   e   r   \"   :     2   ,     \"   i   d   \"   :     1   2   0   2   8   5   0   ,     \"   j   o   b   \"   :     \"   M   a   k   e   u   p     D   e   p   a   r   t   m   e   n   t     H   e   a   d   \"   ,     \"   n   a   m   e   \"   :     \"   M   i   k   e     S   m   i   t   h   s   o   n   \"   }   ,     {   \"   c   r   e   d   i   t   _   i   d   \"   :     \"   5   4   9   5   9   9   9   e   c   3   a   3   6   8   6   a   e   1   0   0   4   6   0   c   \"   ,     \"   d   e   p   a   r   t   m   e   n   t   \"   :     \"   V   i   s   u   a   l     E   f   f   e   c   t   s   \"   ,     \"   g   e   n   d   e   r   \"   :     0   ,     \"   i   d   \"   :     1   2   0   4   6   6   8   ,     \"   j   o   b   \"   :     \"   V   i   s   u   a   l     E   f   f   e   c   t   s     P   r   o   d   u   c   e   r   \"   ,     \"   n   a   m   e   \"   :     \"   A   l   a   i   n     L   a   l   a   n   n   e   \"   }   ,     {   \"   c   r   e   d   i   t   _   i   d   \"   :     \"   5   4   9   5   9   c   d   f   c   3   a   3   6   8   1   1   5   3   0   0   2   7   2   9   \"   ,     \"   d   e   p   a   r   t   m   e   n   t   \"   :     \"   V   i   s   u   a   l     E   f   f   e   c   t   s   \"   ,     \"   g   e   n   d   e   r   \"   :     0   ,     \"   i   d   \"   :     1   2   0   6   4   1   0   ,     \"   j   o   b   \"   :     \"   V   i   s   u   a   l     E   f   f   e   c   t   s     S   u   p   e   r   v   i   s   o   r   \"   ,     \"   n   a   m   e   \"   :     \"   L   u   c   a   s     S   a   l   t   o   n   \"   }   ,     {   \"   c   r   e   d   i   t   _   i   d   \"   :     \"   5   4   9   5   9   6   2   3   9   2   5   1   4   1   7   a   8   1   0   0   1   e   a   e   \"   ,     \"   d   e   p   a   r   t   m   e   n   t   \"   :     \"   C   r   e   w   \"   ,     \"   g   e   n   d   e   r   \"   :     0   ,     \"   i   d   \"   :     1   2   3   4   2   6   6   ,     \"   j   o   b   \"   :     \"   P   o   s   t     P   r   o   d   u   c   t   i   o   n     S   u   p   e   r   v   i   s   o   r   \"   ,     \"   n   a   m   e   \"   :     \"   J   a   n   a   c   e     T   a   s   h   j   i   a   n   \"   }   ,     {   \"   c   r   e   d   i   t   _   i   d   \"   :     \"   5   4   9   5   9   c   8   5   9   2   5   1   4   1   6   e   1   e   0   0   3   e   f   e   \"   ,     \"   d   e   p   a   r   t   m   e   n   t   \"   :     \"   V   i   s   u   a   l     E   f   f   e   c   t   s   \"   ,     \"   g   e   n   d   e   r   \"   :     0   ,     \"   i   d   \"   :     1   2   7   1   9   3   2   ,     \"   j   o   b   \"   :     \"   V   i   s   u   a   l     E   f   f   e   c   t   s     S   u   p   e   r   v   i   s   o   r   \"   ,     \"   n   a   m   e   \"   :     \"   S   t   e   p   h   e   n     R   o   s   e   n   b   a   u   m   \"   }   ,     {   \"   c   r   e   d   i   t   _   i   d   \"   :     \"   5   5   9   2   a   f   2   8   c   3   a   3   6   8   7   7   5   a   0   0   1   0   5   f   \"   ,     \"   d   e   p   a   r   t   m   e   n   t   \"   :     \"   C   o   s   t   u   m   e     &     M   a   k   e   -   U   p   \"   ,     \"   g   e   n   d   e   r   \"   :     0   ,     \"   i   d   \"   :     1   3   1   0   0   6   4   ,     \"   j   o   b   \"   :     \"   M   a   k   e   u   p     A   r   t   i   s   t   \"   ,     \"   n   a   m   e   \"   :     \"   F   r   a   n   k   i   e     K   a   r   e   n   a   \"   }   ,     {   \"   c   r   e   d   i   t   _   i   d   \"   :     \"   5   3   9   c   4   a   d   f   c   3   a   3   6   8   1   0   e   3   0   0   2   0   3   b   \"   ,     \"   d   e   p   a   r   t   m   e   n   t   \"   :     \"   C   o   s   t   u   m   e     &     M   a   k   e   -   U   p   \"   ,     \"   g   e   n   d   e   r   \"   :     1   ,     \"   i   d   \"   :     1   3   1   9   8   4   4   ,     \"   j   o   b   \"   :     \"   C   o   s   t   u   m   e     S   u   p   e   r   v   i   s   o   r   \"   ,     \"   n   a   m   e   \"   :     \"   L   i   s   a     L   o   v   a   a   s   \"   }   ,     {   \"   c   r   e   d   i   t   _   i   d   \"   :     \"   5   4   9   5   9   b   5   7   9   2   5   1   4   1   6   e   2   b   0   0   4   3   7   1   \"   ,     \"   d   e   p   a   r   t   m   e   n   t   \"   :     \"   V   i   s   u   a   l     E   f   f   e   c   t   s   \"   ,     \"   g   e   n   d   e   r   \"   :     0   ,     \"   i   d   \"   :     1   3   2   7   0   2   8   ,     \"   j   o   b   \"   :     \"   V   i   s   u   a   l     E   f   f   e   c   t   s     S   u   p   e   r   v   i   s   o   r   \"   ,     \"   n   a   m   e   \"   :     \"   J   o   n   a   t   h   a   n     F   a   w   k   n   e   r   \"   }   ,     {   \"   c   r   e   d   i   t   _   i   d   \"   :     \"   5   3   9   c   4   8   a   7   c   3   a   3   6   8   1   0   b   5   0   0   1   f   a   7   \"   ,     \"   d   e   p   a   r   t   m   e   n   t   \"   :     \"   A   r   t   \"   ,     \"   g   e   n   d   e   r   \"   :     0   ,     \"   i   d   \"   :     1   3   3   0   5   6   1   ,     \"   j   o   b   \"   :     \"   A   r   t     D   i   r   e   c   t   i   o   n   \"   ,     \"   n   a   m   e   \"   :     \"   R   o   b   e   r   t     B   a   v   i   n   \"   }   ,     {   \"   c   r   e   d   i   t   _   i   d   \"   :     \"   5   3   9   c   4   a   7   1   c   3   a   3   6   8   1   0   d   a   0   0   2   1   e   0   \"   ,     \"   d   e   p   a   r   t   m   e   n   t   \"   :     \"   C   o   s   t   u   m   e     &     M   a   k   e   -   U   p   \"   ,     \"   g   e   n   d   e   r   \"   :     0   ,     \"   i   d   \"   :     1   3   3   0   5   6   7   ,     \"   j   o   b   \"   :     \"   C   o   s   t   u   m   e     S   u   p   e   r   v   i   s   o   r   \"   ,     \"   n   a   m   e   \"   :     \"   A   n   t   h   o   n   y     A   l   m   a   r   a   z   \"   }   ,     {   \"   c   r   e   d   i   t   _   i   d   \"   :     \"   5   3   9   c   4   a   8   a   c   3   a   3   6   8   1   0   b   a   0   0   2   1   e   4   \"   ,     \"   d   e   p   a   r   t   m   e   n   t   \"   :     \"   C   o   s   t   u   m   e     &     M   a   k   e   -   U   p   \"   ,     \"   g   e   n   d   e   r   \"   :     0   ,     \"   i   d   \"   :     1   3   3   0   5   7   0   ,     \"   j   o   b   \"   :     \"   C   o   s   t   u   m   e     S   u   p   e   r   v   i   s   o   r   \"   ,     \"   n   a   m   e   \"   :     \"   C   a   r   o   l   y   n     M   .     F   e   n   t   o   n   \"   }   ,     {   \"   c   r   e   d   i   t   _   i   d   \"   :     \"   5   3   9   c   4   a   b   6   c   3   a   3   6   8   1   0   d   a   0   0   2   1   f   0   \"   ,     \"   d   e   p   a   r   t   m   e   n   t   \"   :     \"   C   o   s   t   u   m   e     &     M   a   k   e   -   U   p   \"   ,     \"   g   e   n   d   e   r   \"   :     0   ,     \"   i   d   \"   :     1   3   3   0   5   7   4   ,     \"   j   o   b   \"   :     \"   C   o   s   t   u   m   e     S   u   p   e   r   v   i   s   o   r   \"   ,     \"   n   a   m   e   \"   :     \"   B   e   t   h     K   o   e   n   i   g   s   b   e   r   g   \"   }   ,     {   \"   c   r   e   d   i   t   _   i   d   \"   :     \"   5   4   4   9   1   a   b   7   0   e   0   a   2   6   7   4   8   0   0   0   1   b   a   2   \"   ,     \"   d   e   p   a   r   t   m   e   n   t   \"   :     \"   A   r   t   \"   ,     \"   g   e   n   d   e   r   \"   :     0   ,     \"   i   d   \"   :     1   3   3   6   1   9   1   ,     \"   j   o   b   \"   :     \"   S   e   t     D   e   s   i   g   n   e   r   \"   ,     \"   n   a   m   e   \"   :     \"   S   a   m     P   a   g   e   \"   }   ,     {   \"   c   r   e   d   i   t   _   i   d   \"   :     \"   5   4   4   9   1   9   d   9   c   3   a   3   6   8   0   f   c   3   0   0   1   8   b   d   \"   ,     \"   d   e   p   a   r   t   m   e   n   t   \"   :     \"   A   r   t   \"   ,     \"   g   e   n   d   e   r   \"   :     0   ,     \"   i   d   \"   :     1   3   3   9   4   4   1   ,     \"   j   o   b   \"   :     \"   S   e   t     D   e   s   i   g   n   e   r   \"   ,     \"   n   a   m   e   \"   :     \"   T   e   x     K   a   d   o   n   a   g   a   \"   }   ,     {   \"   c   r   e   d   i   t   _   i   d   \"   :     \"   5   4   4   9   1   c   f   5   0   e   0   a   2   6   7   4   8   3   0   0   1   b   0   c   \"   ,     \"   d   e   p   a   r   t   m   e   n   t   \"   :     \"   E   d   i   t   i   n   g   \"   ,     \"   g   e   n   d   e   r   \"   :     0   ,     \"   i   d   \"   :     1   3   5   2   4   2   2   ,     \"   j   o   b   \"   :     \"   D   i   a   l   o   g   u   e     E   d   i   t   o   r   \"   ,     \"   n   a   m   e   \"   :     \"   K   i   m     F   o   s   c   a   t   o   \"   }   ,     {   \"   c   r   e   d   i   t   _   i   d   \"   :     \"   5   4   4   9   1   9   f   4   0   e   0   a   2   6   7   4   8   c   0   0   1   b   0   9   \"   ,     \"   d   e   p   a   r   t   m   e   n   t   \"   :     \"   A   r   t   \"   ,     \"   g   e   n   d   e   r   \"   :     0   ,     \"   i   d   \"   :     1   3   5   2   9   6   2   ,     \"   j   o   b   \"   :     \"   S   e   t     D   e   s   i   g   n   e   r   \"   ,     \"   n   a   m   e   \"   :     \"   T   a   m   m   y     S   .     L   e   e   \"   }   ,     {   \"   c   r   e   d   i   t   _   i   d   \"   :     \"   5   4   9   5   a   1   1   5   c   3   a   3   6   8   0   f   f   5   0   0   2   d   7   1   \"   ,     \"   d   e   p   a   r   t   m   e   n   t   \"   :     \"   C   r   e   w   \"   ,     \"   g   e   n   d   e   r   \"   :     0   ,     \"   i   d   \"   :     1   3   5   7   0   7   0   ,     \"   j   o   b   \"   :     \"   T   r   a   n   s   p   o   r   t   a   t   i   o   n     C   o   o   r   d   i   n   a   t   o   r   \"   ,     \"   n   a   m   e   \"   :     \"   D   e   n   n   y     C   a   i   r   a   \"   }   ,     {   \"   c   r   e   d   i   t   _   i   d   \"   :     \"   5   4   9   5   a   1   2   f   9   2   5   1   4   1   3   0   f   c   0   0   2   e   9   4   \"   ,     \"   d   e   p   a   r   t   m   e   n   t   \"   :     \"   C   r   e   w   \"   ,     \"   g   e   n   d   e   r   \"   :     0   ,     \"   i   d   \"   :     1   3   5   7   0   7   1   ,     \"   j   o   b   \"   :     \"   T   r   a   n   s   p   o   r   t   a   t   i   o   n     C   o   o   r   d   i   n   a   t   o   r   \"   ,     \"   n   a   m   e   \"   :     \"   J   a   m   e   s     W   a   i   t   k   u   s   \"   }   ,     {   \"   c   r   e   d   i   t   _   i   d   \"   :     \"   5   4   9   5   9   7   6   f   c   3   a   3   6   8   1   1   5   3   0   0   2   6   b   0   \"   ,     \"   d   e   p   a   r   t   m   e   n   t   \"   :     \"   S   o   u   n   d   \"   ,     \"   g   e   n   d   e   r   \"   :     0   ,     \"   i   d   \"   :     1   3   6   0   1   0   3   ,     \"   j   o   b   \"   :     \"   S   u   p   e   r   v   i   s   i   n   g     S   o   u   n   d     E   d   i   t   o   r   \"   ,     \"   n   a   m   e   \"   :     \"   A   d   d   i   s   o   n     T   e   a   g   u   e   \"   }   ,     {   \"   c   r   e   d   i   t   _   i   d   \"   :     \"   5   4   4   9   1   8   3   7   c   3   a   3   6   8   0   f   b   1   0   0   1   c   5   a   \"   ,     \"   d   e   p   a   r   t   m   e   n   t   \"   :     \"   A   r   t   \"   ,     \"   g   e   n   d   e   r   \"   :     2   ,     \"   i   d   \"   :     1   3   7   6   8   8   7   ,     \"   j   o   b   \"   :     \"   S   e   t     D   e   s   i   g   n   e   r   \"   ,     \"   n   a   m   e   \"   :     \"   C   .     S   c   o   t   t     B   a   k   e   r   \"   }   ,     {   \"   c   r   e   d   i   t   _   i   d   \"   :     \"   5   4   4   9   1   8   7   8   c   3   a   3   6   8   0   f   b   4   0   0   1   c   9   d   \"   ,     \"   d   e   p   a   r   t   m   e   n   t   \"   :     \"   A   r   t   \"   ,     \"   g   e   n   d   e   r   \"   :     0   ,     \"   i   d   \"   :     1   3   7   6   8   8   8   ,     \"   j   o   b   \"   :     \"   S   e   t     D   e   s   i   g   n   e   r   \"   ,     \"   n   a   m   e   \"   :     \"   L   u   k   e     C   a   s   k   a   \"   }   ,     {   \"   c   r   e   d   i   t   _   i   d   \"   :     \"   5   4   4   9   1   8   d   a   c   3   a   3   6   8   0   f   a   5   0   0   1   a   e   0   \"   ,     \"   d   e   p   a   r   t   m   e   n   t   \"   :     \"   A   r   t   \"   ,     \"   g   e   n   d   e   r   \"   :     0   ,     \"   i   d   \"   :     1   3   7   6   8   8   9   ,     \"   j   o   b   \"   :     \"   S   e   t     D   e   s   i   g   n   e   r   \"   ,     \"   n   a   m   e   \"   :     \"   D   a   v   i   d     C   h   o   w   \"   }   ,     {   \"   c   r   e   d   i   t   _   i   d   \"   :     \"   5   4   4   9   1   9   1   1   0   e   0   a   2   6   7   4   8   6   0   0   1   b   6   8   \"   ,     \"   d   e   p   a   r   t   m   e   n   t   \"   :     \"   A   r   t   \"   ,     \"   g   e   n   d   e   r   \"   :     0   ,     \"   i   d   \"   :     1   3   7   6   8   9   0   ,     \"   j   o   b   \"   :     \"   S   e   t     D   e   s   i   g   n   e   r   \"   ,     \"   n   a   m   e   \"   :     \"   J   o   n   a   t   h   a   n     D   y   e   r   \"   }   ,     {   \"   c   r   e   d   i   t   _   i   d   \"   :     \"   5   4   4   9   1   9   6   7   c   3   a   3   6   8   0   f   a   a   0   0   1   b   5   e   \"   ,     \"   d   e   p   a   r   t   m   e   n   t   \"   :     \"   A   r   t   \"   ,     \"   g   e   n   d   e   r   \"   :     0   ,     \"   i   d   \"   :     1   3   7   6   8   9   1   ,     \"   j   o   b   \"   :     \"   S   e   t     D   e   s   i   g   n   e   r   \"   ,     \"   n   a   m   e   \"   :     \"   J   o   s   e   p   h     H   i   u   r   a   \"   }   ,     {   \"   c   r   e   d   i   t   _   i   d   \"   :     \"   5   4   4   9   1   9   9   7   c   3   a   3   6   8   0   f   b   1   0   0   1   c   8   a   \"   ,     \"   d   e   p   a   r   t   m   e   n   t   \"   :     \"   A   r   t   \"   ,     \"   g   e   n   d   e   r   \"   :     0   ,     \"   i   d   \"   :     1   3   7   6   8   9   2   ,     \"   j   o   b   \"   :     \"   A   r   t     D   e   p   a   r   t   m   e   n   t     C   o   o   r   d   i   n   a   t   o   r   \"   ,     \"   n   a   m   e   \"   :     \"   R   e   b   e   c   c   a     J   e   l   l   i   e   \"   }   ,     {   \"   c   r   e   d   i   t   _   i   d   \"   :     \"   5   4   4   9   1   9   b   a   0   e   0   a   2   6   7   4   8   f   0   0   1   b   4   2   \"   ,     \"   d   e   p   a   r   t   m   e   n   t   \"   :     \"   A   r   t   \"   ,     \"   g   e   n   d   e   r   \"   :     0   ,     \"   i   d   \"   :     1   3   7   6   8   9   3   ,     \"   j   o   b   \"   :     \"   S   e   t     D   e   s   i   g   n   e   r   \"   ,     \"   n   a   m   e   \"   :     \"   R   o   b   e   r   t     A   n   d   r   e   w     J   o   h   n   s   o   n   \"   }   ,     {   \"   c   r   e   d   i   t   _   i   d   \"   :     \"   5   4   4   9   1   b   1   d   c   3   a   3   6   8   0   f   a   a   0   0   1   b   8   c   \"   ,     \"   d   e   p   a   r   t   m   e   n   t   \"   :     \"   A   r   t   \"   ,     \"   g   e   n   d   e   r   \"   :     0   ,     \"   i   d   \"   :     1   3   7   6   8   9   5   ,     \"   j   o   b   \"   :     \"   A   s   s   i   s   t   a   n   t     A   r   t     D   i   r   e   c   t   o   r   \"   ,     \"   n   a   m   e   \"   :     \"   M   i   k   e     S   t   a   s   s   i   \"   }   ,     {   \"   c   r   e   d   i   t   _   i   d   \"   :     \"   5   4   4   9   1   b   7   9   c   3   a   3   6   8   0   f   b   b   0   0   1   8   2   6   \"   ,     \"   d   e   p   a   r   t   m   e   n   t   \"   :     \"   A   r   t   \"   ,     \"   g   e   n   d   e   r   \"   :     0   ,     \"   i   d   \"   :     1   3   7   6   8   9   7   ,     \"   j   o   b   \"   :     \"   C   o   n   s   t   r   u   c   t   i   o   n     C   o   o   r   d   i   n   a   t   o   r   \"   ,     \"   n   a   m   e   \"   :     \"   J   o   h   n     V   i   l   l   a   r   i   n   o   \"   }   ,     {   \"   c   r   e   d   i   t   _   i   d   \"   :     \"   5   4   4   9   1   b   a   e   c   3   a   3   6   8   0   f   b   4   0   0   1   c   e   6   \"   ,     \"   d   e   p   a   r   t   m   e   n   t   \"   :     \"   A   r   t   \"   ,     \"   g   e   n   d   e   r   \"   :     2   ,     \"   i   d   \"   :     1   3   7   6   8   9   8   ,     \"   j   o   b   \"   :     \"   A   s   s   i   s   t   a   n   t     A   r   t     D   i   r   e   c   t   o   r   \"   ,     \"   n   a   m   e   \"   :     \"   J   e   f   f   r   e   y     W   i   s   n   i   e   w   s   k   i   \"   }   ,     {   \"   c   r   e   d   i   t   _   i   d   \"   :     \"   5   4   4   9   1   d   2   f   c   3   a   3   6   8   0   f   b   4   0   0   1   d   0   7   \"   ,     \"   d   e   p   a   r   t   m   e   n   t   \"   :     \"   E   d   i   t   i   n   g   \"   ,     \"   g   e   n   d   e   r   \"   :     0   ,     \"   i   d   \"   :     1   3   7   6   8   9   9   ,     \"   j   o   b   \"   :     \"   D   i   a   l   o   g   u   e     E   d   i   t   o   r   \"   ,     \"   n   a   m   e   \"   :     \"   C   h   e   r   y   l     N   a   r   d   i   \"   }   ,     {   \"   c   r   e   d   i   t   _   i   d   \"   :     \"   5   4   4   9   1   d   8   6   c   3   a   3   6   8   0   f   a   5   0   0   1   b   2   f   \"   ,     \"   d   e   p   a   r   t   m   e   n   t   \"   :     \"   E   d   i   t   i   n   g   \"   ,     \"   g   e   n   d   e   r   \"   :     0   ,     \"   i   d   \"   :     1   3   7   6   9   0   1   ,     \"   j   o   b   \"   :     \"   D   i   a   l   o   g   u   e     E   d   i   t   o   r   \"   ,     \"   n   a   m   e   \"   :     \"   M   a   r   s   h   a   l   l     W   i   n   n   \"   }   ,     {   \"   c   r   e   d   i   t   _   i   d   \"   :     \"   5   4   4   9   1   d   9   d   c   3   a   3   6   8   0   f   a   a   0   0   1   b   b   0   \"   ,     \"   d   e   p   a   r   t   m   e   n   t   \"   :     \"   S   o   u   n   d   \"   ,     \"   g   e   n   d   e   r   \"   :     0   ,     \"   i   d   \"   :     1   3   7   6   9   0   2   ,     \"   j   o   b   \"   :     \"   S   u   p   e   r   v   i   s   i   n   g     S   o   u   n   d     E   d   i   t   o   r   \"   ,     \"   n   a   m   e   \"   :     \"   G   w   e   n   d   o   l   y   n     Y   a   t   e   s     W   h   i   t   t   l   e   \"   }   ,     {   \"   c   r   e   d   i   t   _   i   d   \"   :     \"   5   4   4   9   1   d   c   1   0   e   0   a   2   6   7   4   8   6   0   0   1   b   c   e   \"   ,     \"   d   e   p   a   r   t   m   e   n   t   \"   :     \"   S   o   u   n   d   \"   ,     \"   g   e   n   d   e   r   \"   :     0   ,     \"   i   d   \"   :     1   3   7   6   9   0   3   ,     \"   j   o   b   \"   :     \"   S   o   u   n   d     R   e   -   R   e   c   o   r   d   i   n   g     M   i   x   e   r   \"   ,     \"   n   a   m   e   \"   :     \"   W   i   l   l   i   a   m     S   t   e   i   n   \"   }   ,     {   \"   c   r   e   d   i   t   _   i   d   \"   :     \"   5   4   4   9   1   f   5   0   0   e   0   a   2   6   7   4   7   c   0   0   1   c   0   7   \"   ,     \"   d   e   p   a   r   t   m   e   n   t   \"   :     \"   C   r   e   w   \"   ,     \"   g   e   n   d   e   r   \"   :     0   ,     \"   i   d   \"   :     1   3   7   6   9   0   9   ,     \"   j   o   b   \"   :     \"   C   h   o   r   e   o   g   r   a   p   h   e   r   \"   ,     \"   n   a   m   e   \"   :     \"   L   u   l   a     W   a   s   h   i   n   g   t   o   n   \"   }   ,     {   \"   c   r   e   d   i   t   _   i   d   \"   :     \"   5   4   9   5   9   9   2   3   9   2   5   1   4   1   2   c   4   e   0   0   2   a   2   e   \"   ,     \"   d   e   p   a   r   t   m   e   n   t   \"   :     \"   V   i   s   u   a   l     E   f   f   e   c   t   s   \"   ,     \"   g   e   n   d   e   r   \"   :     0   ,     \"   i   d   \"   :     1   3   9   1   6   9   2   ,     \"   j   o   b   \"   :     \"   V   i   s   u   a   l     E   f   f   e   c   t   s     P   r   o   d   u   c   e   r   \"   ,     \"   n   a   m   e   \"   :     \"   C   h   r   i   s     D   e   l     C   o   n   t   e   \"   }   ,     {   \"   c   r   e   d   i   t   _   i   d   \"   :     \"   5   4   9   5   9   d   5   4   c   3   a   3   6   8   3   1   b   8   0   0   1   d   9   a   \"   ,     \"   d   e   p   a   r   t   m   e   n   t   \"   :     \"   V   i   s   u   a   l     E   f   f   e   c   t   s   \"   ,     \"   g   e   n   d   e   r   \"   :     2   ,     \"   i   d   \"   :     1   3   9   1   6   9   5   ,     \"   j   o   b   \"   :     \"   V   i   s   u   a   l     E   f   f   e   c   t   s     S   u   p   e   r   v   i   s   o   r   \"   ,     \"   n   a   m   e   \"   :     \"   R   .     C   h   r   i   s   t   o   p   h   e   r     W   h   i   t   e   \"   }   ,     {   \"   c   r   e   d   i   t   _   i   d   \"   :     \"   5   4   9   5   9   b   d   f   9   2   5   1   4   1   2   c   4   e   0   0   2   a   6   6   \"   ,     \"   d   e   p   a   r   t   m   e   n   t   \"   :     \"   V   i   s   u   a   l     E   f   f   e   c   t   s   \"   ,     \"   g   e   n   d   e   r   \"   :     0   ,     \"   i   d   \"   :     1   3   9   4   0   7   0   ,     \"   j   o   b   \"   :     \"   V   i   s   u   a   l     E   f   f   e   c   t   s     S   u   p   e   r   v   i   s   o   r   \"   ,     \"   n   a   m   e   \"   :     \"   D   a   n     L   e   m   m   o   n   \"   }   ,     {   \"   c   r   e   d   i   t   _   i   d   \"   :     \"   5   4   9   5   9   7   1   d   9   2   5   1   4   1   3   2   e   d   0   0   2   9   2   2   \"   ,     \"   d   e   p   a   r   t   m   e   n   t   \"   :     \"   S   o   u   n   d   \"   ,     \"   g   e   n   d   e   r   \"   :     0   ,     \"   i   d   \"   :     1   3   9   4   1   2   9   ,     \"   j   o   b   \"   :     \"   S   o   u   n   d     E   f   f   e   c   t   s     E   d   i   t   o   r   \"   ,     \"   n   a   m   e   \"   :     \"   T   i   m     N   i   e   l   s   e   n   \"   }   ,     {   \"   c   r   e   d   i   t   _   i   d   \"   :     \"   5   5   9   2   b   2   5   7   9   2   5   1   4   1   5   2   c   c   0   0   1   1   a   a   \"   ,     \"   d   e   p   a   r   t   m   e   n   t   \"   :     \"   C   r   e   w   \"   ,     \"   g   e   n   d   e   r   \"   :     0   ,     \"   i   d   \"   :     1   3   9   4   2   8   6   ,     \"   j   o   b   \"   :     \"   C   G     S   u   p   e   r   v   i   s   o   r   \"   ,     \"   n   a   m   e   \"   :     \"   M   i   c   h   a   e   l     M   u   l   h   o   l   l   a   n   d   \"   }   ,     {   \"   c   r   e   d   i   t   _   i   d   \"   :     \"   5   4   9   5   9   a   3   2   9   2   5   1   4   1   6   e   2   b   0   0   4   3   5   5   \"   ,     \"   d   e   p   a   r   t   m   e   n   t   \"   :     \"   C   r   e   w   \"   ,     \"   g   e   n   d   e   r   \"   :     0   ,     \"   i   d   \"   :     1   3   9   4   7   5   0   ,     \"   j   o   b   \"   :     \"   V   i   s   u   a   l     E   f   f   e   c   t   s     E   d   i   t   o   r   \"   ,     \"   n   a   m   e   \"   :     \"   T   h   o   m   a   s     N   i   t   t   m   a   n   n   \"   }   ,     {   \"   c   r   e   d   i   t   _   i   d   \"   :     \"   5   4   9   5   9   d   6   d   c   3   a   3   6   8   6   a   e   9   0   0   4   4   0   1   \"   ,     \"   d   e   p   a   r   t   m   e   n   t   \"   :     \"   V   i   s   u   a   l     E   f   f   e   c   t   s   \"   ,     \"   g   e   n   d   e   r   \"   :     0   ,     \"   i   d   \"   :     1   3   9   4   7   5   5   ,     \"   j   o   b   \"   :     \"   V   i   s   u   a   l     E   f   f   e   c   t   s     S   u   p   e   r   v   i   s   o   r   \"   ,     \"   n   a   m   e   \"   :     \"   E   d   s   o   n     W   i   l   l   i   a   m   s   \"   }   ,     {   \"   c   r   e   d   i   t   _   i   d   \"   :     \"   5   4   9   5   a   0   8   f   c   3   a   3   6   8   6   a   e   3   0   0   4   4   1   c   \"   ,     \"   d   e   p   a   r   t   m   e   n   t   \"   :     \"   E   d   i   t   i   n   g   \"   ,     \"   g   e   n   d   e   r   \"   :     0   ,     \"   i   d   \"   :     1   3   9   4   9   5   3   ,     \"   j   o   b   \"   :     \"   D   i   g   i   t   a   l     I   n   t   e   r   m   e   d   i   a   t   e   \"   ,     \"   n   a   m   e   \"   :     \"   C   h   r   i   s   t   i   n   e     C   a   r   r   \"   }   ,     {   \"   c   r   e   d   i   t   _   i   d   \"   :     \"   5   5   4   0   2   d   6   5   9   2   5   1   4   1   3   d   6   d   0   0   0   2   4   9   \"   ,     \"   d   e   p   a   r   t   m   e   n   t   \"   :     \"   V   i   s   u   a   l     E   f   f   e   c   t   s   \"   ,     \"   g   e   n   d   e   r   \"   :     0   ,     \"   i   d   \"   :     1   3   9   5   2   6   9   ,     \"   j   o   b   \"   :     \"   V   i   s   u   a   l     E   f   f   e   c   t   s     S   u   p   e   r   v   i   s   o   r   \"   ,     \"   n   a   m   e   \"   :     \"   J   o   h   n     B   r   u   n   o   \"   }   ,     {   \"   c   r   e   d   i   t   _   i   d   \"   :     \"   5   4   9   5   9   e   7   b   9   2   5   1   4   1   6   e   1   e   0   0   3   f   3   e   \"   ,     \"   d   e   p   a   r   t   m   e   n   t   \"   :     \"   C   a   m   e   r   a   \"   ,     \"   g   e   n   d   e   r   \"   :     0   ,     \"   i   d   \"   :     1   3   9   8   9   7   0   ,     \"   j   o   b   \"   :     \"   S   t   e   a   d   i   c   a   m     O   p   e   r   a   t   o   r   \"   ,     \"   n   a   m   e   \"   :     \"   D   a   v   i   d     E   m   m   e   r   i   c   h   s   \"   }   ,     {   \"   c   r   e   d   i   t   _   i   d   \"   :     \"   5   4   9   5   9   7   3   4   c   3   a   3   6   8   6   a   e   1   0   0   4   5   e   0   \"   ,     \"   d   e   p   a   r   t   m   e   n   t   \"   :     \"   S   o   u   n   d   \"   ,     \"   g   e   n   d   e   r   \"   :     0   ,     \"   i   d   \"   :     1   4   0   0   9   0   6   ,     \"   j   o   b   \"   :     \"   S   o   u   n   d     E   f   f   e   c   t   s     E   d   i   t   o   r   \"   ,     \"   n   a   m   e   \"   :     \"   C   h   r   i   s   t   o   p   h   e   r     S   c   a   r   a   b   o   s   i   o   \"   }   ,     {   \"   c   r   e   d   i   t   _   i   d   \"   :     \"   5   4   9   5   9   5   d   d   9   2   5   1   4   1   3   0   f   c   0   0   2   d   7   9   \"   ,     \"   d   e   p   a   r   t   m   e   n   t   \"   :     \"   P   r   o   d   u   c   t   i   o   n   \"   ,     \"   g   e   n   d   e   r   \"   :     0   ,     \"   i   d   \"   :     1   4   0   1   7   8   4   ,     \"   j   o   b   \"   :     \"   P   r   o   d   u   c   t   i   o   n     S   u   p   e   r   v   i   s   o   r   \"   ,     \"   n   a   m   e   \"   :     \"   J   e   n   n   i   f   e   r     T   e   v   e   s   \"   }   ,     {   \"   c   r   e   d   i   t   _   i   d   \"   :     \"   5   4   9   5   9   6   0   0   9   2   5   1   4   1   3   a   f   7   0   0   2   8   c   c   \"   ,     \"   d   e   p   a   r   t   m   e   n   t   \"   :     \"   P   r   o   d   u   c   t   i   o   n   \"   ,     \"   g   e   n   d   e   r   \"   :     0   ,     \"   i   d   \"   :     1   4   0   1   7   8   5   ,     \"   j   o   b   \"   :     \"   P   r   o   d   u   c   t   i   o   n     M   a   n   a   g   e   r   \"   ,     \"   n   a   m   e   \"   :     \"   B   r   i   g   i   t   t   e     Y   o   r   k   e   \"   }   ,     {   \"   c   r   e   d   i   t   _   i   d   \"   :     \"   5   4   9   5   9   6   e   8   9   2   5   1   4   1   3   0   f   c   0   0   2   d   9   9   \"   ,     \"   d   e   p   a   r   t   m   e   n   t   \"   :     \"   S   o   u   n   d   \"   ,     \"   g   e   n   d   e   r   \"   :     0   ,     \"   i   d   \"   :     1   4   0   1   7   8   6   ,     \"   j   o   b   \"   :     \"   S   o   u   n   d     E   f   f   e   c   t   s     E   d   i   t   o   r   \"   ,     \"   n   a   m   e   \"   :     \"   K   e   n     F   i   s   c   h   e   r   \"   }   ,     {   \"   c   r   e   d   i   t   _   i   d   \"   :     \"   5   4   9   5   9   8   2   2   9   2   5   1   4   1   2   c   4   e   0   0   2   a   1   c   \"   ,     \"   d   e   p   a   r   t   m   e   n   t   \"   :     \"   C   r   e   w   \"   ,     \"   g   e   n   d   e   r   \"   :     0   ,     \"   i   d   \"   :     1   4   0   1   7   8   7   ,     \"   j   o   b   \"   :     \"   S   p   e   c   i   a   l     E   f   f   e   c   t   s     C   o   o   r   d   i   n   a   t   o   r   \"   ,     \"   n   a   m   e   \"   :     \"   I   a   i   n     H   u   t   t   o   n   \"   }   ,     {   \"   c   r   e   d   i   t   _   i   d   \"   :     \"   5   4   9   5   9   8   3   4   9   2   5   1   4   1   6   e   2   b   0   0   4   3   2   b   \"   ,     \"   d   e   p   a   r   t   m   e   n   t   \"   :     \"   C   r   e   w   \"   ,     \"   g   e   n   d   e   r   \"   :     0   ,     \"   i   d   \"   :     1   4   0   1   7   8   8   ,     \"   j   o   b   \"   :     \"   S   p   e   c   i   a   l     E   f   f   e   c   t   s     C   o   o   r   d   i   n   a   t   o   r   \"   ,     \"   n   a   m   e   \"   :     \"   S   t   e   v   e     I   n   g   r   a   m   \"   }   ,     {   \"   c   r   e   d   i   t   _   i   d   \"   :     \"   5   4   9   5   9   9   0   5   c   3   a   3   6   8   6   a   e   3   0   0   4   3   2   4   \"   ,     \"   d   e   p   a   r   t   m   e   n   t   \"   :     \"   V   i   s   u   a   l     E   f   f   e   c   t   s   \"   ,     \"   g   e   n   d   e   r   \"   :     0   ,     \"   i   d   \"   :     1   4   0   1   7   8   9   ,     \"   j   o   b   \"   :     \"   V   i   s   u   a   l     E   f   f   e   c   t   s     P   r   o   d   u   c   e   r   \"   ,     \"   n   a   m   e   \"   :     \"   J   o   y   c   e     C   o   x   \"   }   ,     {   \"   c   r   e   d   i   t   _   i   d   \"   :     \"   5   4   9   5   9   9   4   b   9   2   5   1   4   1   3   2   e   d   0   0   2   9   5   1   \"   ,     \"   d   e   p   a   r   t   m   e   n   t   \"   :     \"   V   i   s   u   a   l     E   f   f   e   c   t   s   \"   ,     \"   g   e   n   d   e   r   \"   :     0   ,     \"   i   d   \"   :     1   4   0   1   7   9   0   ,     \"   j   o   b   \"   :     \"   V   i   s   u   a   l     E   f   f   e   c   t   s     P   r   o   d   u   c   e   r   \"   ,     \"   n   a   m   e   \"   :     \"   J   e   n   n   y     F   o   s   t   e   r   \"   }   ,     {   \"   c   r   e   d   i   t   _   i   d   \"   :     \"   5   4   9   5   9   9   c   b   c   3   a   3   6   8   6   a   e   1   0   0   4   6   1   3   \"   ,     \"   d   e   p   a   r   t   m   e   n   t   \"   :     \"   C   r   e   w   \"   ,     \"   g   e   n   d   e   r   \"   :     0   ,     \"   i   d   \"   :     1   4   0   1   7   9   1   ,     \"   j   o   b   \"   :     \"   V   i   s   u   a   l     E   f   f   e   c   t   s     E   d   i   t   o   r   \"   ,     \"   n   a   m   e   \"   :     \"   C   h   r   i   s   t   o   p   h   e   r     M   a   r   i   n   o   \"   }   ,     {   \"   c   r   e   d   i   t   _   i   d   \"   :     \"   5   4   9   5   9   9   f   2   c   3   a   3   6   8   6   a   e   1   0   0   4   6   1   e   \"   ,     \"   d   e   p   a   r   t   m   e   n   t   \"   :     \"   C   r   e   w   \"   ,     \"   g   e   n   d   e   r   \"   :     0   ,     \"   i   d   \"   :     1   4   0   1   7   9   2   ,     \"   j   o   b   \"   :     \"   V   i   s   u   a   l     E   f   f   e   c   t   s     E   d   i   t   o   r   \"   ,     \"   n   a   m   e   \"   :     \"   J   i   m     M   i   l   t   o   n   \"   }   ,     {   \"   c   r   e   d   i   t   _   i   d   \"   :     \"   5   4   9   5   9   a   5   1   c   3   a   3   6   8   6   a   f   3   0   0   3   e   b   5   \"   ,     \"   d   e   p   a   r   t   m   e   n   t   \"   :     \"   V   i   s   u   a   l     E   f   f   e   c   t   s   \"   ,     \"   g   e   n   d   e   r   \"   :     0   ,     \"   i   d   \"   :     1   4   0   1   7   9   3   ,     \"   j   o   b   \"   :     \"   V   i   s   u   a   l     E   f   f   e   c   t   s     P   r   o   d   u   c   e   r   \"   ,     \"   n   a   m   e   \"   :     \"   C   y   n   d   i     O   c   h   s   \"   }   ,     {   \"   c   r   e   d   i   t   _   i   d   \"   :     \"   5   4   9   5   9   a   7   c   c   3   a   3   6   8   1   1   5   3   0   0   2   6   f   4   \"   ,     \"   d   e   p   a   r   t   m   e   n   t   \"   :     \"   C   r   e   w   \"   ,     \"   g   e   n   d   e   r   \"   :     0   ,     \"   i   d   \"   :     1   4   0   1   7   9   4   ,     \"   j   o   b   \"   :     \"   V   i   s   u   a   l     E   f   f   e   c   t   s     E   d   i   t   o   r   \"   ,     \"   n   a   m   e   \"   :     \"   L   u   c   a   s     P   u   t   n   a   m   \"   }   ,     {   \"   c   r   e   d   i   t   _   i   d   \"   :     \"   5   4   9   5   9   b   9   1   c   3   a   3   6   8   0   f   f   5   0   0   2   c   b   4   \"   ,     \"   d   e   p   a   r   t   m   e   n   t   \"   :     \"   V   i   s   u   a   l     E   f   f   e   c   t   s   \"   ,     \"   g   e   n   d   e   r   \"   :     0   ,     \"   i   d   \"   :     1   4   0   1   7   9   5   ,     \"   j   o   b   \"   :     \"   V   i   s   u   a   l     E   f   f   e   c   t   s     S   u   p   e   r   v   i   s   o   r   \"   ,     \"   n   a   m   e   \"   :     \"   A   n   t   h   o   n   y     \\'   M   a   x   \\'     I   v   i   n   s   \"   }   ,     {   \"   c   r   e   d   i   t   _   i   d   \"   :     \"   5   4   9   5   9   b   b   6   9   2   5   1   4   1   2   c   4   e   0   0   2   a   5   f   \"   ,     \"   d   e   p   a   r   t   m   e   n   t   \"   :     \"   V   i   s   u   a   l     E   f   f   e   c   t   s   \"   ,     \"   g   e   n   d   e   r   \"   :     0   ,     \"   i   d   \"   :     1   4   0   1   7   9   6   ,     \"   j   o   b   \"   :     \"   V   i   s   u   a   l     E   f   f   e   c   t   s     S   u   p   e   r   v   i   s   o   r   \"   ,     \"   n   a   m   e   \"   :     \"   J   o   h   n     K   n   o   l   l   \"   }   ,     {   \"   c   r   e   d   i   t   _   i   d   \"   :     \"   5   4   9   5   9   c   b   b   c   3   a   3   6   8   6   a   e   3   0   0   4   3   9   1   \"   ,     \"   d   e   p   a   r   t   m   e   n   t   \"   :     \"   V   i   s   u   a   l     E   f   f   e   c   t   s   \"   ,     \"   g   e   n   d   e   r   \"   :     2   ,     \"   i   d   \"   :     1   4   0   1   7   9   9   ,     \"   j   o   b   \"   :     \"   V   i   s   u   a   l     E   f   f   e   c   t   s     S   u   p   e   r   v   i   s   o   r   \"   ,     \"   n   a   m   e   \"   :     \"   E   r   i   c     S   a   i   n   d   o   n   \"   }   ,     {   \"   c   r   e   d   i   t   _   i   d   \"   :     \"   5   4   9   5   9   d   0   6   c   3   a   3   6   8   6   a   e   9   0   0   4   3   f   6   \"   ,     \"   d   e   p   a   r   t   m   e   n   t   \"   :     \"   V   i   s   u   a   l     E   f   f   e   c   t   s   \"   ,     \"   g   e   n   d   e   r   \"   :     0   ,     \"   i   d   \"   :     1   4   0   1   8   0   0   ,     \"   j   o   b   \"   :     \"   V   i   s   u   a   l     E   f   f   e   c   t   s     S   u   p   e   r   v   i   s   o   r   \"   ,     \"   n   a   m   e   \"   :     \"   W   a   y   n   e     S   t   a   b   l   e   s   \"   }   ,     {   \"   c   r   e   d   i   t   _   i   d   \"   :     \"   5   4   9   5   9   d   2   5   9   2   5   1   4   1   6   e   1   e   0   0   3   f   1   1   \"   ,     \"   d   e   p   a   r   t   m   e   n   t   \"   :     \"   V   i   s   u   a   l     E   f   f   e   c   t   s   \"   ,     \"   g   e   n   d   e   r   \"   :     0   ,     \"   i   d   \"   :     1   4   0   1   8   0   1   ,     \"   j   o   b   \"   :     \"   V   i   s   u   a   l     E   f   f   e   c   t   s     S   u   p   e   r   v   i   s   o   r   \"   ,     \"   n   a   m   e   \"   :     \"   D   a   v   i   d     S   t   i   n   n   e   t   t   \"   }   ,     {   \"   c   r   e   d   i   t   _   i   d   \"   :     \"   5   4   9   5   9   d   b   4   9   2   5   1   4   1   3   a   f   7   0   0   2   9   7   5   \"   ,     \"   d   e   p   a   r   t   m   e   n   t   \"   :     \"   V   i   s   u   a   l     E   f   f   e   c   t   s   \"   ,     \"   g   e   n   d   e   r   \"   :     0   ,     \"   i   d   \"   :     1   4   0   1   8   0   3   ,     \"   j   o   b   \"   :     \"   V   i   s   u   a   l     E   f   f   e   c   t   s     S   u   p   e   r   v   i   s   o   r   \"   ,     \"   n   a   m   e   \"   :     \"   G   u   y     W   i   l   l   i   a   m   s   \"   }   ,     {   \"   c   r   e   d   i   t   _   i   d   \"   :     \"   5   4   9   5   9   d   e   4   c   3   a   3   6   8   1   1   5   3   0   0   2   7   5   0   \"   ,     \"   d   e   p   a   r   t   m   e   n   t   \"   :     \"   C   r   e   w   \"   ,     \"   g   e   n   d   e   r   \"   :     0   ,     \"   i   d   \"   :     1   4   0   1   8   0   4   ,     \"   j   o   b   \"   :     \"   S   t   u   n   t     C   o   o   r   d   i   n   a   t   o   r   \"   ,     \"   n   a   m   e   \"   :     \"   S   t   u   a   r   t     T   h   o   r   p   \"   }   ,     {   \"   c   r   e   d   i   t   _   i   d   \"   :     \"   5   4   9   5   9   e   f   2   c   3   a   3   6   8   0   f   c   6   0   0   2   7   f   2   \"   ,     \"   d   e   p   a   r   t   m   e   n   t   \"   :     \"   L   i   g   h   t   i   n   g   \"   ,     \"   g   e   n   d   e   r   \"   :     0   ,     \"   i   d   \"   :     1   4   0   1   8   0   5   ,     \"   j   o   b   \"   :     \"   B   e   s   t     B   o   y     E   l   e   c   t   r   i   c   \"   ,     \"   n   a   m   e   \"   :     \"   G   i   l   e   s     C   o   b   u   r   n   \"   }   ,     {   \"   c   r   e   d   i   t   _   i   d   \"   :     \"   5   4   9   5   9   f   0   7   c   3   a   3   6   8   0   f   c   6   0   0   2   7   f   9   \"   ,     \"   d   e   p   a   r   t   m   e   n   t   \"   :     \"   C   a   m   e   r   a   \"   ,     \"   g   e   n   d   e   r   \"   :     2   ,     \"   i   d   \"   :     1   4   0   1   8   0   6   ,     \"   j   o   b   \"   :     \"   S   t   i   l   l     P   h   o   t   o   g   r   a   p   h   e   r   \"   ,     \"   n   a   m   e   \"   :     \"   M   a   r   k     F   e   l   l   m   a   n   \"   }   ,     {   \"   c   r   e   d   i   t   _   i   d   \"   :     \"   5   4   9   5   9   f   4   7   c   3   a   3   6   8   1   1   5   3   0   0   2   7   7   4   \"   ,     \"   d   e   p   a   r   t   m   e   n   t   \"   :     \"   L   i   g   h   t   i   n   g   \"   ,     \"   g   e   n   d   e   r   \"   :     0   ,     \"   i   d   \"   :     1   4   0   1   8   0   7   ,     \"   j   o   b   \"   :     \"   L   i   g   h   t   i   n   g     T   e   c   h   n   i   c   i   a   n   \"   ,     \"   n   a   m   e   \"   :     \"   S   c   o   t   t     S   p   r   a   g   u   e   \"   }   ,     {   \"   c   r   e   d   i   t   _   i   d   \"   :     \"   5   4   9   5   9   f   8   c   c   3   a   3   6   8   3   1   b   8   0   0   1   d   f   2   \"   ,     \"   d   e   p   a   r   t   m   e   n   t   \"   :     \"   V   i   s   u   a   l     E   f   f   e   c   t   s   \"   ,     \"   g   e   n   d   e   r   \"   :     0   ,     \"   i   d   \"   :     1   4   0   1   8   0   8   ,     \"   j   o   b   \"   :     \"   A   n   i   m   a   t   i   o   n     D   i   r   e   c   t   o   r   \"   ,     \"   n   a   m   e   \"   :     \"   J   e   r   e   m   y     H   o   l   l   o   b   o   n   \"   }   ,     {   \"   c   r   e   d   i   t   _   i   d   \"   :     \"   5   4   9   5   9   f   a   0   c   3   a   3   6   8   3   1   b   8   0   0   1   d   f   b   \"   ,     \"   d   e   p   a   r   t   m   e   n   t   \"   :     \"   V   i   s   u   a   l     E   f   f   e   c   t   s   \"   ,     \"   g   e   n   d   e   r   \"   :     0   ,     \"   i   d   \"   :     1   4   0   1   8   0   9   ,     \"   j   o   b   \"   :     \"   A   n   i   m   a   t   i   o   n     D   i   r   e   c   t   o   r   \"   ,     \"   n   a   m   e   \"   :     \"   O   r   l   a   n   d   o     M   e   u   n   i   e   r   \"   }   ,     {   \"   c   r   e   d   i   t   _   i   d   \"   :     \"   5   4   9   5   9   f   b   6   c   3   a   3   6   8   6   a   f   3   0   0   3   f   5   4   \"   ,     \"   d   e   p   a   r   t   m   e   n   t   \"   :     \"   V   i   s   u   a   l     E   f   f   e   c   t   s   \"   ,     \"   g   e   n   d   e   r   \"   :     0   ,     \"   i   d   \"   :     1   4   0   1   8   1   0   ,     \"   j   o   b   \"   :     \"   A   n   i   m   a   t   i   o   n     D   i   r   e   c   t   o   r   \"   ,     \"   n   a   m   e   \"   :     \"   T   a   i   s   u   k   e     T   a   n   i   m   u   r   a   \"   }   ,     {   \"   c   r   e   d   i   t   _   i   d   \"   :     \"   5   4   9   5   9   f   d   2   c   3   a   3   6   8   3   1   b   8   0   0   1   e   0   2   \"   ,     \"   d   e   p   a   r   t   m   e   n   t   \"   :     \"   C   o   s   t   u   m   e     &     M   a   k   e   -   U   p   \"   ,     \"   g   e   n   d   e   r   \"   :     0   ,     \"   i   d   \"   :     1   4   0   1   8   1   2   ,     \"   j   o   b   \"   :     \"   S   e   t     C   o   s   t   u   m   e   r   \"   ,     \"   n   a   m   e   \"   :     \"   L   i   l   i   a     M   i   s   h   e   l     A   c   e   v   e   d   o   \"   }   ,     {   \"   c   r   e   d   i   t   _   i   d   \"   :     \"   5   4   9   5   9   f   f   9   c   3   a   3   6   8   6   a   e   3   0   0   4   4   0   c   \"   ,     \"   d   e   p   a   r   t   m   e   n   t   \"   :     \"   C   o   s   t   u   m   e     &     M   a   k   e   -   U   p   \"   ,     \"   g   e   n   d   e   r   \"   :     0   ,     \"   i   d   \"   :     1   4   0   1   8   1   4   ,     \"   j   o   b   \"   :     \"   S   e   t     C   o   s   t   u   m   e   r   \"   ,     \"   n   a   m   e   \"   :     \"   A   l   e   j   a   n   d   r   o     M   .     H   e   r   n   a   n   d   e   z   \"   }   ,     {   \"   c   r   e   d   i   t   _   i   d   \"   :     \"   5   4   9   5   a   0   d   d   c   3   a   3   6   8   6   a   e   1   0   0   4   6   f   e   \"   ,     \"   d   e   p   a   r   t   m   e   n   t   \"   :     \"   E   d   i   t   i   n   g   \"   ,     \"   g   e   n   d   e   r   \"   :     0   ,     \"   i   d   \"   :     1   4   0   1   8   1   5   ,     \"   j   o   b   \"   :     \"   D   i   g   i   t   a   l     I   n   t   e   r   m   e   d   i   a   t   e   \"   ,     \"   n   a   m   e   \"   :     \"   M   a   r   v   i   n     H   a   l   l   \"   }   ,     {   \"   c   r   e   d   i   t   _   i   d   \"   :     \"   5   4   9   5   a   1   f   7   c   3   a   3   6   8   6   a   e   3   0   0   4   4   4   3   \"   ,     \"   d   e   p   a   r   t   m   e   n   t   \"   :     \"   P   r   o   d   u   c   t   i   o   n   \"   ,     \"   g   e   n   d   e   r   \"   :     0   ,     \"   i   d   \"   :     1   4   0   1   8   1   6   ,     \"   j   o   b   \"   :     \"   P   u   b   l   i   c   i   s   t   \"   ,     \"   n   a   m   e   \"   :     \"   J   u   d   y     A   l   l   e   y   \"   }   ,     {   \"   c   r   e   d   i   t   _   i   d   \"   :     \"   5   5   9   2   b   2   9   f   c   3   a   3   6   8   6   9   d   1   0   0   0   0   2   f   \"   ,     \"   d   e   p   a   r   t   m   e   n   t   \"   :     \"   C   r   e   w   \"   ,     \"   g   e   n   d   e   r   \"   :     0   ,     \"   i   d   \"   :     1   4   1   8   3   8   1   ,     \"   j   o   b   \"   :     \"   C   G     S   u   p   e   r   v   i   s   o   r   \"   ,     \"   n   a   m   e   \"   :     \"   M   i   k   e     P   e   r   r   y   \"   }   ,     {   \"   c   r   e   d   i   t   _   i   d   \"   :     \"   5   5   9   2   b   2   3   a   9   2   5   1   4   1   5   d   f   8   0   0   1   0   8   1   \"   ,     \"   d   e   p   a   r   t   m   e   n   t   \"   :     \"   C   r   e   w   \"   ,     \"   g   e   n   d   e   r   \"   :     0   ,     \"   i   d   \"   :     1   4   2   6   8   5   4   ,     \"   j   o   b   \"   :     \"   C   G     S   u   p   e   r   v   i   s   o   r   \"   ,     \"   n   a   m   e   \"   :     \"   A   n   d   r   e   w     M   o   r   l   e   y   \"   }   ,     {   \"   c   r   e   d   i   t   _   i   d   \"   :     \"   5   5   4   9   1   e   1   1   9   2   5   1   4   1   0   4   c   4   0   0   0   2   d   8   \"   ,     \"   d   e   p   a   r   t   m   e   n   t   \"   :     \"   A   r   t   \"   ,     \"   g   e   n   d   e   r   \"   :     0   ,     \"   i   d   \"   :     1   4   3   8   9   0   1   ,     \"   j   o   b   \"   :     \"   C   o   n   c   e   p   t   u   a   l     D   e   s   i   g   n   \"   ,     \"   n   a   m   e   \"   :     \"   S   e   t   h     E   n   g   s   t   r   o   m   \"   }   ,     {   \"   c   r   e   d   i   t   _   i   d   \"   :     \"   5   5   2   5   d   5   8   0   9   2   5   1   4   1   7   2   7   6   0   0   2   b   0   6   \"   ,     \"   d   e   p   a   r   t   m   e   n   t   \"   :     \"   C   r   e   w   \"   ,     \"   g   e   n   d   e   r   \"   :     0   ,     \"   i   d   \"   :     1   4   4   7   3   6   2   ,     \"   j   o   b   \"   :     \"   V   i   s   u   a   l     E   f   f   e   c   t   s     A   r   t     D   i   r   e   c   t   o   r   \"   ,     \"   n   a   m   e   \"   :     \"   E   r   i   c     O   l   i   v   e   r   \"   }   ,     {   \"   c   r   e   d   i   t   _   i   d   \"   :     \"   5   5   4   4   2   7   c   a   9   2   5   1   4   1   5   8   6   5   0   0   3   1   2   a   \"   ,     \"   d   e   p   a   r   t   m   e   n   t   \"   :     \"   V   i   s   u   a   l     E   f   f   e   c   t   s   \"   ,     \"   g   e   n   d   e   r   \"   :     0   ,     \"   i   d   \"   :     1   4   4   7   5   0   3   ,     \"   j   o   b   \"   :     \"   M   o   d   e   l   i   n   g   \"   ,     \"   n   a   m   e   \"   :     \"   M   a   t   s   u   n   e     S   u   z   u   k   i   \"   }   ,     {   \"   c   r   e   d   i   t   _   i   d   \"   :     \"   5   5   1   9   0   6   8   8   9   2   5   1   4   1   5   a   a   b   0   0   1   c   8   8   \"   ,     \"   d   e   p   a   r   t   m   e   n   t   \"   :     \"   A   r   t   \"   ,     \"   g   e   n   d   e   r   \"   :     0   ,     \"   i   d   \"   :     1   4   4   7   5   2   4   ,     \"   j   o   b   \"   :     \"   A   r   t     D   e   p   a   r   t   m   e   n   t     M   a   n   a   g   e   r   \"   ,     \"   n   a   m   e   \"   :     \"   P   a   u   l     T   o   b   i   n   \"   }   ,     {   \"   c   r   e   d   i   t   _   i   d   \"   :     \"   5   5   9   2   a   f   8   4   9   2   5   1   4   1   5   2   c   c   0   0   1   0   d   e   \"   ,     \"   d   e   p   a   r   t   m   e   n   t   \"   :     \"   C   o   s   t   u   m   e     &     M   a   k   e   -   U   p   \"   ,     \"   g   e   n   d   e   r   \"   :     0   ,     \"   i   d   \"   :     1   4   5   2   6   4   3   ,     \"   j   o   b   \"   :     \"   H   a   i   r   s   t   y   l   i   s   t   \"   ,     \"   n   a   m   e   \"   :     \"   R   o   x   a   n   e     G   r   i   f   f   i   n   \"   }   ,     {   \"   c   r   e   d   i   t   _   i   d   \"   :     \"   5   5   3   d   3   c   1   0   9   2   5   1   4   1   5   8   5   2   0   0   1   3   1   8   \"   ,     \"   d   e   p   a   r   t   m   e   n   t   \"   :     \"   L   i   g   h   t   i   n   g   \"   ,     \"   g   e   n   d   e   r   \"   :     0   ,     \"   i   d   \"   :     1   4   5   3   9   3   8   ,     \"   j   o   b   \"   :     \"   L   i   g   h   t   i   n   g     A   r   t   i   s   t   \"   ,     \"   n   a   m   e   \"   :     \"   A   r   u   n     R   a   m   -   M   o   h   a   n   \"   }   ,     {   \"   c   r   e   d   i   t   _   i   d   \"   :     \"   5   5   9   2   a   f   4   6   9   2   5   1   4   1   5   2   d   5   0   0   1   3   5   5   \"   ,     \"   d   e   p   a   r   t   m   e   n   t   \"   :     \"   C   o   s   t   u   m   e     &     M   a   k   e   -   U   p   \"   ,     \"   g   e   n   d   e   r   \"   :     0   ,     \"   i   d   \"   :     1   4   5   7   3   0   5   ,     \"   j   o   b   \"   :     \"   M   a   k   e   u   p     A   r   t   i   s   t   \"   ,     \"   n   a   m   e   \"   :     \"   G   e   o   r   g   i   a     L   o   c   k   h   a   r   t   -   A   d   a   m   s   \"   }   ,     {   \"   c   r   e   d   i   t   _   i   d   \"   :     \"   5   5   9   2   b   2   e   a   c   3   a   3   6   8   7   7   4   7   0   0   1   2   a   5   \"   ,     \"   d   e   p   a   r   t   m   e   n   t   \"   :     \"   C   r   e   w   \"   ,     \"   g   e   n   d   e   r   \"   :     0   ,     \"   i   d   \"   :     1   4   6   6   0   3   5   ,     \"   j   o   b   \"   :     \"   C   G     S   u   p   e   r   v   i   s   o   r   \"   ,     \"   n   a   m   e   \"   :     \"   T   h   r   a   i   n     S   h   a   d   b   o   l   t   \"   }   ,     {   \"   c   r   e   d   i   t   _   i   d   \"   :     \"   5   5   9   2   b   0   3   2   c   3   a   3   6   8   7   7   4   5   0   0   1   5   f   1   \"   ,     \"   d   e   p   a   r   t   m   e   n   t   \"   :     \"   C   r   e   w   \"   ,     \"   g   e   n   d   e   r   \"   :     0   ,     \"   i   d   \"   :     1   4   8   3   2   2   0   ,     \"   j   o   b   \"   :     \"   C   G     S   u   p   e   r   v   i   s   o   r   \"   ,     \"   n   a   m   e   \"   :     \"   B   r   a   d     A   l   e   x   a   n   d   e   r   \"   }   ,     {   \"   c   r   e   d   i   t   _   i   d   \"   :     \"   5   5   9   2   b   0   5   5   9   2   5   1   4   1   5   2   d   8   0   0   1   2   f   6   \"   ,     \"   d   e   p   a   r   t   m   e   n   t   \"   :     \"   C   r   e   w   \"   ,     \"   g   e   n   d   e   r   \"   :     0   ,     \"   i   d   \"   :     1   4   8   3   2   2   1   ,     \"   j   o   b   \"   :     \"   C   G     S   u   p   e   r   v   i   s   o   r   \"   ,     \"   n   a   m   e   \"   :     \"   S   h   a   d   i     A   l   m   a   s   s   i   z   a   d   e   h   \"   }   ,     {   \"   c   r   e   d   i   t   _   i   d   \"   :     \"   5   5   9   2   b   0   9   0   c   3   a   3   6   8   7   7   5   7   0   0   1   0   b   5   \"   ,     \"   d   e   p   a   r   t   m   e   n   t   \"   :     \"   C   r   e   w   \"   ,     \"   g   e   n   d   e   r   \"   :     0   ,     \"   i   d   \"   :     1   4   8   3   2   2   2   ,     \"   j   o   b   \"   :     \"   C   G     S   u   p   e   r   v   i   s   o   r   \"   ,     \"   n   a   m   e   \"   :     \"   S   i   m   o   n     C   l   u   t   t   e   r   b   u   c   k   \"   }   ,     {   \"   c   r   e   d   i   t   _   i   d   \"   :     \"   5   5   9   2   b   0   d   b   c   3   a   3   6   8   7   7   4   b   0   0   1   1   2   c   \"   ,     \"   d   e   p   a   r   t   m   e   n   t   \"   :     \"   C   r   e   w   \"   ,     \"   g   e   n   d   e   r   \"   :     0   ,     \"   i   d   \"   :     1   4   8   3   2   2   3   ,     \"   j   o   b   \"   :     \"   C   G     S   u   p   e   r   v   i   s   o   r   \"   ,     \"   n   a   m   e   \"   :     \"   G   r   a   e   m   e     D   e   m   m   o   c   k   s   \"   }   ,     {   \"   c   r   e   d   i   t   _   i   d   \"   :     \"   5   5   9   2   b   0   f   e   9   2   5   1   4   1   5   2   d   b   0   0   1   0   c   1   \"   ,     \"   d   e   p   a   r   t   m   e   n   t   \"   :     \"   C   r   e   w   \"   ,     \"   g   e   n   d   e   r   \"   :     0   ,     \"   i   d   \"   :     1   4   8   3   2   2   4   ,     \"   j   o   b   \"   :     \"   C   G     S   u   p   e   r   v   i   s   o   r   \"   ,     \"   n   a   m   e   \"   :     \"   A   d   r   i   a   n     F   e   r   n   a   n   d   e   s   \"   }   ,     {   \"   c   r   e   d   i   t   _   i   d   \"   :     \"   5   5   9   2   b   1   1   f   9   2   5   1   4   1   5   d   f   8   0   0   1   0   5   9   \"   ,     \"   d   e   p   a   r   t   m   e   n   t   \"   :     \"   C   r   e   w   \"   ,     \"   g   e   n   d   e   r   \"   :     0   ,     \"   i   d   \"   :     1   4   8   3   2   2   5   ,     \"   j   o   b   \"   :     \"   C   G     S   u   p   e   r   v   i   s   o   r   \"   ,     \"   n   a   m   e   \"   :     \"   M   i   t   c   h     G   a   t   e   s   \"   }   ,     {   \"   c   r   e   d   i   t   _   i   d   \"   :     \"   5   5   9   2   b   1   5   d   c   3   a   3   6   8   7   7   4   5   0   0   1   6   4   5   \"   ,     \"   d   e   p   a   r   t   m   e   n   t   \"   :     \"   C   r   e   w   \"   ,     \"   g   e   n   d   e   r   \"   :     0   ,     \"   i   d   \"   :     1   4   8   3   2   2   6   ,     \"   j   o   b   \"   :     \"   C   G     S   u   p   e   r   v   i   s   o   r   \"   ,     \"   n   a   m   e   \"   :     \"   J   e   r   r   y     K   u   n   g   \"   }   ,     {   \"   c   r   e   d   i   t   _   i   d   \"   :     \"   5   5   9   2   b   1   8   e   9   2   5   1   4   1   6   4   5   a   0   0   0   4   a   e   \"   ,     \"   d   e   p   a   r   t   m   e   n   t   \"   :     \"   C   r   e   w   \"   ,     \"   g   e   n   d   e   r   \"   :     0   ,     \"   i   d   \"   :     1   4   8   3   2   2   7   ,     \"   j   o   b   \"   :     \"   C   G     S   u   p   e   r   v   i   s   o   r   \"   ,     \"   n   a   m   e   \"   :     \"   A   n   d   y     L   o   m   a   s   \"   }   ,     {   \"   c   r   e   d   i   t   _   i   d   \"   :     \"   5   5   9   2   b   1   b   f   c   3   a   3   6   8   7   7   5   d   0   0   1   0   e   7   \"   ,     \"   d   e   p   a   r   t   m   e   n   t   \"   :     \"   C   r   e   w   \"   ,     \"   g   e   n   d   e   r   \"   :     0   ,     \"   i   d   \"   :     1   4   8   3   2   2   8   ,     \"   j   o   b   \"   :     \"   C   G     S   u   p   e   r   v   i   s   o   r   \"   ,     \"   n   a   m   e   \"   :     \"   S   e   b   a   s   t   i   a   n     M   a   r   i   n   o   \"   }   ,     {   \"   c   r   e   d   i   t   _   i   d   \"   :     \"   5   5   9   2   b   2   0   4   9   2   5   1   4   1   5   d   f   8   0   0   1   0   7   8   \"   ,     \"   d   e   p   a   r   t   m   e   n   t   \"   :     \"   C   r   e   w   \"   ,     \"   g   e   n   d   e   r   \"   :     0   ,     \"   i   d   \"   :     1   4   8   3   2   2   9   ,     \"   j   o   b   \"   :     \"   C   G     S   u   p   e   r   v   i   s   o   r   \"   ,     \"   n   a   m   e   \"   :     \"   M   a   t   t   h   i   a   s     M   e   n   z   \"   }   ,     {   \"   c   r   e   d   i   t   _   i   d   \"   :     \"   5   5   9   2   b   2   7   b   9   2   5   1   4   1   5   2   d   8   0   0   1   3   6   a   \"   ,     \"   d   e   p   a   r   t   m   e   n   t   \"   :     \"   C   r   e   w   \"   ,     \"   g   e   n   d   e   r   \"   :     0   ,     \"   i   d   \"   :     1   4   8   3   2   3   0   ,     \"   j   o   b   \"   :     \"   C   G     S   u   p   e   r   v   i   s   o   r   \"   ,     \"   n   a   m   e   \"   :     \"   S   e   r   g   e   i     N   e   v   s   h   u   p   o   v   \"   }   ,     {   \"   c   r   e   d   i   t   _   i   d   \"   :     \"   5   5   9   2   b   2   c   3   c   3   a   3   6   8   6   9   e   8   0   0   0   0   3   c   \"   ,     \"   d   e   p   a   r   t   m   e   n   t   \"   :     \"   C   r   e   w   \"   ,     \"   g   e   n   d   e   r   \"   :     0   ,     \"   i   d   \"   :     1   4   8   3   2   3   1   ,     \"   j   o   b   \"   :     \"   C   G     S   u   p   e   r   v   i   s   o   r   \"   ,     \"   n   a   m   e   \"   :     \"   P   h   i   l   i   p   p   e     R   e   b   o   u   r   s   \"   }   ,     {   \"   c   r   e   d   i   t   _   i   d   \"   :     \"   5   5   9   2   b   3   1   7   c   3   a   3   6   8   7   7   4   7   0   0   1   2   a   f   \"   ,     \"   d   e   p   a   r   t   m   e   n   t   \"   :     \"   C   r   e   w   \"   ,     \"   g   e   n   d   e   r   \"   :     0   ,     \"   i   d   \"   :     1   4   8   3   2   3   2   ,     \"   j   o   b   \"   :     \"   C   G     S   u   p   e   r   v   i   s   o   r   \"   ,     \"   n   a   m   e   \"   :     \"   M   i   c   h   a   e   l     T   a   k   a   r   a   n   g   i   \"   }   ,     {   \"   c   r   e   d   i   t   _   i   d   \"   :     \"   5   5   9   2   b   3   4   5   c   3   a   3   6   8   7   7   4   7   0   0   1   2   b   b   \"   ,     \"   d   e   p   a   r   t   m   e   n   t   \"   :     \"   C   r   e   w   \"   ,     \"   g   e   n   d   e   r   \"   :     0   ,     \"   i   d   \"   :     1   4   8   3   2   3   3   ,     \"   j   o   b   \"   :     \"   C   G     S   u   p   e   r   v   i   s   o   r   \"   ,     \"   n   a   m   e   \"   :     \"   D   a   v   i   d     W   e   i   t   z   b   e   r   g   \"   }   ,     {   \"   c   r   e   d   i   t   _   i   d   \"   :     \"   5   5   9   2   b   3   7   c   c   3   a   3   6   8   7   7   5   1   0   0   1   1   3   b   \"   ,     \"   d   e   p   a   r   t   m   e   n   t   \"   :     \"   C   r   e   w   \"   ,     \"   g   e   n   d   e   r   \"   :     0   ,     \"   i   d   \"   :     1   4   8   3   2   3   4   ,     \"   j   o   b   \"   :     \"   C   G     S   u   p   e   r   v   i   s   o   r   \"   ,     \"   n   a   m   e   \"   :     \"   B   e   n     W   h   i   t   e   \"   }   ,     {   \"   c   r   e   d   i   t   _   i   d   \"   :     \"   5   7   3   c   8   e   2   f   9   2   5   1   4   1   3   f   5   d   0   0   0   0   9   4   \"   ,     \"   d   e   p   a   r   t   m   e   n   t   \"   :     \"   C   r   e   w   \"   ,     \"   g   e   n   d   e   r   \"   :     1   ,     \"   i   d   \"   :     1   6   2   1   9   3   2   ,     \"   j   o   b   \"   :     \"   S   t   u   n   t   s   \"   ,     \"   n   a   m   e   \"   :     \"   M   i   n     W   i   n   d   l   e   \"   }   ]'"
      ]
     },
     "execution_count": 22,
     "metadata": {},
     "output_type": "execute_result"
    }
   ],
   "source": [
    "new_df[\"tags\"][0]"
   ]
  },
  {
   "cell_type": "code",
   "execution_count": 54,
   "id": "ffa748fa-68d5-421e-8678-f0c8a958eacf",
   "metadata": {},
   "outputs": [
    {
     "name": "stderr",
     "output_type": "stream",
     "text": [
      "C:\\Users\\abdul ahad\\AppData\\Local\\Temp\\ipykernel_1952\\4024514323.py:1: SettingWithCopyWarning: \n",
      "A value is trying to be set on a copy of a slice from a DataFrame.\n",
      "Try using .loc[row_indexer,col_indexer] = value instead\n",
      "\n",
      "See the caveats in the documentation: https://pandas.pydata.org/pandas-docs/stable/user_guide/indexing.html#returning-a-view-versus-a-copy\n",
      "  new_df[\"tags\"]=new_df[\"tags\"].apply(lambda x:x.lower())\n"
     ]
    }
   ],
   "source": [
    "new_df[\"tags\"]=new_df[\"tags\"].apply(lambda x:x.lower())"
   ]
  },
  {
   "cell_type": "code",
   "execution_count": 255,
   "id": "0d5b5c2b-1fb4-43d8-bf85-1dbd4abf627c",
   "metadata": {},
   "outputs": [
    {
     "data": {
      "text/html": [
       "<div>\n",
       "<style scoped>\n",
       "    .dataframe tbody tr th:only-of-type {\n",
       "        vertical-align: middle;\n",
       "    }\n",
       "\n",
       "    .dataframe tbody tr th {\n",
       "        vertical-align: top;\n",
       "    }\n",
       "\n",
       "    .dataframe thead th {\n",
       "        text-align: right;\n",
       "    }\n",
       "</style>\n",
       "<table border=\"1\" class=\"dataframe\">\n",
       "  <thead>\n",
       "    <tr style=\"text-align: right;\">\n",
       "      <th></th>\n",
       "      <th>movie_id</th>\n",
       "      <th>title</th>\n",
       "      <th>tags</th>\n",
       "    </tr>\n",
       "  </thead>\n",
       "  <tbody>\n",
       "    <tr>\n",
       "      <th>0</th>\n",
       "      <td>19995</td>\n",
       "      <td>Avatar</td>\n",
       "      <td>in the 22nd century, a paraplegic marine is di...</td>\n",
       "    </tr>\n",
       "    <tr>\n",
       "      <th>1</th>\n",
       "      <td>285</td>\n",
       "      <td>Pirates of the Caribbean: At World's End</td>\n",
       "      <td>captain barbossa, long believed to be dead, ha...</td>\n",
       "    </tr>\n",
       "    <tr>\n",
       "      <th>2</th>\n",
       "      <td>206647</td>\n",
       "      <td>Spectre</td>\n",
       "      <td>a cryptic message from bond’s past sends him o...</td>\n",
       "    </tr>\n",
       "    <tr>\n",
       "      <th>3</th>\n",
       "      <td>49026</td>\n",
       "      <td>The Dark Knight Rises</td>\n",
       "      <td>following the death of district attorney harve...</td>\n",
       "    </tr>\n",
       "    <tr>\n",
       "      <th>4</th>\n",
       "      <td>49529</td>\n",
       "      <td>John Carter</td>\n",
       "      <td>john carter is a war-weary, former military ca...</td>\n",
       "    </tr>\n",
       "  </tbody>\n",
       "</table>\n",
       "</div>"
      ],
      "text/plain": [
       "   movie_id                                     title  \\\n",
       "0     19995                                    Avatar   \n",
       "1       285  Pirates of the Caribbean: At World's End   \n",
       "2    206647                                   Spectre   \n",
       "3     49026                     The Dark Knight Rises   \n",
       "4     49529                               John Carter   \n",
       "\n",
       "                                                tags  \n",
       "0  in the 22nd century, a paraplegic marine is di...  \n",
       "1  captain barbossa, long believed to be dead, ha...  \n",
       "2  a cryptic message from bond’s past sends him o...  \n",
       "3  following the death of district attorney harve...  \n",
       "4  john carter is a war-weary, former military ca...  "
      ]
     },
     "execution_count": 255,
     "metadata": {},
     "output_type": "execute_result"
    }
   ],
   "source": [
    "new_df.head()"
   ]
  },
  {
   "cell_type": "code",
   "execution_count": 27,
   "id": "56a4a08d-e383-4e61-a1e0-f0ed8914c07b",
   "metadata": {},
   "outputs": [
    {
     "data": {
      "text/plain": [
       "['ajad', 'Adventure', 'Fantasy', 'Science Fiction']"
      ]
     },
     "execution_count": 27,
     "metadata": {},
     "output_type": "execute_result"
    }
   ],
   "source": [
    "convert('[{\"id\": 28, \"name\": \"ajad\"}, {\"id\": 12, \"name\": \"Adventure\"}, {\"id\": 14, \"name\": \"Fantasy\"}, {\"id\": 878, \"name\": \"Science Fiction\"}]')"
   ]
  },
  {
   "cell_type": "code",
   "execution_count": 75,
   "id": "8671bca3-66a2-4393-8319-8ad6c0280ca3",
   "metadata": {},
   "outputs": [
    {
     "data": {
      "text/plain": [
       "\"captain barbossa, long believed to be dead, has come back to life and is headed to the edge of the earth with will turner and elizabeth swann. but nothing is quite as it seems. adventure fantasy action ocean drugabuse exoticisland eastindiatradingcompany loveofone'slife traitor shipwreck strongwoman ship alliance calypso afterlife fighter pirate swashbuckler aftercreditsstinger johnnydepp orlandobloom keiraknightley goreverbinski\""
      ]
     },
     "execution_count": 75,
     "metadata": {},
     "output_type": "execute_result"
    }
   ],
   "source": [
    "new_df[\"tags\"][1]"
   ]
  },
  {
   "cell_type": "code",
   "execution_count": 140,
   "id": "0eef40c7-0cfe-4316-b97d-d9bbf862b660",
   "metadata": {},
   "outputs": [],
   "source": [
    "# vectors=cv.fit(new_df[\"tags\"])"
   ]
  },
  {
   "cell_type": "code",
   "execution_count": 132,
   "id": "c11d4ba9-0f94-496c-9c59-8c7d78c6bc1c",
   "metadata": {},
   "outputs": [
    {
     "data": {
      "text/plain": [
       "\"captain barbossa, long believed to be dead, has come back to life and is headed to the edge of the earth with will turner and elizabeth swann. but nothing is quite as it seems. adventure fantasy action ocean drugabuse exoticisland eastindiatradingcompany loveofone'slife traitor shipwreck strongwoman ship alliance calypso afterlife fighter pirate swashbuckler aftercreditsstinger johnnydepp orlandobloom keiraknightley goreverbinski\""
      ]
     },
     "execution_count": 132,
     "metadata": {},
     "output_type": "execute_result"
    }
   ],
   "source": [
    "# vectors[1].shape\n",
    "new_df[\"tags\"][1]"
   ]
  },
  {
   "cell_type": "code",
   "execution_count": 55,
   "id": "b096fb15-c68e-45e0-b504-bed0a7820e47",
   "metadata": {},
   "outputs": [],
   "source": [
    "# new_df[\"tags\"][1]\n",
    "import nltk\n",
    "from nltk.stem import PorterStemmer\n",
    "ps=PorterStemmer()"
   ]
  },
  {
   "cell_type": "code",
   "execution_count": 56,
   "id": "16f7d48d-6514-434a-97c4-1da31af551ce",
   "metadata": {},
   "outputs": [],
   "source": [
    "def stem(text):\n",
    "    s=[]\n",
    "    for i in text.split():\n",
    "        s.append(ps.stem(i))\n",
    "    return \" \".join(s)"
   ]
  },
  {
   "cell_type": "code",
   "execution_count": 258,
   "id": "65c131cd-c212-4926-9b09-9e3ef9cedaab",
   "metadata": {
    "scrolled": true
   },
   "outputs": [
    {
     "data": {
      "text/plain": [
       "\"captain barbossa, long believ to be dead, ha come back to life and is head to the edg of the earth with will turner and elizabeth swann. but noth is quit as it seems. adventur fantasi action ocean drugabus exoticisland eastindiatradingcompani loveofone'slif traitor shipwreck strongwoman ship allianc calypso afterlif fighter pirat swashbuckl aftercreditssting johnnydepp orlandobloom keiraknightley goreverbinski\""
      ]
     },
     "execution_count": 258,
     "metadata": {},
     "output_type": "execute_result"
    }
   ],
   "source": [
    "stem(\"captain barbossa, long believed to be dead, has come back to life and is headed to the edge of the earth with will turner and elizabeth swann. but nothing is quite as it seems. adventure fantasy action ocean drugabuse exoticisland eastindiatradingcompany loveofone'slife traitor shipwreck strongwoman ship alliance calypso afterlife fighter pirate swashbuckler aftercreditsstinger johnnydepp orlandobloom keiraknightley goreverbinski\")"
   ]
  },
  {
   "cell_type": "code",
   "execution_count": 57,
   "id": "cf20d0bd-b8fb-44ca-8c16-617b7179fde3",
   "metadata": {
    "scrolled": true
   },
   "outputs": [
    {
     "name": "stderr",
     "output_type": "stream",
     "text": [
      "C:\\Users\\abdul ahad\\AppData\\Local\\Temp\\ipykernel_1952\\1027202188.py:1: SettingWithCopyWarning: \n",
      "A value is trying to be set on a copy of a slice from a DataFrame.\n",
      "Try using .loc[row_indexer,col_indexer] = value instead\n",
      "\n",
      "See the caveats in the documentation: https://pandas.pydata.org/pandas-docs/stable/user_guide/indexing.html#returning-a-view-versus-a-copy\n",
      "  new_df[\"tags\"]=new_df[\"tags\"].apply(stem)\n"
     ]
    }
   ],
   "source": [
    "new_df[\"tags\"]=new_df[\"tags\"].apply(stem)"
   ]
  },
  {
   "cell_type": "code",
   "execution_count": 58,
   "id": "1033346f-1146-4ac5-86bf-4bed2298d09b",
   "metadata": {},
   "outputs": [
    {
     "ename": "NameError",
     "evalue": "name 'cv' is not defined",
     "output_type": "error",
     "traceback": [
      "\u001b[1;31m---------------------------------------------------------------------------\u001b[0m",
      "\u001b[1;31mNameError\u001b[0m                                 Traceback (most recent call last)",
      "Cell \u001b[1;32mIn[58], line 2\u001b[0m\n\u001b[0;32m      1\u001b[0m \u001b[38;5;66;03m#check which 5000 words are there\u001b[39;00m\n\u001b[1;32m----> 2\u001b[0m cv\u001b[38;5;241m.\u001b[39mget_feature_names_out()\n",
      "\u001b[1;31mNameError\u001b[0m: name 'cv' is not defined"
     ]
    }
   ],
   "source": [
    "#check which 5000 words are there\n",
    "cv.get_feature_names_out()\n",
    "# for word in vectors:\n",
    "#     print(word)"
   ]
  },
  {
   "cell_type": "code",
   "execution_count": 59,
   "id": "31dab1b7-d376-4e14-9483-78ef2ef793fd",
   "metadata": {},
   "outputs": [],
   "source": [
    "#now perform the vectorization on this\n",
    "from sklearn.feature_extraction.text import CountVectorizer\n",
    "cv=CountVectorizer(max_features=5000,stop_words=\"english\")\n"
   ]
  },
  {
   "cell_type": "code",
   "execution_count": 183,
   "id": "39ab3782-c46b-41bc-993b-03ed41561c48",
   "metadata": {},
   "outputs": [],
   "source": [
    "# cv=CountVectorizer(max_features=5000,stop_words='english')\n",
    "# vectors=cv.fit_transform(new_df['tags']).toarray()\n",
    "# words=cv.get_feature_names_out()\n",
    "# for word in words:\n",
    "#     print(word)\n"
   ]
  },
  {
   "cell_type": "code",
   "execution_count": 25,
   "id": "7601d5eb-bc55-4218-9784-bad2403835f9",
   "metadata": {},
   "outputs": [
    {
     "ename": "NameError",
     "evalue": "name 'CountVectorizer' is not defined",
     "output_type": "error",
     "traceback": [
      "\u001b[1;31m---------------------------------------------------------------------------\u001b[0m",
      "\u001b[1;31mNameError\u001b[0m                                 Traceback (most recent call last)",
      "Cell \u001b[1;32mIn[25], line 1\u001b[0m\n\u001b[1;32m----> 1\u001b[0m cv\u001b[38;5;241m=\u001b[39mCountVectorizer(max_features\u001b[38;5;241m=\u001b[39m\u001b[38;5;241m5000\u001b[39m,stop_words\u001b[38;5;241m=\u001b[39m\u001b[38;5;124m'\u001b[39m\u001b[38;5;124menglish\u001b[39m\u001b[38;5;124m'\u001b[39m)\n\u001b[0;32m      2\u001b[0m vectors\u001b[38;5;241m=\u001b[39mcv\u001b[38;5;241m.\u001b[39mfit_transform(new_df[\u001b[38;5;124m'\u001b[39m\u001b[38;5;124mtags\u001b[39m\u001b[38;5;124m'\u001b[39m])\u001b[38;5;241m.\u001b[39mtoarray()\n\u001b[0;32m      3\u001b[0m words\u001b[38;5;241m=\u001b[39mcv\u001b[38;5;241m.\u001b[39mget_feature_names_out()\n",
      "\u001b[1;31mNameError\u001b[0m: name 'CountVectorizer' is not defined"
     ]
    }
   ],
   "source": [
    "cv=CountVectorizer(max_features=5000,stop_words='english')\n",
    "vectors=cv.fit_transform(new_df['tags']).toarray()\n",
    "words=cv.get_feature_names_out()\n",
    "# for word in words:\n",
    "#     print(word)\n",
    "words.shape"
   ]
  },
  {
   "cell_type": "code",
   "execution_count": 31,
   "id": "7fc924c2-02c2-423c-ad46-d73a8ef7692d",
   "metadata": {},
   "outputs": [
    {
     "data": {
      "text/plain": [
       "(4806, 5000)"
      ]
     },
     "execution_count": 31,
     "metadata": {},
     "output_type": "execute_result"
    }
   ],
   "source": [
    "vectors.shape"
   ]
  },
  {
   "cell_type": "code",
   "execution_count": 61,
   "id": "3f341961-e65a-4d18-bf41-64ed6fdcabcf",
   "metadata": {},
   "outputs": [],
   "source": [
    "#now make a similarities distance of vectors\n",
    "from sklearn.metrics.pairwise import cosine_similarity\n"
   ]
  },
  {
   "cell_type": "code",
   "execution_count": 62,
   "id": "9c74902e-ecdf-4c71-aec8-8afc1dbac634",
   "metadata": {},
   "outputs": [],
   "source": [
    "similarity=cosine_similarity(vectors)"
   ]
  },
  {
   "cell_type": "raw",
   "id": "c55574f5-605c-4afe-987a-07f871a0c139",
   "metadata": {},
   "source": [
    "#now the next task is: make afunction"
   ]
  },
  {
   "cell_type": "code",
   "execution_count": 63,
   "id": "6df8e961-b8c2-408d-a59b-d2e647186570",
   "metadata": {},
   "outputs": [
    {
     "ename": "NameError",
     "evalue": "name 'recommend' is not defined",
     "output_type": "error",
     "traceback": [
      "\u001b[1;31m---------------------------------------------------------------------------\u001b[0m",
      "\u001b[1;31mNameError\u001b[0m                                 Traceback (most recent call last)",
      "Cell \u001b[1;32mIn[63], line 2\u001b[0m\n\u001b[0;32m      1\u001b[0m similarity\u001b[38;5;241m.\u001b[39mshape\n\u001b[1;32m----> 2\u001b[0m recommend(\u001b[38;5;124m'\u001b[39m\u001b[38;5;124mAvatar\u001b[39m\u001b[38;5;124m'\u001b[39m)\n",
      "\u001b[1;31mNameError\u001b[0m: name 'recommend' is not defined"
     ]
    }
   ],
   "source": [
    "similarity.shape\n",
    "recommend('Avatar')\n",
    "# similarity[0]"
   ]
  },
  {
   "cell_type": "code",
   "execution_count": 64,
   "id": "80ba122f-9b24-4f65-9fbc-bc5317295094",
   "metadata": {},
   "outputs": [],
   "source": [
    "def recommend(movie):\n",
    "    movie_index=new_df[new_df['title']==movie].index[0]\n",
    "    distance=similarity[movie_index]\n",
    "    movie_list=sorted(list(enumerate(distance)),reverse=True,key=lambda x:x[1])[1:6]\n",
    "    for i in movie_index:\n",
    "        print(i[0])\n",
    "    # return distance"
   ]
  },
  {
   "cell_type": "code",
   "execution_count": 65,
   "id": "07c9668f-6535-44f3-bd35-53eaeb06c60a",
   "metadata": {},
   "outputs": [
    {
     "data": {
      "text/plain": [
       "[(1214, 0.28676966733820225),\n",
       " (2405, 0.26901379342448517),\n",
       " (3728, 0.2605130246476754),\n",
       " (507, 0.255608593705383),\n",
       " (539, 0.2503866978335957)]"
      ]
     },
     "execution_count": 65,
     "metadata": {},
     "output_type": "execute_result"
    }
   ],
   "source": [
    "# new_df[new_df['title']=='Avatar'].index[0]\n",
    "sorted(list(enumerate(similarity[0])),reverse=True,key=lambda x:x[1])[1:6]"
   ]
  },
  {
   "cell_type": "code",
   "execution_count": 37,
   "id": "ca7307b9-a473-4a1d-8998-9c1584f3e621",
   "metadata": {},
   "outputs": [
    {
     "ename": "IndexError",
     "evalue": "index 0 is out of bounds for axis 0 with size 0",
     "output_type": "error",
     "traceback": [
      "\u001b[1;31m----------------------------------------------------------------\u001b[0m",
      "\u001b[1;31mIndexError\u001b[0m                     Traceback (most recent call last)",
      "Cell \u001b[1;32mIn[37], line 1\u001b[0m\n\u001b[1;32m----> 1\u001b[0m store\u001b[38;5;241m=\u001b[39mrecommend(\u001b[38;5;124m'\u001b[39m\u001b[38;5;124mavatar\u001b[39m\u001b[38;5;124m'\u001b[39m)\n",
      "Cell \u001b[1;32mIn[35], line 2\u001b[0m, in \u001b[0;36mrecommend\u001b[1;34m(movie)\u001b[0m\n\u001b[0;32m      1\u001b[0m \u001b[38;5;28;01mdef\u001b[39;00m \u001b[38;5;21mrecommend\u001b[39m(movie):\n\u001b[1;32m----> 2\u001b[0m     movie_index\u001b[38;5;241m=\u001b[39mnew_df[new_df[\u001b[38;5;124m'\u001b[39m\u001b[38;5;124mtitle\u001b[39m\u001b[38;5;124m'\u001b[39m]\u001b[38;5;241m==\u001b[39mmovie]\u001b[38;5;241m.\u001b[39mindex[\u001b[38;5;241m0\u001b[39m]\n\u001b[0;32m      3\u001b[0m     distance\u001b[38;5;241m=\u001b[39msimilarity[movie_index]\n\u001b[0;32m      4\u001b[0m     movie_list\u001b[38;5;241m=\u001b[39m\u001b[38;5;28msorted\u001b[39m(\u001b[38;5;28mlist\u001b[39m(\u001b[38;5;28menumerate\u001b[39m(distance)),reverse\u001b[38;5;241m=\u001b[39m\u001b[38;5;28;01mTrue\u001b[39;00m,key\u001b[38;5;241m=\u001b[39m\u001b[38;5;28;01mlambda\u001b[39;00m x:x[\u001b[38;5;241m1\u001b[39m])[\u001b[38;5;241m1\u001b[39m:\u001b[38;5;241m6\u001b[39m]\n",
      "File \u001b[1;32m~\\anaconda3\\Lib\\site-packages\\pandas\\core\\indexes\\base.py:5389\u001b[0m, in \u001b[0;36mIndex.__getitem__\u001b[1;34m(self, key)\u001b[0m\n\u001b[0;32m   5386\u001b[0m \u001b[38;5;28;01mif\u001b[39;00m is_integer(key) \u001b[38;5;129;01mor\u001b[39;00m is_float(key):\n\u001b[0;32m   5387\u001b[0m     \u001b[38;5;66;03m# GH#44051 exclude bool, which would return a 2d ndarray\u001b[39;00m\n\u001b[0;32m   5388\u001b[0m     key \u001b[38;5;241m=\u001b[39m com\u001b[38;5;241m.\u001b[39mcast_scalar_indexer(key)\n\u001b[1;32m-> 5389\u001b[0m     \u001b[38;5;28;01mreturn\u001b[39;00m getitem(key)\n\u001b[0;32m   5391\u001b[0m \u001b[38;5;28;01mif\u001b[39;00m \u001b[38;5;28misinstance\u001b[39m(key, \u001b[38;5;28mslice\u001b[39m):\n\u001b[0;32m   5392\u001b[0m     \u001b[38;5;66;03m# This case is separated from the conditional above to avoid\u001b[39;00m\n\u001b[0;32m   5393\u001b[0m     \u001b[38;5;66;03m# pessimization com.is_bool_indexer and ndim checks.\u001b[39;00m\n\u001b[0;32m   5394\u001b[0m     \u001b[38;5;28;01mreturn\u001b[39;00m \u001b[38;5;28mself\u001b[39m\u001b[38;5;241m.\u001b[39m_getitem_slice(key)\n",
      "\u001b[1;31mIndexError\u001b[0m: index 0 is out of bounds for axis 0 with size 0"
     ]
    }
   ],
   "source": [
    "store=recommend('avatar')"
   ]
  },
  {
   "cell_type": "code",
   "execution_count": 304,
   "id": "0c741529-16ca-40e3-a021-df571ee22aa4",
   "metadata": {},
   "outputs": [
    {
     "data": {
      "text/plain": [
       "[(539, 0.26089696604360174),\n",
       " (1192, 0.2581988897471611),\n",
       " (260, 0.25110592822973776),\n",
       " (1214, 0.24944382578492943),\n",
       " (507, 0.2484646732989441)]"
      ]
     },
     "execution_count": 304,
     "metadata": {},
     "output_type": "execute_result"
    }
   ],
   "source": [
    "movie_index=new_df[new_df['title']=='Avatar'].index[0]\n",
    "distance=similarity[movie_index]\n",
    "movie_list=sorted(list(enumerate(distance)),reverse=True,key=lambda x:x[1])[1:6]\n",
    "movie_list\n",
    "# fo/"
   ]
  },
  {
   "cell_type": "code",
   "execution_count": 66,
   "id": "0d5902fd-ebb1-484d-944c-37861bb8f450",
   "metadata": {},
   "outputs": [],
   "source": [
    "# def recommend(movie):\n",
    "#     movie_index=new_df[new_df['title']==movie].index[0]\n",
    "#     distance=similarity[movie_index]\n",
    "#     movie_list=sorted(list(enumerate(distance)),reverse=True,key=lambda x:x[1])[1:6]\n",
    "#     for i in movie_index:\n",
    "#         print(i[0])\n",
    "#     # return distance\n",
    "\n",
    "def recommend(movie):\n",
    "    movie_index = int(new_df[new_df['title']==movie].index[0])  # Get the index of the movie (make sure this is done correctly)\n",
    "    distance = similarity[movie_index]\n",
    "    movie_list = sorted(list(enumerate(distance)), reverse=True, key=lambda x: x[1])[1:6]\n",
    "\n",
    "    for i in movie_list:  # Change movie_index to movie_list\n",
    "        print(new_df.iloc[i[0]].title)\n",
    "        # print(i[0])  # This will print the index of the similar movies\n"
   ]
  },
  {
   "cell_type": "code",
   "execution_count": 67,
   "id": "0ef007b6-f49f-4139-be06-59947d85864b",
   "metadata": {},
   "outputs": [
    {
     "name": "stdout",
     "output_type": "stream",
     "text": [
      "Aliens vs Predator: Requiem\n",
      "Aliens\n",
      "Falcon Rising\n",
      "Independence Day\n",
      "Titan A.E.\n"
     ]
    }
   ],
   "source": [
    "# type(int(new_df[new_df['title']=='Avatar'].index[0]))\n",
    "recommend(\"Avatar\")"
   ]
  },
  {
   "cell_type": "code",
   "execution_count": 68,
   "id": "8e63218a-80d8-4f09-9409-e6ec4c1d66f4",
   "metadata": {},
   "outputs": [
    {
     "name": "stdout",
     "output_type": "stream",
     "text": [
      "The Dark Knight Rises\n",
      "Batman Begins\n",
      "Batman Returns\n",
      "Batman Forever\n",
      "Batman\n"
     ]
    }
   ],
   "source": [
    "# new_df.iloc[539].title\n",
    "# type(int(new_df[new_df['title']=='Avatar'].index[0]))\n",
    "recommend(\"The Dark Knight\")"
   ]
  },
  {
   "cell_type": "code",
   "execution_count": 74,
   "id": "40d1cccd-4af6-433c-84d7-f6b515da5a63",
   "metadata": {},
   "outputs": [],
   "source": [
    "import pickle\n",
    "pickle.dump(new_df.to_dict(),open('movies_dict.pkl','wb'))"
   ]
  },
  {
   "cell_type": "code",
   "execution_count": 26,
   "id": "4f1c6a1b-18a2-4b58-bad7-75eb2d1e4f00",
   "metadata": {},
   "outputs": [],
   "source": [
    "# new_df.to_dict()"
   ]
  },
  {
   "cell_type": "code",
   "execution_count": 73,
   "id": "f50eb32f-c03b-4377-a975-558dbb4e5277",
   "metadata": {},
   "outputs": [
    {
     "data": {
      "text/html": [
       "<div>\n",
       "<style scoped>\n",
       "    .dataframe tbody tr th:only-of-type {\n",
       "        vertical-align: middle;\n",
       "    }\n",
       "\n",
       "    .dataframe tbody tr th {\n",
       "        vertical-align: top;\n",
       "    }\n",
       "\n",
       "    .dataframe thead th {\n",
       "        text-align: right;\n",
       "    }\n",
       "</style>\n",
       "<table border=\"1\" class=\"dataframe\">\n",
       "  <thead>\n",
       "    <tr style=\"text-align: right;\">\n",
       "      <th></th>\n",
       "      <th>movie_id</th>\n",
       "      <th>title</th>\n",
       "      <th>tags</th>\n",
       "    </tr>\n",
       "  </thead>\n",
       "  <tbody>\n",
       "    <tr>\n",
       "      <th>0</th>\n",
       "      <td>19995</td>\n",
       "      <td>Avatar</td>\n",
       "      <td>in the 22nd century, a parapleg marin is dispa...</td>\n",
       "    </tr>\n",
       "    <tr>\n",
       "      <th>1</th>\n",
       "      <td>285</td>\n",
       "      <td>Pirates of the Caribbean: At World's End</td>\n",
       "      <td>captain barbossa, long believ to be dead, ha c...</td>\n",
       "    </tr>\n",
       "    <tr>\n",
       "      <th>2</th>\n",
       "      <td>206647</td>\n",
       "      <td>Spectre</td>\n",
       "      <td>a cryptic messag from bond’ past send him on a...</td>\n",
       "    </tr>\n",
       "    <tr>\n",
       "      <th>3</th>\n",
       "      <td>49026</td>\n",
       "      <td>The Dark Knight Rises</td>\n",
       "      <td>follow the death of district attorney harvey d...</td>\n",
       "    </tr>\n",
       "    <tr>\n",
       "      <th>4</th>\n",
       "      <td>49529</td>\n",
       "      <td>John Carter</td>\n",
       "      <td>john carter is a war-weary, former militari ca...</td>\n",
       "    </tr>\n",
       "    <tr>\n",
       "      <th>...</th>\n",
       "      <td>...</td>\n",
       "      <td>...</td>\n",
       "      <td>...</td>\n",
       "    </tr>\n",
       "    <tr>\n",
       "      <th>4804</th>\n",
       "      <td>9367</td>\n",
       "      <td>El Mariachi</td>\n",
       "      <td>el mariachi just want to play hi guitar and ca...</td>\n",
       "    </tr>\n",
       "    <tr>\n",
       "      <th>4805</th>\n",
       "      <td>72766</td>\n",
       "      <td>Newlyweds</td>\n",
       "      <td>a newlyw couple' honeymoon is upend by the arr...</td>\n",
       "    </tr>\n",
       "    <tr>\n",
       "      <th>4806</th>\n",
       "      <td>231617</td>\n",
       "      <td>Signed, Sealed, Delivered</td>\n",
       "      <td>\"signed, sealed, delivered\" introduc a dedic q...</td>\n",
       "    </tr>\n",
       "    <tr>\n",
       "      <th>4807</th>\n",
       "      <td>126186</td>\n",
       "      <td>Shanghai Calling</td>\n",
       "      <td>when ambiti new york attorney sam is sent to s...</td>\n",
       "    </tr>\n",
       "    <tr>\n",
       "      <th>4808</th>\n",
       "      <td>25975</td>\n",
       "      <td>My Date with Drew</td>\n",
       "      <td>ever sinc the second grade when he first saw h...</td>\n",
       "    </tr>\n",
       "  </tbody>\n",
       "</table>\n",
       "<p>4806 rows × 3 columns</p>\n",
       "</div>"
      ],
      "text/plain": [
       "      movie_id                                     title  \\\n",
       "0        19995                                    Avatar   \n",
       "1          285  Pirates of the Caribbean: At World's End   \n",
       "2       206647                                   Spectre   \n",
       "3        49026                     The Dark Knight Rises   \n",
       "4        49529                               John Carter   \n",
       "...        ...                                       ...   \n",
       "4804      9367                               El Mariachi   \n",
       "4805     72766                                 Newlyweds   \n",
       "4806    231617                 Signed, Sealed, Delivered   \n",
       "4807    126186                          Shanghai Calling   \n",
       "4808     25975                         My Date with Drew   \n",
       "\n",
       "                                                   tags  \n",
       "0     in the 22nd century, a parapleg marin is dispa...  \n",
       "1     captain barbossa, long believ to be dead, ha c...  \n",
       "2     a cryptic messag from bond’ past send him on a...  \n",
       "3     follow the death of district attorney harvey d...  \n",
       "4     john carter is a war-weary, former militari ca...  \n",
       "...                                                 ...  \n",
       "4804  el mariachi just want to play hi guitar and ca...  \n",
       "4805  a newlyw couple' honeymoon is upend by the arr...  \n",
       "4806  \"signed, sealed, delivered\" introduc a dedic q...  \n",
       "4807  when ambiti new york attorney sam is sent to s...  \n",
       "4808  ever sinc the second grade when he first saw h...  \n",
       "\n",
       "[4806 rows x 3 columns]"
      ]
     },
     "execution_count": 73,
     "metadata": {},
     "output_type": "execute_result"
    }
   ],
   "source": [
    "new_df\n"
   ]
  },
  {
   "cell_type": "code",
   "execution_count": 27,
   "id": "c6ab4be2-65a6-4b01-80e3-202a0d368676",
   "metadata": {},
   "outputs": [],
   "source": [
    "sx=new_df.to_dict()\n",
    "# sx"
   ]
  },
  {
   "cell_type": "code",
   "execution_count": 88,
   "id": "07a08570-e13b-4d2c-a363-119bed10779d",
   "metadata": {},
   "outputs": [
    {
     "data": {
      "text/plain": [
       "'Avatar'"
      ]
     },
     "execution_count": 88,
     "metadata": {},
     "output_type": "execute_result"
    }
   ],
   "source": [
    "sx[\"title\"][0]\n"
   ]
  },
  {
   "cell_type": "code",
   "execution_count": 28,
   "id": "8ae6e3c1-9717-482d-b0fb-87d4bb1a59a9",
   "metadata": {},
   "outputs": [],
   "source": [
    "# value=[]\n",
    "# for i in sx.values():\n",
    "#     value.append(i)\n",
    "# value\n",
    "movie_ids = sx['title'].values()\n",
    "\n",
    "# Print all movie IDs separated by commas\n",
    "# print(\", \".join(map(str, movie_ids)))\n",
    "# movie_ids"
   ]
  },
  {
   "cell_type": "code",
   "execution_count": 102,
   "id": "3a17905d-8fef-4ef3-9b8a-0aac1c0d6f31",
   "metadata": {},
   "outputs": [],
   "source": [
    "pickle.dump(similarity,open(\"similarity.pkl\",\"wb\"))"
   ]
  }
 ],
 "metadata": {
  "kernelspec": {
   "display_name": "Python 3 (ipykernel)",
   "language": "python",
   "name": "python3"
  },
  "language_info": {
   "codemirror_mode": {
    "name": "ipython",
    "version": 3
   },
   "file_extension": ".py",
   "mimetype": "text/x-python",
   "name": "python",
   "nbconvert_exporter": "python",
   "pygments_lexer": "ipython3",
   "version": "3.12.4"
  }
 },
 "nbformat": 4,
 "nbformat_minor": 5
}
